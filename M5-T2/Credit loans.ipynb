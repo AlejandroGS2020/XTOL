{
 "cells": [
  {
   "cell_type": "code",
   "execution_count": 1,
   "metadata": {},
   "outputs": [],
   "source": [
    "#import libraries\n",
    "import pandas as pd\n",
    "import seaborn as sns \n",
    "import matplotlib.pyplot as plt\n",
    "import numpy as np"
   ]
  },
  {
   "cell_type": "code",
   "execution_count": 2,
   "metadata": {
    "scrolled": true
   },
   "outputs": [],
   "source": [
    "#load the data in a variable named 'credit', removing the first row (ID) and the first column(list of X values).\n",
    "credit = pd.read_csv(r'C:\\Alejandro\\Big Data & Data Analytics\\Course 5 - Python\\Task 1 - Get Started with Data Science and Python\\default of credit card clients.csv',header=1, index_col=0)"
   ]
  },
  {
   "cell_type": "code",
   "execution_count": 3,
   "metadata": {
    "scrolled": true
   },
   "outputs": [
    {
     "data": {
      "text/html": [
       "<div>\n",
       "<style scoped>\n",
       "    .dataframe tbody tr th:only-of-type {\n",
       "        vertical-align: middle;\n",
       "    }\n",
       "\n",
       "    .dataframe tbody tr th {\n",
       "        vertical-align: top;\n",
       "    }\n",
       "\n",
       "    .dataframe thead th {\n",
       "        text-align: right;\n",
       "    }\n",
       "</style>\n",
       "<table border=\"1\" class=\"dataframe\">\n",
       "  <thead>\n",
       "    <tr style=\"text-align: right;\">\n",
       "      <th></th>\n",
       "      <th>LIMIT_BAL</th>\n",
       "      <th>SEX</th>\n",
       "      <th>EDUCATION</th>\n",
       "      <th>MARRIAGE</th>\n",
       "      <th>AGE</th>\n",
       "      <th>PAY_0</th>\n",
       "      <th>PAY_2</th>\n",
       "      <th>PAY_3</th>\n",
       "      <th>PAY_4</th>\n",
       "      <th>PAY_5</th>\n",
       "      <th>...</th>\n",
       "      <th>BILL_AMT4</th>\n",
       "      <th>BILL_AMT5</th>\n",
       "      <th>BILL_AMT6</th>\n",
       "      <th>PAY_AMT1</th>\n",
       "      <th>PAY_AMT2</th>\n",
       "      <th>PAY_AMT3</th>\n",
       "      <th>PAY_AMT4</th>\n",
       "      <th>PAY_AMT5</th>\n",
       "      <th>PAY_AMT6</th>\n",
       "      <th>default payment next month</th>\n",
       "    </tr>\n",
       "    <tr>\n",
       "      <th>ID</th>\n",
       "      <th></th>\n",
       "      <th></th>\n",
       "      <th></th>\n",
       "      <th></th>\n",
       "      <th></th>\n",
       "      <th></th>\n",
       "      <th></th>\n",
       "      <th></th>\n",
       "      <th></th>\n",
       "      <th></th>\n",
       "      <th></th>\n",
       "      <th></th>\n",
       "      <th></th>\n",
       "      <th></th>\n",
       "      <th></th>\n",
       "      <th></th>\n",
       "      <th></th>\n",
       "      <th></th>\n",
       "      <th></th>\n",
       "      <th></th>\n",
       "      <th></th>\n",
       "    </tr>\n",
       "  </thead>\n",
       "  <tbody>\n",
       "    <tr>\n",
       "      <td>1</td>\n",
       "      <td>20000</td>\n",
       "      <td>2</td>\n",
       "      <td>2</td>\n",
       "      <td>1</td>\n",
       "      <td>24</td>\n",
       "      <td>2</td>\n",
       "      <td>2</td>\n",
       "      <td>-1</td>\n",
       "      <td>-1</td>\n",
       "      <td>-2</td>\n",
       "      <td>...</td>\n",
       "      <td>0</td>\n",
       "      <td>0</td>\n",
       "      <td>0</td>\n",
       "      <td>0</td>\n",
       "      <td>689</td>\n",
       "      <td>0</td>\n",
       "      <td>0</td>\n",
       "      <td>0</td>\n",
       "      <td>0</td>\n",
       "      <td>1</td>\n",
       "    </tr>\n",
       "    <tr>\n",
       "      <td>2</td>\n",
       "      <td>120000</td>\n",
       "      <td>2</td>\n",
       "      <td>2</td>\n",
       "      <td>2</td>\n",
       "      <td>26</td>\n",
       "      <td>-1</td>\n",
       "      <td>2</td>\n",
       "      <td>0</td>\n",
       "      <td>0</td>\n",
       "      <td>0</td>\n",
       "      <td>...</td>\n",
       "      <td>3272</td>\n",
       "      <td>3455</td>\n",
       "      <td>3261</td>\n",
       "      <td>0</td>\n",
       "      <td>1000</td>\n",
       "      <td>1000</td>\n",
       "      <td>1000</td>\n",
       "      <td>0</td>\n",
       "      <td>2000</td>\n",
       "      <td>1</td>\n",
       "    </tr>\n",
       "    <tr>\n",
       "      <td>3</td>\n",
       "      <td>90000</td>\n",
       "      <td>2</td>\n",
       "      <td>2</td>\n",
       "      <td>2</td>\n",
       "      <td>34</td>\n",
       "      <td>0</td>\n",
       "      <td>0</td>\n",
       "      <td>0</td>\n",
       "      <td>0</td>\n",
       "      <td>0</td>\n",
       "      <td>...</td>\n",
       "      <td>14331</td>\n",
       "      <td>14948</td>\n",
       "      <td>15549</td>\n",
       "      <td>1518</td>\n",
       "      <td>1500</td>\n",
       "      <td>1000</td>\n",
       "      <td>1000</td>\n",
       "      <td>1000</td>\n",
       "      <td>5000</td>\n",
       "      <td>0</td>\n",
       "    </tr>\n",
       "    <tr>\n",
       "      <td>4</td>\n",
       "      <td>50000</td>\n",
       "      <td>2</td>\n",
       "      <td>2</td>\n",
       "      <td>1</td>\n",
       "      <td>37</td>\n",
       "      <td>0</td>\n",
       "      <td>0</td>\n",
       "      <td>0</td>\n",
       "      <td>0</td>\n",
       "      <td>0</td>\n",
       "      <td>...</td>\n",
       "      <td>28314</td>\n",
       "      <td>28959</td>\n",
       "      <td>29547</td>\n",
       "      <td>2000</td>\n",
       "      <td>2019</td>\n",
       "      <td>1200</td>\n",
       "      <td>1100</td>\n",
       "      <td>1069</td>\n",
       "      <td>1000</td>\n",
       "      <td>0</td>\n",
       "    </tr>\n",
       "    <tr>\n",
       "      <td>5</td>\n",
       "      <td>50000</td>\n",
       "      <td>1</td>\n",
       "      <td>2</td>\n",
       "      <td>1</td>\n",
       "      <td>57</td>\n",
       "      <td>-1</td>\n",
       "      <td>0</td>\n",
       "      <td>-1</td>\n",
       "      <td>0</td>\n",
       "      <td>0</td>\n",
       "      <td>...</td>\n",
       "      <td>20940</td>\n",
       "      <td>19146</td>\n",
       "      <td>19131</td>\n",
       "      <td>2000</td>\n",
       "      <td>36681</td>\n",
       "      <td>10000</td>\n",
       "      <td>9000</td>\n",
       "      <td>689</td>\n",
       "      <td>679</td>\n",
       "      <td>0</td>\n",
       "    </tr>\n",
       "  </tbody>\n",
       "</table>\n",
       "<p>5 rows × 24 columns</p>\n",
       "</div>"
      ],
      "text/plain": [
       "    LIMIT_BAL  SEX  EDUCATION  MARRIAGE  AGE  PAY_0  PAY_2  PAY_3  PAY_4  \\\n",
       "ID                                                                         \n",
       "1       20000    2          2         1   24      2      2     -1     -1   \n",
       "2      120000    2          2         2   26     -1      2      0      0   \n",
       "3       90000    2          2         2   34      0      0      0      0   \n",
       "4       50000    2          2         1   37      0      0      0      0   \n",
       "5       50000    1          2         1   57     -1      0     -1      0   \n",
       "\n",
       "    PAY_5  ...  BILL_AMT4  BILL_AMT5  BILL_AMT6  PAY_AMT1  PAY_AMT2  PAY_AMT3  \\\n",
       "ID         ...                                                                  \n",
       "1      -2  ...          0          0          0         0       689         0   \n",
       "2       0  ...       3272       3455       3261         0      1000      1000   \n",
       "3       0  ...      14331      14948      15549      1518      1500      1000   \n",
       "4       0  ...      28314      28959      29547      2000      2019      1200   \n",
       "5       0  ...      20940      19146      19131      2000     36681     10000   \n",
       "\n",
       "    PAY_AMT4  PAY_AMT5  PAY_AMT6  default payment next month  \n",
       "ID                                                            \n",
       "1          0         0         0                           1  \n",
       "2       1000         0      2000                           1  \n",
       "3       1000      1000      5000                           0  \n",
       "4       1100      1069      1000                           0  \n",
       "5       9000       689       679                           0  \n",
       "\n",
       "[5 rows x 24 columns]"
      ]
     },
     "execution_count": 3,
     "metadata": {},
     "output_type": "execute_result"
    }
   ],
   "source": [
    "#Take a look at the resulting dataframe.\n",
    "credit.head()"
   ]
  },
  {
   "cell_type": "code",
   "execution_count": 4,
   "metadata": {
    "scrolled": false
   },
   "outputs": [
    {
     "data": {
      "text/html": [
       "<div>\n",
       "<style scoped>\n",
       "    .dataframe tbody tr th:only-of-type {\n",
       "        vertical-align: middle;\n",
       "    }\n",
       "\n",
       "    .dataframe tbody tr th {\n",
       "        vertical-align: top;\n",
       "    }\n",
       "\n",
       "    .dataframe thead th {\n",
       "        text-align: right;\n",
       "    }\n",
       "</style>\n",
       "<table border=\"1\" class=\"dataframe\">\n",
       "  <thead>\n",
       "    <tr style=\"text-align: right;\">\n",
       "      <th></th>\n",
       "      <th>LIMIT_BAL</th>\n",
       "      <th>SEX</th>\n",
       "      <th>EDUCATION</th>\n",
       "      <th>MARRIAGE</th>\n",
       "      <th>AGE</th>\n",
       "      <th>PAY_0</th>\n",
       "      <th>PAY_2</th>\n",
       "      <th>PAY_3</th>\n",
       "      <th>PAY_4</th>\n",
       "      <th>PAY_5</th>\n",
       "      <th>...</th>\n",
       "      <th>BILL_AMT4</th>\n",
       "      <th>BILL_AMT5</th>\n",
       "      <th>BILL_AMT6</th>\n",
       "      <th>PAY_AMT1</th>\n",
       "      <th>PAY_AMT2</th>\n",
       "      <th>PAY_AMT3</th>\n",
       "      <th>PAY_AMT4</th>\n",
       "      <th>PAY_AMT5</th>\n",
       "      <th>PAY_AMT6</th>\n",
       "      <th>default payment next month</th>\n",
       "    </tr>\n",
       "  </thead>\n",
       "  <tbody>\n",
       "    <tr>\n",
       "      <td>count</td>\n",
       "      <td>30000.000000</td>\n",
       "      <td>30000.000000</td>\n",
       "      <td>30000.000000</td>\n",
       "      <td>30000.000000</td>\n",
       "      <td>30000.000000</td>\n",
       "      <td>30000.000000</td>\n",
       "      <td>30000.000000</td>\n",
       "      <td>30000.000000</td>\n",
       "      <td>30000.000000</td>\n",
       "      <td>30000.000000</td>\n",
       "      <td>...</td>\n",
       "      <td>30000.000000</td>\n",
       "      <td>30000.000000</td>\n",
       "      <td>30000.000000</td>\n",
       "      <td>30000.000000</td>\n",
       "      <td>3.000000e+04</td>\n",
       "      <td>30000.00000</td>\n",
       "      <td>30000.000000</td>\n",
       "      <td>30000.000000</td>\n",
       "      <td>30000.000000</td>\n",
       "      <td>30000.000000</td>\n",
       "    </tr>\n",
       "    <tr>\n",
       "      <td>mean</td>\n",
       "      <td>167484.322667</td>\n",
       "      <td>1.603733</td>\n",
       "      <td>1.853133</td>\n",
       "      <td>1.551867</td>\n",
       "      <td>35.485500</td>\n",
       "      <td>-0.016700</td>\n",
       "      <td>-0.133767</td>\n",
       "      <td>-0.166200</td>\n",
       "      <td>-0.220667</td>\n",
       "      <td>-0.266200</td>\n",
       "      <td>...</td>\n",
       "      <td>43262.948967</td>\n",
       "      <td>40311.400967</td>\n",
       "      <td>38871.760400</td>\n",
       "      <td>5663.580500</td>\n",
       "      <td>5.921163e+03</td>\n",
       "      <td>5225.68150</td>\n",
       "      <td>4826.076867</td>\n",
       "      <td>4799.387633</td>\n",
       "      <td>5215.502567</td>\n",
       "      <td>0.221200</td>\n",
       "    </tr>\n",
       "    <tr>\n",
       "      <td>std</td>\n",
       "      <td>129747.661567</td>\n",
       "      <td>0.489129</td>\n",
       "      <td>0.790349</td>\n",
       "      <td>0.521970</td>\n",
       "      <td>9.217904</td>\n",
       "      <td>1.123802</td>\n",
       "      <td>1.197186</td>\n",
       "      <td>1.196868</td>\n",
       "      <td>1.169139</td>\n",
       "      <td>1.133187</td>\n",
       "      <td>...</td>\n",
       "      <td>64332.856134</td>\n",
       "      <td>60797.155770</td>\n",
       "      <td>59554.107537</td>\n",
       "      <td>16563.280354</td>\n",
       "      <td>2.304087e+04</td>\n",
       "      <td>17606.96147</td>\n",
       "      <td>15666.159744</td>\n",
       "      <td>15278.305679</td>\n",
       "      <td>17777.465775</td>\n",
       "      <td>0.415062</td>\n",
       "    </tr>\n",
       "    <tr>\n",
       "      <td>min</td>\n",
       "      <td>10000.000000</td>\n",
       "      <td>1.000000</td>\n",
       "      <td>0.000000</td>\n",
       "      <td>0.000000</td>\n",
       "      <td>21.000000</td>\n",
       "      <td>-2.000000</td>\n",
       "      <td>-2.000000</td>\n",
       "      <td>-2.000000</td>\n",
       "      <td>-2.000000</td>\n",
       "      <td>-2.000000</td>\n",
       "      <td>...</td>\n",
       "      <td>-170000.000000</td>\n",
       "      <td>-81334.000000</td>\n",
       "      <td>-339603.000000</td>\n",
       "      <td>0.000000</td>\n",
       "      <td>0.000000e+00</td>\n",
       "      <td>0.00000</td>\n",
       "      <td>0.000000</td>\n",
       "      <td>0.000000</td>\n",
       "      <td>0.000000</td>\n",
       "      <td>0.000000</td>\n",
       "    </tr>\n",
       "    <tr>\n",
       "      <td>25%</td>\n",
       "      <td>50000.000000</td>\n",
       "      <td>1.000000</td>\n",
       "      <td>1.000000</td>\n",
       "      <td>1.000000</td>\n",
       "      <td>28.000000</td>\n",
       "      <td>-1.000000</td>\n",
       "      <td>-1.000000</td>\n",
       "      <td>-1.000000</td>\n",
       "      <td>-1.000000</td>\n",
       "      <td>-1.000000</td>\n",
       "      <td>...</td>\n",
       "      <td>2326.750000</td>\n",
       "      <td>1763.000000</td>\n",
       "      <td>1256.000000</td>\n",
       "      <td>1000.000000</td>\n",
       "      <td>8.330000e+02</td>\n",
       "      <td>390.00000</td>\n",
       "      <td>296.000000</td>\n",
       "      <td>252.500000</td>\n",
       "      <td>117.750000</td>\n",
       "      <td>0.000000</td>\n",
       "    </tr>\n",
       "    <tr>\n",
       "      <td>50%</td>\n",
       "      <td>140000.000000</td>\n",
       "      <td>2.000000</td>\n",
       "      <td>2.000000</td>\n",
       "      <td>2.000000</td>\n",
       "      <td>34.000000</td>\n",
       "      <td>0.000000</td>\n",
       "      <td>0.000000</td>\n",
       "      <td>0.000000</td>\n",
       "      <td>0.000000</td>\n",
       "      <td>0.000000</td>\n",
       "      <td>...</td>\n",
       "      <td>19052.000000</td>\n",
       "      <td>18104.500000</td>\n",
       "      <td>17071.000000</td>\n",
       "      <td>2100.000000</td>\n",
       "      <td>2.009000e+03</td>\n",
       "      <td>1800.00000</td>\n",
       "      <td>1500.000000</td>\n",
       "      <td>1500.000000</td>\n",
       "      <td>1500.000000</td>\n",
       "      <td>0.000000</td>\n",
       "    </tr>\n",
       "    <tr>\n",
       "      <td>75%</td>\n",
       "      <td>240000.000000</td>\n",
       "      <td>2.000000</td>\n",
       "      <td>2.000000</td>\n",
       "      <td>2.000000</td>\n",
       "      <td>41.000000</td>\n",
       "      <td>0.000000</td>\n",
       "      <td>0.000000</td>\n",
       "      <td>0.000000</td>\n",
       "      <td>0.000000</td>\n",
       "      <td>0.000000</td>\n",
       "      <td>...</td>\n",
       "      <td>54506.000000</td>\n",
       "      <td>50190.500000</td>\n",
       "      <td>49198.250000</td>\n",
       "      <td>5006.000000</td>\n",
       "      <td>5.000000e+03</td>\n",
       "      <td>4505.00000</td>\n",
       "      <td>4013.250000</td>\n",
       "      <td>4031.500000</td>\n",
       "      <td>4000.000000</td>\n",
       "      <td>0.000000</td>\n",
       "    </tr>\n",
       "    <tr>\n",
       "      <td>max</td>\n",
       "      <td>1000000.000000</td>\n",
       "      <td>2.000000</td>\n",
       "      <td>6.000000</td>\n",
       "      <td>3.000000</td>\n",
       "      <td>79.000000</td>\n",
       "      <td>8.000000</td>\n",
       "      <td>8.000000</td>\n",
       "      <td>8.000000</td>\n",
       "      <td>8.000000</td>\n",
       "      <td>8.000000</td>\n",
       "      <td>...</td>\n",
       "      <td>891586.000000</td>\n",
       "      <td>927171.000000</td>\n",
       "      <td>961664.000000</td>\n",
       "      <td>873552.000000</td>\n",
       "      <td>1.684259e+06</td>\n",
       "      <td>896040.00000</td>\n",
       "      <td>621000.000000</td>\n",
       "      <td>426529.000000</td>\n",
       "      <td>528666.000000</td>\n",
       "      <td>1.000000</td>\n",
       "    </tr>\n",
       "  </tbody>\n",
       "</table>\n",
       "<p>8 rows × 24 columns</p>\n",
       "</div>"
      ],
      "text/plain": [
       "            LIMIT_BAL           SEX     EDUCATION      MARRIAGE           AGE  \\\n",
       "count    30000.000000  30000.000000  30000.000000  30000.000000  30000.000000   \n",
       "mean    167484.322667      1.603733      1.853133      1.551867     35.485500   \n",
       "std     129747.661567      0.489129      0.790349      0.521970      9.217904   \n",
       "min      10000.000000      1.000000      0.000000      0.000000     21.000000   \n",
       "25%      50000.000000      1.000000      1.000000      1.000000     28.000000   \n",
       "50%     140000.000000      2.000000      2.000000      2.000000     34.000000   \n",
       "75%     240000.000000      2.000000      2.000000      2.000000     41.000000   \n",
       "max    1000000.000000      2.000000      6.000000      3.000000     79.000000   \n",
       "\n",
       "              PAY_0         PAY_2         PAY_3         PAY_4         PAY_5  \\\n",
       "count  30000.000000  30000.000000  30000.000000  30000.000000  30000.000000   \n",
       "mean      -0.016700     -0.133767     -0.166200     -0.220667     -0.266200   \n",
       "std        1.123802      1.197186      1.196868      1.169139      1.133187   \n",
       "min       -2.000000     -2.000000     -2.000000     -2.000000     -2.000000   \n",
       "25%       -1.000000     -1.000000     -1.000000     -1.000000     -1.000000   \n",
       "50%        0.000000      0.000000      0.000000      0.000000      0.000000   \n",
       "75%        0.000000      0.000000      0.000000      0.000000      0.000000   \n",
       "max        8.000000      8.000000      8.000000      8.000000      8.000000   \n",
       "\n",
       "       ...      BILL_AMT4      BILL_AMT5      BILL_AMT6       PAY_AMT1  \\\n",
       "count  ...   30000.000000   30000.000000   30000.000000   30000.000000   \n",
       "mean   ...   43262.948967   40311.400967   38871.760400    5663.580500   \n",
       "std    ...   64332.856134   60797.155770   59554.107537   16563.280354   \n",
       "min    ... -170000.000000  -81334.000000 -339603.000000       0.000000   \n",
       "25%    ...    2326.750000    1763.000000    1256.000000    1000.000000   \n",
       "50%    ...   19052.000000   18104.500000   17071.000000    2100.000000   \n",
       "75%    ...   54506.000000   50190.500000   49198.250000    5006.000000   \n",
       "max    ...  891586.000000  927171.000000  961664.000000  873552.000000   \n",
       "\n",
       "           PAY_AMT2      PAY_AMT3       PAY_AMT4       PAY_AMT5  \\\n",
       "count  3.000000e+04   30000.00000   30000.000000   30000.000000   \n",
       "mean   5.921163e+03    5225.68150    4826.076867    4799.387633   \n",
       "std    2.304087e+04   17606.96147   15666.159744   15278.305679   \n",
       "min    0.000000e+00       0.00000       0.000000       0.000000   \n",
       "25%    8.330000e+02     390.00000     296.000000     252.500000   \n",
       "50%    2.009000e+03    1800.00000    1500.000000    1500.000000   \n",
       "75%    5.000000e+03    4505.00000    4013.250000    4031.500000   \n",
       "max    1.684259e+06  896040.00000  621000.000000  426529.000000   \n",
       "\n",
       "            PAY_AMT6  default payment next month  \n",
       "count   30000.000000                30000.000000  \n",
       "mean     5215.502567                    0.221200  \n",
       "std     17777.465775                    0.415062  \n",
       "min         0.000000                    0.000000  \n",
       "25%       117.750000                    0.000000  \n",
       "50%      1500.000000                    0.000000  \n",
       "75%      4000.000000                    0.000000  \n",
       "max    528666.000000                    1.000000  \n",
       "\n",
       "[8 rows x 24 columns]"
      ]
     },
     "execution_count": 4,
     "metadata": {},
     "output_type": "execute_result"
    }
   ],
   "source": [
    "#Glimpse a summary of descriptive statistics for each feature.\n",
    "credit.describe()"
   ]
  },
  {
   "cell_type": "code",
   "execution_count": 5,
   "metadata": {},
   "outputs": [
    {
     "data": {
      "text/plain": [
       "Index(['LIMIT_BAL', 'SEX', 'EDUCATION', 'MARRIAGE', 'AGE', 'PAY_0', 'PAY_2',\n",
       "       'PAY_3', 'PAY_4', 'PAY_5', 'PAY_6', 'BILL_AMT1', 'BILL_AMT2',\n",
       "       'BILL_AMT3', 'BILL_AMT4', 'BILL_AMT5', 'BILL_AMT6', 'PAY_AMT1',\n",
       "       'PAY_AMT2', 'PAY_AMT3', 'PAY_AMT4', 'PAY_AMT5', 'PAY_AMT6',\n",
       "       'default payment next month'],\n",
       "      dtype='object')"
      ]
     },
     "execution_count": 5,
     "metadata": {},
     "output_type": "execute_result"
    }
   ],
   "source": [
    "#create a list of the column names, to assess if any need to be changed\n",
    "credit.columns"
   ]
  },
  {
   "cell_type": "code",
   "execution_count": 6,
   "metadata": {},
   "outputs": [],
   "source": [
    "#rename 'PAY_0' to maintain a logical sequence, and shorten the response variable.\n",
    "credit.columns = ['LIMIT_BAL', 'SEX', 'EDUCATION', 'MARRIAGE', 'AGE', 'PAY_1', 'PAY_2',\n",
    "       'PAY_3', 'PAY_4', 'PAY_5', 'PAY_6', 'BILL_AMT1', 'BILL_AMT2',\n",
    "       'BILL_AMT3', 'BILL_AMT4', 'BILL_AMT5', 'BILL_AMT6', 'PAY_AMT1',\n",
    "       'PAY_AMT2', 'PAY_AMT3', 'PAY_AMT4', 'PAY_AMT5', 'PAY_AMT6',\n",
    "       'default']"
   ]
  },
  {
   "cell_type": "code",
   "execution_count": 7,
   "metadata": {},
   "outputs": [
    {
     "data": {
      "text/plain": [
       "Index(['LIMIT_BAL', 'SEX', 'EDUCATION', 'MARRIAGE', 'AGE', 'PAY_1', 'PAY_2',\n",
       "       'PAY_3', 'PAY_4', 'PAY_5', 'PAY_6', 'BILL_AMT1', 'BILL_AMT2',\n",
       "       'BILL_AMT3', 'BILL_AMT4', 'BILL_AMT5', 'BILL_AMT6', 'PAY_AMT1',\n",
       "       'PAY_AMT2', 'PAY_AMT3', 'PAY_AMT4', 'PAY_AMT5', 'PAY_AMT6', 'default'],\n",
       "      dtype='object')"
      ]
     },
     "execution_count": 7,
     "metadata": {},
     "output_type": "execute_result"
    }
   ],
   "source": [
    "#verify the new column names.\n",
    "credit.columns"
   ]
  },
  {
   "cell_type": "code",
   "execution_count": 8,
   "metadata": {
    "scrolled": false
   },
   "outputs": [
    {
     "name": "stdout",
     "output_type": "stream",
     "text": [
      "<class 'pandas.core.frame.DataFrame'>\n",
      "Int64Index: 30000 entries, 1 to 30000\n",
      "Data columns (total 24 columns):\n",
      "LIMIT_BAL    30000 non-null int64\n",
      "SEX          30000 non-null int64\n",
      "EDUCATION    30000 non-null int64\n",
      "MARRIAGE     30000 non-null int64\n",
      "AGE          30000 non-null int64\n",
      "PAY_1        30000 non-null int64\n",
      "PAY_2        30000 non-null int64\n",
      "PAY_3        30000 non-null int64\n",
      "PAY_4        30000 non-null int64\n",
      "PAY_5        30000 non-null int64\n",
      "PAY_6        30000 non-null int64\n",
      "BILL_AMT1    30000 non-null int64\n",
      "BILL_AMT2    30000 non-null int64\n",
      "BILL_AMT3    30000 non-null int64\n",
      "BILL_AMT4    30000 non-null int64\n",
      "BILL_AMT5    30000 non-null int64\n",
      "BILL_AMT6    30000 non-null int64\n",
      "PAY_AMT1     30000 non-null int64\n",
      "PAY_AMT2     30000 non-null int64\n",
      "PAY_AMT3     30000 non-null int64\n",
      "PAY_AMT4     30000 non-null int64\n",
      "PAY_AMT5     30000 non-null int64\n",
      "PAY_AMT6     30000 non-null int64\n",
      "default      30000 non-null int64\n",
      "dtypes: int64(24)\n",
      "memory usage: 5.7 MB\n"
     ]
    }
   ],
   "source": [
    "#Check the dataframe structure and info.\n",
    "credit.info()"
   ]
  },
  {
   "cell_type": "code",
   "execution_count": 9,
   "metadata": {
    "scrolled": true
   },
   "outputs": [
    {
     "data": {
      "text/plain": [
       "0"
      ]
     },
     "execution_count": 9,
     "metadata": {},
     "output_type": "execute_result"
    }
   ],
   "source": [
    "credit.isnull().sum().sum() # Number of NULLs in the whole Data Frame"
   ]
  },
  {
   "cell_type": "code",
   "execution_count": 10,
   "metadata": {},
   "outputs": [
    {
     "data": {
      "text/plain": [
       "LIMIT_BAL    0\n",
       "SEX          0\n",
       "EDUCATION    0\n",
       "MARRIAGE     0\n",
       "AGE          0\n",
       "PAY_1        0\n",
       "PAY_2        0\n",
       "PAY_3        0\n",
       "PAY_4        0\n",
       "PAY_5        0\n",
       "PAY_6        0\n",
       "BILL_AMT1    0\n",
       "BILL_AMT2    0\n",
       "BILL_AMT3    0\n",
       "BILL_AMT4    0\n",
       "BILL_AMT5    0\n",
       "BILL_AMT6    0\n",
       "PAY_AMT1     0\n",
       "PAY_AMT2     0\n",
       "PAY_AMT3     0\n",
       "PAY_AMT4     0\n",
       "PAY_AMT5     0\n",
       "PAY_AMT6     0\n",
       "default      0\n",
       "dtype: int64"
      ]
     },
     "execution_count": 10,
     "metadata": {},
     "output_type": "execute_result"
    }
   ],
   "source": [
    "#Check for any missing values in each of the features (double check). No missing values were identified.\n",
    "credit.isnull().sum()"
   ]
  },
  {
   "cell_type": "code",
   "execution_count": 11,
   "metadata": {},
   "outputs": [],
   "source": [
    "#Convert columns to their proper data type\n",
    "credit.SEX = credit.SEX.astype('category')\n",
    "credit.EDUCATION = credit.EDUCATION.astype('category')\n",
    "credit.MARRIAGE = credit.MARRIAGE.astype('category')\n",
    "credit.AGE = credit.AGE.astype('int')\n",
    "credit.PAY_1 = credit.PAY_1.astype('category')\n",
    "credit.PAY_2 = credit.PAY_2.astype('category')\n",
    "credit.PAY_3 = credit.PAY_3.astype('category')\n",
    "credit.PAY_4 = credit.PAY_4.astype('category')\n",
    "credit.PAY_5 = credit.PAY_5.astype('category')\n",
    "credit.PAY_6 = credit.PAY_6.astype('category')\n",
    "credit.default = credit.default.astype('category')"
   ]
  },
  {
   "cell_type": "code",
   "execution_count": 12,
   "metadata": {
    "scrolled": false
   },
   "outputs": [
    {
     "name": "stdout",
     "output_type": "stream",
     "text": [
      "<class 'pandas.core.frame.DataFrame'>\n",
      "Int64Index: 30000 entries, 1 to 30000\n",
      "Data columns (total 24 columns):\n",
      "LIMIT_BAL    30000 non-null int64\n",
      "SEX          30000 non-null category\n",
      "EDUCATION    30000 non-null category\n",
      "MARRIAGE     30000 non-null category\n",
      "AGE          30000 non-null int32\n",
      "PAY_1        30000 non-null category\n",
      "PAY_2        30000 non-null category\n",
      "PAY_3        30000 non-null category\n",
      "PAY_4        30000 non-null category\n",
      "PAY_5        30000 non-null category\n",
      "PAY_6        30000 non-null category\n",
      "BILL_AMT1    30000 non-null int64\n",
      "BILL_AMT2    30000 non-null int64\n",
      "BILL_AMT3    30000 non-null int64\n",
      "BILL_AMT4    30000 non-null int64\n",
      "BILL_AMT5    30000 non-null int64\n",
      "BILL_AMT6    30000 non-null int64\n",
      "PAY_AMT1     30000 non-null int64\n",
      "PAY_AMT2     30000 non-null int64\n",
      "PAY_AMT3     30000 non-null int64\n",
      "PAY_AMT4     30000 non-null int64\n",
      "PAY_AMT5     30000 non-null int64\n",
      "PAY_AMT6     30000 non-null int64\n",
      "default      30000 non-null category\n",
      "dtypes: category(10), int32(1), int64(13)\n",
      "memory usage: 3.6 MB\n"
     ]
    }
   ],
   "source": [
    "#Check the dataframe new structure and info. This also lowered the memory usage.\n",
    "credit.info()"
   ]
  },
  {
   "cell_type": "code",
   "execution_count": 13,
   "metadata": {
    "scrolled": true
   },
   "outputs": [
    {
     "data": {
      "text/plain": [
       "2    18112\n",
       "1    11888\n",
       "Name: SEX, dtype: int64"
      ]
     },
     "execution_count": 13,
     "metadata": {},
     "output_type": "execute_result"
    }
   ],
   "source": [
    "credit['SEX'].value_counts()"
   ]
  },
  {
   "cell_type": "code",
   "execution_count": 14,
   "metadata": {},
   "outputs": [
    {
     "data": {
      "text/plain": [
       "Female    18112\n",
       "Male      11888\n",
       "Name: SEX, dtype: int64"
      ]
     },
     "execution_count": 14,
     "metadata": {},
     "output_type": "execute_result"
    }
   ],
   "source": [
    "#Recode the SEX variable from 1 & 2 to 'Male' & 'Female'\n",
    "def recodeG(gender):\n",
    "    if gender == 1:\n",
    "        return 'Male'\n",
    "    else:\n",
    "        return 'Female'\n",
    "\n",
    "credit['SEX'] = credit['SEX'].apply(recodeG)\n",
    "        \n",
    "credit['SEX'].value_counts() #check value results"
   ]
  },
  {
   "cell_type": "code",
   "execution_count": 15,
   "metadata": {
    "scrolled": false
   },
   "outputs": [
    {
     "data": {
      "text/plain": [
       "<seaborn.axisgrid.FacetGrid at 0x259b3e41f08>"
      ]
     },
     "execution_count": 15,
     "metadata": {},
     "output_type": "execute_result"
    },
    {
     "data": {
      "image/png": "[encoded data removed]",
      "text/plain": [
       "<Figure size 432.625x360 with 1 Axes>"
      ]
     },
     "metadata": {
      "needs_background": "light"
     },
     "output_type": "display_data"
    }
   ],
   "source": [
    "# default vs. education Grouped by gender\n",
    "credit['default'] = credit['default'].astype('int')\n",
    "sns.catplot('EDUCATION','default', hue='SEX', data=credit, kind='point')"
   ]
  },
  {
   "cell_type": "code",
   "execution_count": 16,
   "metadata": {
    "scrolled": false
   },
   "outputs": [
    {
     "data": {
      "text/plain": [
       "<seaborn.axisgrid.FacetGrid at 0x259b54d0388>"
      ]
     },
     "execution_count": 16,
     "metadata": {},
     "output_type": "execute_result"
    },
    {
     "data": {
      "image/png": "[encoded data removed]",
      "text/plain": [
       "<Figure size 432.625x360 with 1 Axes>"
      ]
     },
     "metadata": {
      "needs_background": "light"
     },
     "output_type": "display_data"
    }
   ],
   "source": [
    "# default vs. marriage Grouped by gender\n",
    "sns.catplot('MARRIAGE','default', hue='SEX', data=credit, kind='point')"
   ]
  },
  {
   "cell_type": "code",
   "execution_count": 17,
   "metadata": {},
   "outputs": [
    {
     "data": {
      "text/plain": [
       "0    23364\n",
       "1     6636\n",
       "Name: default, dtype: int64"
      ]
     },
     "execution_count": 17,
     "metadata": {},
     "output_type": "execute_result"
    }
   ],
   "source": [
    "credit['default'].value_counts()"
   ]
  },
  {
   "cell_type": "code",
   "execution_count": 18,
   "metadata": {},
   "outputs": [
    {
     "data": {
      "text/plain": [
       "No     23364\n",
       "Yes     6636\n",
       "Name: default, dtype: int64"
      ]
     },
     "execution_count": 18,
     "metadata": {},
     "output_type": "execute_result"
    }
   ],
   "source": [
    "#Recode the default variable from 0 & 1 to 'No' & 'Yes'\n",
    "def recode(series):\n",
    "    if series == 0:\n",
    "        return 'No'\n",
    "    else:\n",
    "        return 'Yes'\n",
    "\n",
    "credit['default'] = credit['default'].apply(recode)\n",
    "        \n",
    "credit['default'].value_counts() #check value results"
   ]
  },
  {
   "cell_type": "code",
   "execution_count": 19,
   "metadata": {},
   "outputs": [
    {
     "data": {
      "text/plain": [
       "2    15964\n",
       "1    13659\n",
       "3      323\n",
       "0       54\n",
       "Name: MARRIAGE, dtype: int64"
      ]
     },
     "execution_count": 19,
     "metadata": {},
     "output_type": "execute_result"
    }
   ],
   "source": [
    "credit['MARRIAGE'].value_counts()"
   ]
  },
  {
   "cell_type": "code",
   "execution_count": 20,
   "metadata": {},
   "outputs": [
    {
     "data": {
      "text/plain": [
       "Single      15964\n",
       "Married     13659\n",
       "Divorced      323\n",
       "Other          54\n",
       "Name: MARRIAGE, dtype: int64"
      ]
     },
     "execution_count": 20,
     "metadata": {},
     "output_type": "execute_result"
    }
   ],
   "source": [
    "#Recode the MARRIAGE variable from 0, 1, 2 & 3 to 'Other', 'Married', 'Single', 'Divorced'\n",
    "def recodeM(mar_stat):\n",
    "    if mar_stat == 0:\n",
    "        return 'Other'\n",
    "    if mar_stat == 1:\n",
    "        return 'Married'\n",
    "    if mar_stat == 2:\n",
    "        return 'Single'\n",
    "    else:\n",
    "        return 'Divorced'\n",
    "\n",
    "credit['MARRIAGE'] = credit['MARRIAGE'].apply(recodeM)\n",
    "        \n",
    "credit['MARRIAGE'].value_counts() #check value results"
   ]
  },
  {
   "cell_type": "code",
   "execution_count": 21,
   "metadata": {},
   "outputs": [],
   "source": [
    "#Export the cleaned dataframe to a new CSV file.\n",
    "credit.to_csv(r'C:\\Alejandro\\Big Data & Data Analytics\\Course 5 - Python\\Task 2 - Prepare and Explore the Data\\CLEAN credit card clients.csv', encoding='utf-8', index=False)"
   ]
  },
  {
   "cell_type": "code",
   "execution_count": 22,
   "metadata": {},
   "outputs": [],
   "source": [
    "# EXPLORATORY DATA ANALYSIS"
   ]
  },
  {
   "cell_type": "code",
   "execution_count": 23,
   "metadata": {},
   "outputs": [
    {
     "name": "stdout",
     "output_type": "stream",
     "text": [
      "Index(['LIMIT_BAL', 'SEX', 'EDUCATION', 'MARRIAGE', 'AGE', 'PAY_1', 'PAY_2',\n",
      "       'PAY_3', 'PAY_4', 'PAY_5', 'PAY_6', 'BILL_AMT1', 'BILL_AMT2',\n",
      "       'BILL_AMT3', 'BILL_AMT4', 'BILL_AMT5', 'BILL_AMT6', 'PAY_AMT1',\n",
      "       'PAY_AMT2', 'PAY_AMT3', 'PAY_AMT4', 'PAY_AMT5', 'PAY_AMT6', 'default'],\n",
      "      dtype='object')\n"
     ]
    }
   ],
   "source": [
    "#Print the column names to reference them in the plotting functions ahead.\n",
    "header = credit.dtypes.index\n",
    "print(header)"
   ]
  },
  {
   "cell_type": "code",
   "execution_count": 24,
   "metadata": {},
   "outputs": [
    {
     "data": {
      "image/png": "[encoded data removed]",
      "text/plain": [
       "<Figure size 432x288 with 1 Axes>"
      ]
     },
     "metadata": {
      "needs_background": "light"
     },
     "output_type": "display_data"
    }
   ],
   "source": [
    "#Create a histogram for the Limit Balance column\n",
    "plt.hist(credit['LIMIT_BAL'])\n",
    "plt.show()"
   ]
  },
  {
   "cell_type": "code",
   "execution_count": 25,
   "metadata": {},
   "outputs": [
    {
     "data": {
      "text/plain": [
       "(array([2.3283e+04, 6.5110e+03, 2.0000e+02, 6.0000e+00]),\n",
       " array([  10000.,  257500.,  505000.,  752500., 1000000.]),\n",
       " <a list of 4 Patch objects>)"
      ]
     },
     "execution_count": 25,
     "metadata": {},
     "output_type": "execute_result"
    },
    {
     "data": {
      "image/png": "[encoded data removed]",
      "text/plain": [
       "<Figure size 432x288 with 1 Axes>"
      ]
     },
     "metadata": {
      "needs_background": "light"
     },
     "output_type": "display_data"
    }
   ],
   "source": [
    "#ReCreate the histogram for the Limit Balance column with a specified number of bins\n",
    "plt.hist(credit['LIMIT_BAL'], bins=4)"
   ]
  },
  {
   "cell_type": "code",
   "execution_count": 26,
   "metadata": {},
   "outputs": [
    {
     "data": {
      "image/png": "[encoded data removed]",
      "text/plain": [
       "<Figure size 432x288 with 1 Axes>"
      ]
     },
     "metadata": {
      "needs_background": "light"
     },
     "output_type": "display_data"
    }
   ],
   "source": [
    "#Add labels to the histogram\n",
    "plt.hist(credit['LIMIT_BAL'])\n",
    "plt.xlabel('Credit Granted (in Dollars)')\n",
    "plt.ylabel('Frequency')\n",
    "plt.title('Credit Distribution')\n",
    "plt.show()"
   ]
  },
  {
   "cell_type": "code",
   "execution_count": 27,
   "metadata": {},
   "outputs": [
    {
     "data": {
      "text/plain": [
       "<matplotlib.axes._subplots.AxesSubplot at 0x259b5e05ec8>"
      ]
     },
     "execution_count": 27,
     "metadata": {},
     "output_type": "execute_result"
    },
    {
     "data": {
      "image/png": "[encoded data removed]",
      "text/plain": [
       "<Figure size 432x288 with 1 Axes>"
      ]
     },
     "metadata": {
      "needs_background": "light"
     },
     "output_type": "display_data"
    }
   ],
   "source": [
    "# Plot a histogram of AGE\n",
    "credit['AGE'].hist(bins=12)"
   ]
  },
  {
   "cell_type": "code",
   "execution_count": 28,
   "metadata": {
    "scrolled": true
   },
   "outputs": [
    {
     "data": {
      "image/png": "[encoded data removed]",
      "text/plain": [
       "<Figure size 432x288 with 1 Axes>"
      ]
     },
     "metadata": {
      "needs_background": "light"
     },
     "output_type": "display_data"
    }
   ],
   "source": [
    "#Create a Line Plot\n",
    "plt.plot(credit['LIMIT_BAL'])\n",
    "plt.xlabel('Count of credits')\n",
    "plt.ylabel('Credit Amount (in Dollars)')\n",
    "plt.title('Credit Distribution')\n",
    "plt.show()"
   ]
  },
  {
   "cell_type": "code",
   "execution_count": 29,
   "metadata": {},
   "outputs": [],
   "source": [
    "x = credit['PAY_1']\n",
    "y = credit['PAY_2']"
   ]
  },
  {
   "cell_type": "code",
   "execution_count": 30,
   "metadata": {},
   "outputs": [
    {
     "data": {
      "image/png": "[encoded data removed]",
      "text/plain": [
       "<Figure size 432x288 with 1 Axes>"
      ]
     },
     "metadata": {
      "needs_background": "light"
     },
     "output_type": "display_data"
    }
   ],
   "source": [
    "#Create a scatter plot for PAY_1 and PAY_2\n",
    "plt.scatter(x,y)\n",
    "plt.show()"
   ]
  },
  {
   "cell_type": "code",
   "execution_count": 31,
   "metadata": {},
   "outputs": [
    {
     "data": {
      "image/png": "[encoded data removed]",
      "text/plain": [
       "<Figure size 432x288 with 1 Axes>"
      ]
     },
     "metadata": {
      "needs_background": "light"
     },
     "output_type": "display_data"
    }
   ],
   "source": [
    "#Create a box plot for BILL_AMT1\n",
    "A = credit['BILL_AMT1']\n",
    "plt.boxplot(A,0,'gD')\n",
    "plt.show()"
   ]
  },
  {
   "cell_type": "code",
   "execution_count": 32,
   "metadata": {
    "scrolled": false
   },
   "outputs": [
    {
     "name": "stdout",
     "output_type": "stream",
     "text": [
      "           LIMIT_BAL       AGE  BILL_AMT1  BILL_AMT2  BILL_AMT3  BILL_AMT4  \\\n",
      "LIMIT_BAL   1.000000  0.144713   0.285430   0.278314   0.283236   0.293988   \n",
      "AGE         0.144713  1.000000   0.056239   0.054283   0.053710   0.051353   \n",
      "BILL_AMT1   0.285430  0.056239   1.000000   0.951484   0.892279   0.860272   \n",
      "BILL_AMT2   0.278314  0.054283   0.951484   1.000000   0.928326   0.892482   \n",
      "BILL_AMT3   0.283236  0.053710   0.892279   0.928326   1.000000   0.923969   \n",
      "BILL_AMT4   0.293988  0.051353   0.860272   0.892482   0.923969   1.000000   \n",
      "BILL_AMT5   0.295562  0.049345   0.829779   0.859778   0.883910   0.940134   \n",
      "BILL_AMT6   0.290389  0.047613   0.802650   0.831594   0.853320   0.900941   \n",
      "PAY_AMT1    0.195236  0.026147   0.140277   0.280365   0.244335   0.233012   \n",
      "PAY_AMT2    0.178408  0.021785   0.099355   0.100851   0.316936   0.207564   \n",
      "PAY_AMT3    0.210167  0.029247   0.156887   0.150718   0.130011   0.300023   \n",
      "PAY_AMT4    0.203242  0.021379   0.158303   0.147398   0.143405   0.130191   \n",
      "PAY_AMT5    0.217202  0.022850   0.167026   0.157957   0.179712   0.160433   \n",
      "PAY_AMT6    0.219595  0.019478   0.179341   0.174256   0.182326   0.177637   \n",
      "\n",
      "           BILL_AMT5  BILL_AMT6  PAY_AMT1  PAY_AMT2  PAY_AMT3  PAY_AMT4  \\\n",
      "LIMIT_BAL   0.295562   0.290389  0.195236  0.178408  0.210167  0.203242   \n",
      "AGE         0.049345   0.047613  0.026147  0.021785  0.029247  0.021379   \n",
      "BILL_AMT1   0.829779   0.802650  0.140277  0.099355  0.156887  0.158303   \n",
      "BILL_AMT2   0.859778   0.831594  0.280365  0.100851  0.150718  0.147398   \n",
      "BILL_AMT3   0.883910   0.853320  0.244335  0.316936  0.130011  0.143405   \n",
      "BILL_AMT4   0.940134   0.900941  0.233012  0.207564  0.300023  0.130191   \n",
      "BILL_AMT5   1.000000   0.946197  0.217031  0.181246  0.252305  0.293118   \n",
      "BILL_AMT6   0.946197   1.000000  0.199965  0.172663  0.233770  0.250237   \n",
      "PAY_AMT1    0.217031   0.199965  1.000000  0.285576  0.252191  0.199558   \n",
      "PAY_AMT2    0.181246   0.172663  0.285576  1.000000  0.244770  0.180107   \n",
      "PAY_AMT3    0.252305   0.233770  0.252191  0.244770  1.000000  0.216325   \n",
      "PAY_AMT4    0.293118   0.250237  0.199558  0.180107  0.216325  1.000000   \n",
      "PAY_AMT5    0.141574   0.307729  0.148459  0.180908  0.159214  0.151830   \n",
      "PAY_AMT6    0.164184   0.115494  0.185735  0.157634  0.162740  0.157834   \n",
      "\n",
      "           PAY_AMT5  PAY_AMT6  \n",
      "LIMIT_BAL  0.217202  0.219595  \n",
      "AGE        0.022850  0.019478  \n",
      "BILL_AMT1  0.167026  0.179341  \n",
      "BILL_AMT2  0.157957  0.174256  \n",
      "BILL_AMT3  0.179712  0.182326  \n",
      "BILL_AMT4  0.160433  0.177637  \n",
      "BILL_AMT5  0.141574  0.164184  \n",
      "BILL_AMT6  0.307729  0.115494  \n",
      "PAY_AMT1   0.148459  0.185735  \n",
      "PAY_AMT2   0.180908  0.157634  \n",
      "PAY_AMT3   0.159214  0.162740  \n",
      "PAY_AMT4   0.151830  0.157834  \n",
      "PAY_AMT5   1.000000  0.154896  \n",
      "PAY_AMT6   0.154896  1.000000  \n"
     ]
    }
   ],
   "source": [
    "#Create a correlation matrix\n",
    "corrMat = credit.corr()\n",
    "print(corrMat)"
   ]
  },
  {
   "cell_type": "code",
   "execution_count": 33,
   "metadata": {},
   "outputs": [
    {
     "data": {
      "text/html": [
       "<style  type=\"text/css\" >\n",
       "    #T_926f9894_5c44_11ea_a87d_bc8385f39641row0_col0 {\n",
       "            background-color:  #800000;\n",
       "            color:  #f1f1f1;\n",
       "        }    #T_926f9894_5c44_11ea_a87d_bc8385f39641row0_col1 {\n",
       "            background-color:  #0000ff;\n",
       "            color:  #f1f1f1;\n",
       "        }    #T_926f9894_5c44_11ea_a87d_bc8385f39641row0_col2 {\n",
       "            background-color:  #0078ff;\n",
       "            color:  #f1f1f1;\n",
       "        }    #T_926f9894_5c44_11ea_a87d_bc8385f39641row0_col3 {\n",
       "            background-color:  #0070ff;\n",
       "            color:  #f1f1f1;\n",
       "        }    #T_926f9894_5c44_11ea_a87d_bc8385f39641row0_col4 {\n",
       "            background-color:  #0078ff;\n",
       "            color:  #f1f1f1;\n",
       "        }    #T_926f9894_5c44_11ea_a87d_bc8385f39641row0_col5 {\n",
       "            background-color:  #0084ff;\n",
       "            color:  #000000;\n",
       "        }    #T_926f9894_5c44_11ea_a87d_bc8385f39641row0_col6 {\n",
       "            background-color:  #0088ff;\n",
       "            color:  #000000;\n",
       "        }    #T_926f9894_5c44_11ea_a87d_bc8385f39641row0_col7 {\n",
       "            background-color:  #0084ff;\n",
       "            color:  #000000;\n",
       "        }    #T_926f9894_5c44_11ea_a87d_bc8385f39641row0_col8 {\n",
       "            background-color:  #0030ff;\n",
       "            color:  #f1f1f1;\n",
       "        }    #T_926f9894_5c44_11ea_a87d_bc8385f39641row0_col9 {\n",
       "            background-color:  #0020ff;\n",
       "            color:  #f1f1f1;\n",
       "        }    #T_926f9894_5c44_11ea_a87d_bc8385f39641row0_col10 {\n",
       "            background-color:  #003cff;\n",
       "            color:  #f1f1f1;\n",
       "        }    #T_926f9894_5c44_11ea_a87d_bc8385f39641row0_col11 {\n",
       "            background-color:  #003cff;\n",
       "            color:  #f1f1f1;\n",
       "        }    #T_926f9894_5c44_11ea_a87d_bc8385f39641row0_col12 {\n",
       "            background-color:  #0048ff;\n",
       "            color:  #f1f1f1;\n",
       "        }    #T_926f9894_5c44_11ea_a87d_bc8385f39641row0_col13 {\n",
       "            background-color:  #0050ff;\n",
       "            color:  #f1f1f1;\n",
       "        }    #T_926f9894_5c44_11ea_a87d_bc8385f39641row1_col0 {\n",
       "            background-color:  #000080;\n",
       "            color:  #f1f1f1;\n",
       "        }    #T_926f9894_5c44_11ea_a87d_bc8385f39641row1_col1 {\n",
       "            background-color:  #800000;\n",
       "            color:  #f1f1f1;\n",
       "        }    #T_926f9894_5c44_11ea_a87d_bc8385f39641row1_col2 {\n",
       "            background-color:  #000080;\n",
       "            color:  #f1f1f1;\n",
       "        }    #T_926f9894_5c44_11ea_a87d_bc8385f39641row1_col3 {\n",
       "            background-color:  #000080;\n",
       "            color:  #f1f1f1;\n",
       "        }    #T_926f9894_5c44_11ea_a87d_bc8385f39641row1_col4 {\n",
       "            background-color:  #000080;\n",
       "            color:  #f1f1f1;\n",
       "        }    #T_926f9894_5c44_11ea_a87d_bc8385f39641row1_col5 {\n",
       "            background-color:  #000080;\n",
       "            color:  #f1f1f1;\n",
       "        }    #T_926f9894_5c44_11ea_a87d_bc8385f39641row1_col6 {\n",
       "            background-color:  #000080;\n",
       "            color:  #f1f1f1;\n",
       "        }    #T_926f9894_5c44_11ea_a87d_bc8385f39641row1_col7 {\n",
       "            background-color:  #000080;\n",
       "            color:  #f1f1f1;\n",
       "        }    #T_926f9894_5c44_11ea_a87d_bc8385f39641row1_col8 {\n",
       "            background-color:  #000080;\n",
       "            color:  #f1f1f1;\n",
       "        }    #T_926f9894_5c44_11ea_a87d_bc8385f39641row1_col9 {\n",
       "            background-color:  #000080;\n",
       "            color:  #f1f1f1;\n",
       "        }    #T_926f9894_5c44_11ea_a87d_bc8385f39641row1_col10 {\n",
       "            background-color:  #000080;\n",
       "            color:  #f1f1f1;\n",
       "        }    #T_926f9894_5c44_11ea_a87d_bc8385f39641row1_col11 {\n",
       "            background-color:  #000080;\n",
       "            color:  #f1f1f1;\n",
       "        }    #T_926f9894_5c44_11ea_a87d_bc8385f39641row1_col12 {\n",
       "            background-color:  #000080;\n",
       "            color:  #f1f1f1;\n",
       "        }    #T_926f9894_5c44_11ea_a87d_bc8385f39641row1_col13 {\n",
       "            background-color:  #000080;\n",
       "            color:  #f1f1f1;\n",
       "        }    #T_926f9894_5c44_11ea_a87d_bc8385f39641row2_col0 {\n",
       "            background-color:  #0028ff;\n",
       "            color:  #f1f1f1;\n",
       "        }    #T_926f9894_5c44_11ea_a87d_bc8385f39641row2_col1 {\n",
       "            background-color:  #0000a8;\n",
       "            color:  #f1f1f1;\n",
       "        }    #T_926f9894_5c44_11ea_a87d_bc8385f39641row2_col2 {\n",
       "            background-color:  #800000;\n",
       "            color:  #f1f1f1;\n",
       "        }    #T_926f9894_5c44_11ea_a87d_bc8385f39641row2_col3 {\n",
       "            background-color:  #bb0000;\n",
       "            color:  #f1f1f1;\n",
       "        }    #T_926f9894_5c44_11ea_a87d_bc8385f39641row2_col4 {\n",
       "            background-color:  #ff1600;\n",
       "            color:  #f1f1f1;\n",
       "        }    #T_926f9894_5c44_11ea_a87d_bc8385f39641row2_col5 {\n",
       "            background-color:  #ff3400;\n",
       "            color:  #f1f1f1;\n",
       "        }    #T_926f9894_5c44_11ea_a87d_bc8385f39641row2_col6 {\n",
       "            background-color:  #ff5200;\n",
       "            color:  #000000;\n",
       "        }    #T_926f9894_5c44_11ea_a87d_bc8385f39641row2_col7 {\n",
       "            background-color:  #ff6f00;\n",
       "            color:  #000000;\n",
       "        }    #T_926f9894_5c44_11ea_a87d_bc8385f39641row2_col8 {\n",
       "            background-color:  #0000ff;\n",
       "            color:  #f1f1f1;\n",
       "        }    #T_926f9894_5c44_11ea_a87d_bc8385f39641row2_col9 {\n",
       "            background-color:  #0000da;\n",
       "            color:  #f1f1f1;\n",
       "        }    #T_926f9894_5c44_11ea_a87d_bc8385f39641row2_col10 {\n",
       "            background-color:  #0004ff;\n",
       "            color:  #f1f1f1;\n",
       "        }    #T_926f9894_5c44_11ea_a87d_bc8385f39641row2_col11 {\n",
       "            background-color:  #000cff;\n",
       "            color:  #f1f1f1;\n",
       "        }    #T_926f9894_5c44_11ea_a87d_bc8385f39641row2_col12 {\n",
       "            background-color:  #0014ff;\n",
       "            color:  #f1f1f1;\n",
       "        }    #T_926f9894_5c44_11ea_a87d_bc8385f39641row2_col13 {\n",
       "            background-color:  #0024ff;\n",
       "            color:  #f1f1f1;\n",
       "        }    #T_926f9894_5c44_11ea_a87d_bc8385f39641row3_col0 {\n",
       "            background-color:  #001cff;\n",
       "            color:  #f1f1f1;\n",
       "        }    #T_926f9894_5c44_11ea_a87d_bc8385f39641row3_col1 {\n",
       "            background-color:  #0000a8;\n",
       "            color:  #f1f1f1;\n",
       "        }    #T_926f9894_5c44_11ea_a87d_bc8385f39641row3_col2 {\n",
       "            background-color:  #bb0000;\n",
       "            color:  #f1f1f1;\n",
       "        }    #T_926f9894_5c44_11ea_a87d_bc8385f39641row3_col3 {\n",
       "            background-color:  #800000;\n",
       "            color:  #f1f1f1;\n",
       "        }    #T_926f9894_5c44_11ea_a87d_bc8385f39641row3_col4 {\n",
       "            background-color:  #d60000;\n",
       "            color:  #f1f1f1;\n",
       "        }    #T_926f9894_5c44_11ea_a87d_bc8385f39641row3_col5 {\n",
       "            background-color:  #ff1600;\n",
       "            color:  #f1f1f1;\n",
       "        }    #T_926f9894_5c44_11ea_a87d_bc8385f39641row3_col6 {\n",
       "            background-color:  #ff3400;\n",
       "            color:  #f1f1f1;\n",
       "        }    #T_926f9894_5c44_11ea_a87d_bc8385f39641row3_col7 {\n",
       "            background-color:  #ff5200;\n",
       "            color:  #000000;\n",
       "        }    #T_926f9894_5c44_11ea_a87d_bc8385f39641row3_col8 {\n",
       "            background-color:  #0088ff;\n",
       "            color:  #000000;\n",
       "        }    #T_926f9894_5c44_11ea_a87d_bc8385f39641row3_col9 {\n",
       "            background-color:  #0000da;\n",
       "            color:  #f1f1f1;\n",
       "        }    #T_926f9894_5c44_11ea_a87d_bc8385f39641row3_col10 {\n",
       "            background-color:  #0000ff;\n",
       "            color:  #f1f1f1;\n",
       "        }    #T_926f9894_5c44_11ea_a87d_bc8385f39641row3_col11 {\n",
       "            background-color:  #0000ff;\n",
       "            color:  #f1f1f1;\n",
       "        }    #T_926f9894_5c44_11ea_a87d_bc8385f39641row3_col12 {\n",
       "            background-color:  #000cff;\n",
       "            color:  #f1f1f1;\n",
       "        }    #T_926f9894_5c44_11ea_a87d_bc8385f39641row3_col13 {\n",
       "            background-color:  #0020ff;\n",
       "            color:  #f1f1f1;\n",
       "        }    #T_926f9894_5c44_11ea_a87d_bc8385f39641row4_col0 {\n",
       "            background-color:  #0024ff;\n",
       "            color:  #f1f1f1;\n",
       "        }    #T_926f9894_5c44_11ea_a87d_bc8385f39641row4_col1 {\n",
       "            background-color:  #0000a4;\n",
       "            color:  #f1f1f1;\n",
       "        }    #T_926f9894_5c44_11ea_a87d_bc8385f39641row4_col2 {\n",
       "            background-color:  #ff1600;\n",
       "            color:  #f1f1f1;\n",
       "        }    #T_926f9894_5c44_11ea_a87d_bc8385f39641row4_col3 {\n",
       "            background-color:  #d60000;\n",
       "            color:  #f1f1f1;\n",
       "        }    #T_926f9894_5c44_11ea_a87d_bc8385f39641row4_col4 {\n",
       "            background-color:  #800000;\n",
       "            color:  #f1f1f1;\n",
       "        }    #T_926f9894_5c44_11ea_a87d_bc8385f39641row4_col5 {\n",
       "            background-color:  #da0000;\n",
       "            color:  #f1f1f1;\n",
       "        }    #T_926f9894_5c44_11ea_a87d_bc8385f39641row4_col6 {\n",
       "            background-color:  #ff1e00;\n",
       "            color:  #f1f1f1;\n",
       "        }    #T_926f9894_5c44_11ea_a87d_bc8385f39641row4_col7 {\n",
       "            background-color:  #ff3b00;\n",
       "            color:  #f1f1f1;\n",
       "        }    #T_926f9894_5c44_11ea_a87d_bc8385f39641row4_col8 {\n",
       "            background-color:  #0064ff;\n",
       "            color:  #f1f1f1;\n",
       "        }    #T_926f9894_5c44_11ea_a87d_bc8385f39641row4_col9 {\n",
       "            background-color:  #00b4ff;\n",
       "            color:  #000000;\n",
       "        }    #T_926f9894_5c44_11ea_a87d_bc8385f39641row4_col10 {\n",
       "            background-color:  #0000f6;\n",
       "            color:  #f1f1f1;\n",
       "        }    #T_926f9894_5c44_11ea_a87d_bc8385f39641row4_col11 {\n",
       "            background-color:  #0000ff;\n",
       "            color:  #f1f1f1;\n",
       "        }    #T_926f9894_5c44_11ea_a87d_bc8385f39641row4_col12 {\n",
       "            background-color:  #0024ff;\n",
       "            color:  #f1f1f1;\n",
       "        }    #T_926f9894_5c44_11ea_a87d_bc8385f39641row4_col13 {\n",
       "            background-color:  #0028ff;\n",
       "            color:  #f1f1f1;\n",
       "        }    #T_926f9894_5c44_11ea_a87d_bc8385f39641row5_col0 {\n",
       "            background-color:  #0030ff;\n",
       "            color:  #f1f1f1;\n",
       "        }    #T_926f9894_5c44_11ea_a87d_bc8385f39641row5_col1 {\n",
       "            background-color:  #0000a4;\n",
       "            color:  #f1f1f1;\n",
       "        }    #T_926f9894_5c44_11ea_a87d_bc8385f39641row5_col2 {\n",
       "            background-color:  #ff3400;\n",
       "            color:  #f1f1f1;\n",
       "        }    #T_926f9894_5c44_11ea_a87d_bc8385f39641row5_col3 {\n",
       "            background-color:  #ff1600;\n",
       "            color:  #f1f1f1;\n",
       "        }    #T_926f9894_5c44_11ea_a87d_bc8385f39641row5_col4 {\n",
       "            background-color:  #da0000;\n",
       "            color:  #f1f1f1;\n",
       "        }    #T_926f9894_5c44_11ea_a87d_bc8385f39641row5_col5 {\n",
       "            background-color:  #800000;\n",
       "            color:  #f1f1f1;\n",
       "        }    #T_926f9894_5c44_11ea_a87d_bc8385f39641row5_col6 {\n",
       "            background-color:  #c80000;\n",
       "            color:  #f1f1f1;\n",
       "        }    #T_926f9894_5c44_11ea_a87d_bc8385f39641row5_col7 {\n",
       "            background-color:  #f60b00;\n",
       "            color:  #f1f1f1;\n",
       "        }    #T_926f9894_5c44_11ea_a87d_bc8385f39641row5_col8 {\n",
       "            background-color:  #0058ff;\n",
       "            color:  #f1f1f1;\n",
       "        }    #T_926f9894_5c44_11ea_a87d_bc8385f39641row5_col9 {\n",
       "            background-color:  #0040ff;\n",
       "            color:  #f1f1f1;\n",
       "        }    #T_926f9894_5c44_11ea_a87d_bc8385f39641row5_col10 {\n",
       "            background-color:  #009cff;\n",
       "            color:  #000000;\n",
       "        }    #T_926f9894_5c44_11ea_a87d_bc8385f39641row5_col11 {\n",
       "            background-color:  #0000ff;\n",
       "            color:  #f1f1f1;\n",
       "        }    #T_926f9894_5c44_11ea_a87d_bc8385f39641row5_col12 {\n",
       "            background-color:  #0010ff;\n",
       "            color:  #f1f1f1;\n",
       "        }    #T_926f9894_5c44_11ea_a87d_bc8385f39641row5_col13 {\n",
       "            background-color:  #0024ff;\n",
       "            color:  #f1f1f1;\n",
       "        }    #T_926f9894_5c44_11ea_a87d_bc8385f39641row6_col0 {\n",
       "            background-color:  #0034ff;\n",
       "            color:  #f1f1f1;\n",
       "        }    #T_926f9894_5c44_11ea_a87d_bc8385f39641row6_col1 {\n",
       "            background-color:  #00009f;\n",
       "            color:  #f1f1f1;\n",
       "        }    #T_926f9894_5c44_11ea_a87d_bc8385f39641row6_col2 {\n",
       "            background-color:  #ff5500;\n",
       "            color:  #000000;\n",
       "        }    #T_926f9894_5c44_11ea_a87d_bc8385f39641row6_col3 {\n",
       "            background-color:  #ff3400;\n",
       "            color:  #f1f1f1;\n",
       "        }    #T_926f9894_5c44_11ea_a87d_bc8385f39641row6_col4 {\n",
       "            background-color:  #ff1e00;\n",
       "            color:  #f1f1f1;\n",
       "        }    #T_926f9894_5c44_11ea_a87d_bc8385f39641row6_col5 {\n",
       "            background-color:  #c80000;\n",
       "            color:  #f1f1f1;\n",
       "        }    #T_926f9894_5c44_11ea_a87d_bc8385f39641row6_col6 {\n",
       "            background-color:  #800000;\n",
       "            color:  #f1f1f1;\n",
       "        }    #T_926f9894_5c44_11ea_a87d_bc8385f39641row6_col7 {\n",
       "            background-color:  #bf0000;\n",
       "            color:  #f1f1f1;\n",
       "        }    #T_926f9894_5c44_11ea_a87d_bc8385f39641row6_col8 {\n",
       "            background-color:  #0048ff;\n",
       "            color:  #f1f1f1;\n",
       "        }    #T_926f9894_5c44_11ea_a87d_bc8385f39641row6_col9 {\n",
       "            background-color:  #0024ff;\n",
       "            color:  #f1f1f1;\n",
       "        }    #T_926f9894_5c44_11ea_a87d_bc8385f39641row6_col10 {\n",
       "            background-color:  #0068ff;\n",
       "            color:  #f1f1f1;\n",
       "        }    #T_926f9894_5c44_11ea_a87d_bc8385f39641row6_col11 {\n",
       "            background-color:  #009cff;\n",
       "            color:  #000000;\n",
       "        }    #T_926f9894_5c44_11ea_a87d_bc8385f39641row6_col12 {\n",
       "            background-color:  #0000ff;\n",
       "            color:  #f1f1f1;\n",
       "        }    #T_926f9894_5c44_11ea_a87d_bc8385f39641row6_col13 {\n",
       "            background-color:  #0014ff;\n",
       "            color:  #f1f1f1;\n",
       "        }    #T_926f9894_5c44_11ea_a87d_bc8385f39641row7_col0 {\n",
       "            background-color:  #002cff;\n",
       "            color:  #f1f1f1;\n",
       "        }    #T_926f9894_5c44_11ea_a87d_bc8385f39641row7_col1 {\n",
       "            background-color:  #00009f;\n",
       "            color:  #f1f1f1;\n",
       "        }    #T_926f9894_5c44_11ea_a87d_bc8385f39641row7_col2 {\n",
       "            background-color:  #ff6f00;\n",
       "            color:  #000000;\n",
       "        }    #T_926f9894_5c44_11ea_a87d_bc8385f39641row7_col3 {\n",
       "            background-color:  #ff5200;\n",
       "            color:  #000000;\n",
       "        }    #T_926f9894_5c44_11ea_a87d_bc8385f39641row7_col4 {\n",
       "            background-color:  #ff3b00;\n",
       "            color:  #f1f1f1;\n",
       "        }    #T_926f9894_5c44_11ea_a87d_bc8385f39641row7_col5 {\n",
       "            background-color:  #f60b00;\n",
       "            color:  #f1f1f1;\n",
       "        }    #T_926f9894_5c44_11ea_a87d_bc8385f39641row7_col6 {\n",
       "            background-color:  #bf0000;\n",
       "            color:  #f1f1f1;\n",
       "        }    #T_926f9894_5c44_11ea_a87d_bc8385f39641row7_col7 {\n",
       "            background-color:  #800000;\n",
       "            color:  #f1f1f1;\n",
       "        }    #T_926f9894_5c44_11ea_a87d_bc8385f39641row7_col8 {\n",
       "            background-color:  #0034ff;\n",
       "            color:  #f1f1f1;\n",
       "        }    #T_926f9894_5c44_11ea_a87d_bc8385f39641row7_col9 {\n",
       "            background-color:  #001cff;\n",
       "            color:  #f1f1f1;\n",
       "        }    #T_926f9894_5c44_11ea_a87d_bc8385f39641row7_col10 {\n",
       "            background-color:  #0054ff;\n",
       "            color:  #f1f1f1;\n",
       "        }    #T_926f9894_5c44_11ea_a87d_bc8385f39641row7_col11 {\n",
       "            background-color:  #006cff;\n",
       "            color:  #f1f1f1;\n",
       "        }    #T_926f9894_5c44_11ea_a87d_bc8385f39641row7_col12 {\n",
       "            background-color:  #00a8ff;\n",
       "            color:  #000000;\n",
       "        }    #T_926f9894_5c44_11ea_a87d_bc8385f39641row7_col13 {\n",
       "            background-color:  #0000f1;\n",
       "            color:  #f1f1f1;\n",
       "        }    #T_926f9894_5c44_11ea_a87d_bc8385f39641row8_col0 {\n",
       "            background-color:  #0000c4;\n",
       "            color:  #f1f1f1;\n",
       "        }    #T_926f9894_5c44_11ea_a87d_bc8385f39641row8_col1 {\n",
       "            background-color:  #000084;\n",
       "            color:  #f1f1f1;\n",
       "        }    #T_926f9894_5c44_11ea_a87d_bc8385f39641row8_col2 {\n",
       "            background-color:  #0000e3;\n",
       "            color:  #f1f1f1;\n",
       "        }    #T_926f9894_5c44_11ea_a87d_bc8385f39641row8_col3 {\n",
       "            background-color:  #0074ff;\n",
       "            color:  #f1f1f1;\n",
       "        }    #T_926f9894_5c44_11ea_a87d_bc8385f39641row8_col4 {\n",
       "            background-color:  #004cff;\n",
       "            color:  #f1f1f1;\n",
       "        }    #T_926f9894_5c44_11ea_a87d_bc8385f39641row8_col5 {\n",
       "            background-color:  #0044ff;\n",
       "            color:  #f1f1f1;\n",
       "        }    #T_926f9894_5c44_11ea_a87d_bc8385f39641row8_col6 {\n",
       "            background-color:  #0034ff;\n",
       "            color:  #f1f1f1;\n",
       "        }    #T_926f9894_5c44_11ea_a87d_bc8385f39641row8_col7 {\n",
       "            background-color:  #0020ff;\n",
       "            color:  #f1f1f1;\n",
       "        }    #T_926f9894_5c44_11ea_a87d_bc8385f39641row8_col8 {\n",
       "            background-color:  #800000;\n",
       "            color:  #f1f1f1;\n",
       "        }    #T_926f9894_5c44_11ea_a87d_bc8385f39641row8_col9 {\n",
       "            background-color:  #0094ff;\n",
       "            color:  #000000;\n",
       "        }    #T_926f9894_5c44_11ea_a87d_bc8385f39641row8_col10 {\n",
       "            background-color:  #0068ff;\n",
       "            color:  #f1f1f1;\n",
       "        }    #T_926f9894_5c44_11ea_a87d_bc8385f39641row8_col11 {\n",
       "            background-color:  #0038ff;\n",
       "            color:  #f1f1f1;\n",
       "        }    #T_926f9894_5c44_11ea_a87d_bc8385f39641row8_col12 {\n",
       "            background-color:  #0000ff;\n",
       "            color:  #f1f1f1;\n",
       "        }    #T_926f9894_5c44_11ea_a87d_bc8385f39641row8_col13 {\n",
       "            background-color:  #002cff;\n",
       "            color:  #f1f1f1;\n",
       "        }    #T_926f9894_5c44_11ea_a87d_bc8385f39641row9_col0 {\n",
       "            background-color:  #0000ad;\n",
       "            color:  #f1f1f1;\n",
       "        }    #T_926f9894_5c44_11ea_a87d_bc8385f39641row9_col1 {\n",
       "            background-color:  #000080;\n",
       "            color:  #f1f1f1;\n",
       "        }    #T_926f9894_5c44_11ea_a87d_bc8385f39641row9_col2 {\n",
       "            background-color:  #0000b2;\n",
       "            color:  #f1f1f1;\n",
       "        }    #T_926f9894_5c44_11ea_a87d_bc8385f39641row9_col3 {\n",
       "            background-color:  #0000b6;\n",
       "            color:  #f1f1f1;\n",
       "        }    #T_926f9894_5c44_11ea_a87d_bc8385f39641row9_col4 {\n",
       "            background-color:  #009cff;\n",
       "            color:  #000000;\n",
       "        }    #T_926f9894_5c44_11ea_a87d_bc8385f39641row9_col5 {\n",
       "            background-color:  #0028ff;\n",
       "            color:  #f1f1f1;\n",
       "        }    #T_926f9894_5c44_11ea_a87d_bc8385f39641row9_col6 {\n",
       "            background-color:  #000cff;\n",
       "            color:  #f1f1f1;\n",
       "        }    #T_926f9894_5c44_11ea_a87d_bc8385f39641row9_col7 {\n",
       "            background-color:  #0004ff;\n",
       "            color:  #f1f1f1;\n",
       "        }    #T_926f9894_5c44_11ea_a87d_bc8385f39641row9_col8 {\n",
       "            background-color:  #0090ff;\n",
       "            color:  #000000;\n",
       "        }    #T_926f9894_5c44_11ea_a87d_bc8385f39641row9_col9 {\n",
       "            background-color:  #800000;\n",
       "            color:  #f1f1f1;\n",
       "        }    #T_926f9894_5c44_11ea_a87d_bc8385f39641row9_col10 {\n",
       "            background-color:  #0060ff;\n",
       "            color:  #f1f1f1;\n",
       "        }    #T_926f9894_5c44_11ea_a87d_bc8385f39641row9_col11 {\n",
       "            background-color:  #0024ff;\n",
       "            color:  #f1f1f1;\n",
       "        }    #T_926f9894_5c44_11ea_a87d_bc8385f39641row9_col12 {\n",
       "            background-color:  #0024ff;\n",
       "            color:  #f1f1f1;\n",
       "        }    #T_926f9894_5c44_11ea_a87d_bc8385f39641row9_col13 {\n",
       "            background-color:  #0010ff;\n",
       "            color:  #f1f1f1;\n",
       "        }    #T_926f9894_5c44_11ea_a87d_bc8385f39641row10_col0 {\n",
       "            background-color:  #0000d6;\n",
       "            color:  #f1f1f1;\n",
       "        }    #T_926f9894_5c44_11ea_a87d_bc8385f39641row10_col1 {\n",
       "            background-color:  #000089;\n",
       "            color:  #f1f1f1;\n",
       "        }    #T_926f9894_5c44_11ea_a87d_bc8385f39641row10_col2 {\n",
       "            background-color:  #0000fa;\n",
       "            color:  #f1f1f1;\n",
       "        }    #T_926f9894_5c44_11ea_a87d_bc8385f39641row10_col3 {\n",
       "            background-color:  #0000f6;\n",
       "            color:  #f1f1f1;\n",
       "        }    #T_926f9894_5c44_11ea_a87d_bc8385f39641row10_col4 {\n",
       "            background-color:  #0000da;\n",
       "            color:  #f1f1f1;\n",
       "        }    #T_926f9894_5c44_11ea_a87d_bc8385f39641row10_col5 {\n",
       "            background-color:  #008cff;\n",
       "            color:  #000000;\n",
       "        }    #T_926f9894_5c44_11ea_a87d_bc8385f39641row10_col6 {\n",
       "            background-color:  #0058ff;\n",
       "            color:  #f1f1f1;\n",
       "        }    #T_926f9894_5c44_11ea_a87d_bc8385f39641row10_col7 {\n",
       "            background-color:  #0048ff;\n",
       "            color:  #f1f1f1;\n",
       "        }    #T_926f9894_5c44_11ea_a87d_bc8385f39641row10_col8 {\n",
       "            background-color:  #006cff;\n",
       "            color:  #f1f1f1;\n",
       "        }    #T_926f9894_5c44_11ea_a87d_bc8385f39641row10_col9 {\n",
       "            background-color:  #0068ff;\n",
       "            color:  #f1f1f1;\n",
       "        }    #T_926f9894_5c44_11ea_a87d_bc8385f39641row10_col10 {\n",
       "            background-color:  #800000;\n",
       "            color:  #f1f1f1;\n",
       "        }    #T_926f9894_5c44_11ea_a87d_bc8385f39641row10_col11 {\n",
       "            background-color:  #0048ff;\n",
       "            color:  #f1f1f1;\n",
       "        }    #T_926f9894_5c44_11ea_a87d_bc8385f39641row10_col12 {\n",
       "            background-color:  #000cff;\n",
       "            color:  #f1f1f1;\n",
       "        }    #T_926f9894_5c44_11ea_a87d_bc8385f39641row10_col13 {\n",
       "            background-color:  #0014ff;\n",
       "            color:  #f1f1f1;\n",
       "        }    #T_926f9894_5c44_11ea_a87d_bc8385f39641row11_col0 {\n",
       "            background-color:  #0000cd;\n",
       "            color:  #f1f1f1;\n",
       "        }    #T_926f9894_5c44_11ea_a87d_bc8385f39641row11_col1 {\n",
       "            background-color:  #000080;\n",
       "            color:  #f1f1f1;\n",
       "        }    #T_926f9894_5c44_11ea_a87d_bc8385f39641row11_col2 {\n",
       "            background-color:  #0000fa;\n",
       "            color:  #f1f1f1;\n",
       "        }    #T_926f9894_5c44_11ea_a87d_bc8385f39641row11_col3 {\n",
       "            background-color:  #0000f1;\n",
       "            color:  #f1f1f1;\n",
       "        }    #T_926f9894_5c44_11ea_a87d_bc8385f39641row11_col4 {\n",
       "            background-color:  #0000ed;\n",
       "            color:  #f1f1f1;\n",
       "        }    #T_926f9894_5c44_11ea_a87d_bc8385f39641row11_col5 {\n",
       "            background-color:  #0000df;\n",
       "            color:  #f1f1f1;\n",
       "        }    #T_926f9894_5c44_11ea_a87d_bc8385f39641row11_col6 {\n",
       "            background-color:  #0084ff;\n",
       "            color:  #000000;\n",
       "        }    #T_926f9894_5c44_11ea_a87d_bc8385f39641row11_col7 {\n",
       "            background-color:  #0058ff;\n",
       "            color:  #f1f1f1;\n",
       "        }    #T_926f9894_5c44_11ea_a87d_bc8385f39641row11_col8 {\n",
       "            background-color:  #0034ff;\n",
       "            color:  #f1f1f1;\n",
       "        }    #T_926f9894_5c44_11ea_a87d_bc8385f39641row11_col9 {\n",
       "            background-color:  #0024ff;\n",
       "            color:  #f1f1f1;\n",
       "        }    #T_926f9894_5c44_11ea_a87d_bc8385f39641row11_col10 {\n",
       "            background-color:  #0044ff;\n",
       "            color:  #f1f1f1;\n",
       "        }    #T_926f9894_5c44_11ea_a87d_bc8385f39641row11_col11 {\n",
       "            background-color:  #800000;\n",
       "            color:  #f1f1f1;\n",
       "        }    #T_926f9894_5c44_11ea_a87d_bc8385f39641row11_col12 {\n",
       "            background-color:  #0004ff;\n",
       "            color:  #f1f1f1;\n",
       "        }    #T_926f9894_5c44_11ea_a87d_bc8385f39641row11_col13 {\n",
       "            background-color:  #0010ff;\n",
       "            color:  #f1f1f1;\n",
       "        }    #T_926f9894_5c44_11ea_a87d_bc8385f39641row12_col0 {\n",
       "            background-color:  #0000df;\n",
       "            color:  #f1f1f1;\n",
       "        }    #T_926f9894_5c44_11ea_a87d_bc8385f39641row12_col1 {\n",
       "            background-color:  #000080;\n",
       "            color:  #f1f1f1;\n",
       "        }    #T_926f9894_5c44_11ea_a87d_bc8385f39641row12_col2 {\n",
       "            background-color:  #0000ff;\n",
       "            color:  #f1f1f1;\n",
       "        }    #T_926f9894_5c44_11ea_a87d_bc8385f39641row12_col3 {\n",
       "            background-color:  #0000ff;\n",
       "            color:  #f1f1f1;\n",
       "        }    #T_926f9894_5c44_11ea_a87d_bc8385f39641row12_col4 {\n",
       "            background-color:  #0008ff;\n",
       "            color:  #f1f1f1;\n",
       "        }    #T_926f9894_5c44_11ea_a87d_bc8385f39641row12_col5 {\n",
       "            background-color:  #0000ff;\n",
       "            color:  #f1f1f1;\n",
       "        }    #T_926f9894_5c44_11ea_a87d_bc8385f39641row12_col6 {\n",
       "            background-color:  #0000ed;\n",
       "            color:  #f1f1f1;\n",
       "        }    #T_926f9894_5c44_11ea_a87d_bc8385f39641row12_col7 {\n",
       "            background-color:  #0094ff;\n",
       "            color:  #000000;\n",
       "        }    #T_926f9894_5c44_11ea_a87d_bc8385f39641row12_col8 {\n",
       "            background-color:  #0000ff;\n",
       "            color:  #f1f1f1;\n",
       "        }    #T_926f9894_5c44_11ea_a87d_bc8385f39641row12_col9 {\n",
       "            background-color:  #0024ff;\n",
       "            color:  #f1f1f1;\n",
       "        }    #T_926f9894_5c44_11ea_a87d_bc8385f39641row12_col10 {\n",
       "            background-color:  #0008ff;\n",
       "            color:  #f1f1f1;\n",
       "        }    #T_926f9894_5c44_11ea_a87d_bc8385f39641row12_col11 {\n",
       "            background-color:  #0008ff;\n",
       "            color:  #f1f1f1;\n",
       "        }    #T_926f9894_5c44_11ea_a87d_bc8385f39641row12_col12 {\n",
       "            background-color:  #800000;\n",
       "            color:  #f1f1f1;\n",
       "        }    #T_926f9894_5c44_11ea_a87d_bc8385f39641row12_col13 {\n",
       "            background-color:  #000cff;\n",
       "            color:  #f1f1f1;\n",
       "        }    #T_926f9894_5c44_11ea_a87d_bc8385f39641row13_col0 {\n",
       "            background-color:  #0000e3;\n",
       "            color:  #f1f1f1;\n",
       "        }    #T_926f9894_5c44_11ea_a87d_bc8385f39641row13_col1 {\n",
       "            background-color:  #000080;\n",
       "            color:  #f1f1f1;\n",
       "        }    #T_926f9894_5c44_11ea_a87d_bc8385f39641row13_col2 {\n",
       "            background-color:  #0004ff;\n",
       "            color:  #f1f1f1;\n",
       "        }    #T_926f9894_5c44_11ea_a87d_bc8385f39641row13_col3 {\n",
       "            background-color:  #0000ff;\n",
       "            color:  #f1f1f1;\n",
       "        }    #T_926f9894_5c44_11ea_a87d_bc8385f39641row13_col4 {\n",
       "            background-color:  #0008ff;\n",
       "            color:  #f1f1f1;\n",
       "        }    #T_926f9894_5c44_11ea_a87d_bc8385f39641row13_col5 {\n",
       "            background-color:  #0008ff;\n",
       "            color:  #f1f1f1;\n",
       "        }    #T_926f9894_5c44_11ea_a87d_bc8385f39641row13_col6 {\n",
       "            background-color:  #0000ff;\n",
       "            color:  #f1f1f1;\n",
       "        }    #T_926f9894_5c44_11ea_a87d_bc8385f39641row13_col7 {\n",
       "            background-color:  #0000d1;\n",
       "            color:  #f1f1f1;\n",
       "        }    #T_926f9894_5c44_11ea_a87d_bc8385f39641row13_col8 {\n",
       "            background-color:  #0024ff;\n",
       "            color:  #f1f1f1;\n",
       "        }    #T_926f9894_5c44_11ea_a87d_bc8385f39641row13_col9 {\n",
       "            background-color:  #000cff;\n",
       "            color:  #f1f1f1;\n",
       "        }    #T_926f9894_5c44_11ea_a87d_bc8385f39641row13_col10 {\n",
       "            background-color:  #000cff;\n",
       "            color:  #f1f1f1;\n",
       "        }    #T_926f9894_5c44_11ea_a87d_bc8385f39641row13_col11 {\n",
       "            background-color:  #000cff;\n",
       "            color:  #f1f1f1;\n",
       "        }    #T_926f9894_5c44_11ea_a87d_bc8385f39641row13_col12 {\n",
       "            background-color:  #0008ff;\n",
       "            color:  #f1f1f1;\n",
       "        }    #T_926f9894_5c44_11ea_a87d_bc8385f39641row13_col13 {\n",
       "            background-color:  #800000;\n",
       "            color:  #f1f1f1;\n",
       "        }</style><table id=\"T_926f9894_5c44_11ea_a87d_bc8385f39641\" ><thead>    <tr>        <th class=\"blank level0\" ></th>        <th class=\"col_heading level0 col0\" >LIMIT_BAL</th>        <th class=\"col_heading level0 col1\" >AGE</th>        <th class=\"col_heading level0 col2\" >BILL_AMT1</th>        <th class=\"col_heading level0 col3\" >BILL_AMT2</th>        <th class=\"col_heading level0 col4\" >BILL_AMT3</th>        <th class=\"col_heading level0 col5\" >BILL_AMT4</th>        <th class=\"col_heading level0 col6\" >BILL_AMT5</th>        <th class=\"col_heading level0 col7\" >BILL_AMT6</th>        <th class=\"col_heading level0 col8\" >PAY_AMT1</th>        <th class=\"col_heading level0 col9\" >PAY_AMT2</th>        <th class=\"col_heading level0 col10\" >PAY_AMT3</th>        <th class=\"col_heading level0 col11\" >PAY_AMT4</th>        <th class=\"col_heading level0 col12\" >PAY_AMT5</th>        <th class=\"col_heading level0 col13\" >PAY_AMT6</th>    </tr></thead><tbody>\n",
       "                <tr>\n",
       "                        <th id=\"T_926f9894_5c44_11ea_a87d_bc8385f39641level0_row0\" class=\"row_heading level0 row0\" >LIMIT_BAL</th>\n",
       "                        <td id=\"T_926f9894_5c44_11ea_a87d_bc8385f39641row0_col0\" class=\"data row0 col0\" >1</td>\n",
       "                        <td id=\"T_926f9894_5c44_11ea_a87d_bc8385f39641row0_col1\" class=\"data row0 col1\" >0.145</td>\n",
       "                        <td id=\"T_926f9894_5c44_11ea_a87d_bc8385f39641row0_col2\" class=\"data row0 col2\" >0.285</td>\n",
       "                        <td id=\"T_926f9894_5c44_11ea_a87d_bc8385f39641row0_col3\" class=\"data row0 col3\" >0.278</td>\n",
       "                        <td id=\"T_926f9894_5c44_11ea_a87d_bc8385f39641row0_col4\" class=\"data row0 col4\" >0.283</td>\n",
       "                        <td id=\"T_926f9894_5c44_11ea_a87d_bc8385f39641row0_col5\" class=\"data row0 col5\" >0.294</td>\n",
       "                        <td id=\"T_926f9894_5c44_11ea_a87d_bc8385f39641row0_col6\" class=\"data row0 col6\" >0.296</td>\n",
       "                        <td id=\"T_926f9894_5c44_11ea_a87d_bc8385f39641row0_col7\" class=\"data row0 col7\" >0.29</td>\n",
       "                        <td id=\"T_926f9894_5c44_11ea_a87d_bc8385f39641row0_col8\" class=\"data row0 col8\" >0.195</td>\n",
       "                        <td id=\"T_926f9894_5c44_11ea_a87d_bc8385f39641row0_col9\" class=\"data row0 col9\" >0.178</td>\n",
       "                        <td id=\"T_926f9894_5c44_11ea_a87d_bc8385f39641row0_col10\" class=\"data row0 col10\" >0.21</td>\n",
       "                        <td id=\"T_926f9894_5c44_11ea_a87d_bc8385f39641row0_col11\" class=\"data row0 col11\" >0.203</td>\n",
       "                        <td id=\"T_926f9894_5c44_11ea_a87d_bc8385f39641row0_col12\" class=\"data row0 col12\" >0.217</td>\n",
       "                        <td id=\"T_926f9894_5c44_11ea_a87d_bc8385f39641row0_col13\" class=\"data row0 col13\" >0.22</td>\n",
       "            </tr>\n",
       "            <tr>\n",
       "                        <th id=\"T_926f9894_5c44_11ea_a87d_bc8385f39641level0_row1\" class=\"row_heading level0 row1\" >AGE</th>\n",
       "                        <td id=\"T_926f9894_5c44_11ea_a87d_bc8385f39641row1_col0\" class=\"data row1 col0\" >0.145</td>\n",
       "                        <td id=\"T_926f9894_5c44_11ea_a87d_bc8385f39641row1_col1\" class=\"data row1 col1\" >1</td>\n",
       "                        <td id=\"T_926f9894_5c44_11ea_a87d_bc8385f39641row1_col2\" class=\"data row1 col2\" >0.0562</td>\n",
       "                        <td id=\"T_926f9894_5c44_11ea_a87d_bc8385f39641row1_col3\" class=\"data row1 col3\" >0.0543</td>\n",
       "                        <td id=\"T_926f9894_5c44_11ea_a87d_bc8385f39641row1_col4\" class=\"data row1 col4\" >0.0537</td>\n",
       "                        <td id=\"T_926f9894_5c44_11ea_a87d_bc8385f39641row1_col5\" class=\"data row1 col5\" >0.0514</td>\n",
       "                        <td id=\"T_926f9894_5c44_11ea_a87d_bc8385f39641row1_col6\" class=\"data row1 col6\" >0.0493</td>\n",
       "                        <td id=\"T_926f9894_5c44_11ea_a87d_bc8385f39641row1_col7\" class=\"data row1 col7\" >0.0476</td>\n",
       "                        <td id=\"T_926f9894_5c44_11ea_a87d_bc8385f39641row1_col8\" class=\"data row1 col8\" >0.0261</td>\n",
       "                        <td id=\"T_926f9894_5c44_11ea_a87d_bc8385f39641row1_col9\" class=\"data row1 col9\" >0.0218</td>\n",
       "                        <td id=\"T_926f9894_5c44_11ea_a87d_bc8385f39641row1_col10\" class=\"data row1 col10\" >0.0292</td>\n",
       "                        <td id=\"T_926f9894_5c44_11ea_a87d_bc8385f39641row1_col11\" class=\"data row1 col11\" >0.0214</td>\n",
       "                        <td id=\"T_926f9894_5c44_11ea_a87d_bc8385f39641row1_col12\" class=\"data row1 col12\" >0.0228</td>\n",
       "                        <td id=\"T_926f9894_5c44_11ea_a87d_bc8385f39641row1_col13\" class=\"data row1 col13\" >0.0195</td>\n",
       "            </tr>\n",
       "            <tr>\n",
       "                        <th id=\"T_926f9894_5c44_11ea_a87d_bc8385f39641level0_row2\" class=\"row_heading level0 row2\" >BILL_AMT1</th>\n",
       "                        <td id=\"T_926f9894_5c44_11ea_a87d_bc8385f39641row2_col0\" class=\"data row2 col0\" >0.285</td>\n",
       "                        <td id=\"T_926f9894_5c44_11ea_a87d_bc8385f39641row2_col1\" class=\"data row2 col1\" >0.0562</td>\n",
       "                        <td id=\"T_926f9894_5c44_11ea_a87d_bc8385f39641row2_col2\" class=\"data row2 col2\" >1</td>\n",
       "                        <td id=\"T_926f9894_5c44_11ea_a87d_bc8385f39641row2_col3\" class=\"data row2 col3\" >0.951</td>\n",
       "                        <td id=\"T_926f9894_5c44_11ea_a87d_bc8385f39641row2_col4\" class=\"data row2 col4\" >0.892</td>\n",
       "                        <td id=\"T_926f9894_5c44_11ea_a87d_bc8385f39641row2_col5\" class=\"data row2 col5\" >0.86</td>\n",
       "                        <td id=\"T_926f9894_5c44_11ea_a87d_bc8385f39641row2_col6\" class=\"data row2 col6\" >0.83</td>\n",
       "                        <td id=\"T_926f9894_5c44_11ea_a87d_bc8385f39641row2_col7\" class=\"data row2 col7\" >0.803</td>\n",
       "                        <td id=\"T_926f9894_5c44_11ea_a87d_bc8385f39641row2_col8\" class=\"data row2 col8\" >0.14</td>\n",
       "                        <td id=\"T_926f9894_5c44_11ea_a87d_bc8385f39641row2_col9\" class=\"data row2 col9\" >0.0994</td>\n",
       "                        <td id=\"T_926f9894_5c44_11ea_a87d_bc8385f39641row2_col10\" class=\"data row2 col10\" >0.157</td>\n",
       "                        <td id=\"T_926f9894_5c44_11ea_a87d_bc8385f39641row2_col11\" class=\"data row2 col11\" >0.158</td>\n",
       "                        <td id=\"T_926f9894_5c44_11ea_a87d_bc8385f39641row2_col12\" class=\"data row2 col12\" >0.167</td>\n",
       "                        <td id=\"T_926f9894_5c44_11ea_a87d_bc8385f39641row2_col13\" class=\"data row2 col13\" >0.179</td>\n",
       "            </tr>\n",
       "            <tr>\n",
       "                        <th id=\"T_926f9894_5c44_11ea_a87d_bc8385f39641level0_row3\" class=\"row_heading level0 row3\" >BILL_AMT2</th>\n",
       "                        <td id=\"T_926f9894_5c44_11ea_a87d_bc8385f39641row3_col0\" class=\"data row3 col0\" >0.278</td>\n",
       "                        <td id=\"T_926f9894_5c44_11ea_a87d_bc8385f39641row3_col1\" class=\"data row3 col1\" >0.0543</td>\n",
       "                        <td id=\"T_926f9894_5c44_11ea_a87d_bc8385f39641row3_col2\" class=\"data row3 col2\" >0.951</td>\n",
       "                        <td id=\"T_926f9894_5c44_11ea_a87d_bc8385f39641row3_col3\" class=\"data row3 col3\" >1</td>\n",
       "                        <td id=\"T_926f9894_5c44_11ea_a87d_bc8385f39641row3_col4\" class=\"data row3 col4\" >0.928</td>\n",
       "                        <td id=\"T_926f9894_5c44_11ea_a87d_bc8385f39641row3_col5\" class=\"data row3 col5\" >0.892</td>\n",
       "                        <td id=\"T_926f9894_5c44_11ea_a87d_bc8385f39641row3_col6\" class=\"data row3 col6\" >0.86</td>\n",
       "                        <td id=\"T_926f9894_5c44_11ea_a87d_bc8385f39641row3_col7\" class=\"data row3 col7\" >0.832</td>\n",
       "                        <td id=\"T_926f9894_5c44_11ea_a87d_bc8385f39641row3_col8\" class=\"data row3 col8\" >0.28</td>\n",
       "                        <td id=\"T_926f9894_5c44_11ea_a87d_bc8385f39641row3_col9\" class=\"data row3 col9\" >0.101</td>\n",
       "                        <td id=\"T_926f9894_5c44_11ea_a87d_bc8385f39641row3_col10\" class=\"data row3 col10\" >0.151</td>\n",
       "                        <td id=\"T_926f9894_5c44_11ea_a87d_bc8385f39641row3_col11\" class=\"data row3 col11\" >0.147</td>\n",
       "                        <td id=\"T_926f9894_5c44_11ea_a87d_bc8385f39641row3_col12\" class=\"data row3 col12\" >0.158</td>\n",
       "                        <td id=\"T_926f9894_5c44_11ea_a87d_bc8385f39641row3_col13\" class=\"data row3 col13\" >0.174</td>\n",
       "            </tr>\n",
       "            <tr>\n",
       "                        <th id=\"T_926f9894_5c44_11ea_a87d_bc8385f39641level0_row4\" class=\"row_heading level0 row4\" >BILL_AMT3</th>\n",
       "                        <td id=\"T_926f9894_5c44_11ea_a87d_bc8385f39641row4_col0\" class=\"data row4 col0\" >0.283</td>\n",
       "                        <td id=\"T_926f9894_5c44_11ea_a87d_bc8385f39641row4_col1\" class=\"data row4 col1\" >0.0537</td>\n",
       "                        <td id=\"T_926f9894_5c44_11ea_a87d_bc8385f39641row4_col2\" class=\"data row4 col2\" >0.892</td>\n",
       "                        <td id=\"T_926f9894_5c44_11ea_a87d_bc8385f39641row4_col3\" class=\"data row4 col3\" >0.928</td>\n",
       "                        <td id=\"T_926f9894_5c44_11ea_a87d_bc8385f39641row4_col4\" class=\"data row4 col4\" >1</td>\n",
       "                        <td id=\"T_926f9894_5c44_11ea_a87d_bc8385f39641row4_col5\" class=\"data row4 col5\" >0.924</td>\n",
       "                        <td id=\"T_926f9894_5c44_11ea_a87d_bc8385f39641row4_col6\" class=\"data row4 col6\" >0.884</td>\n",
       "                        <td id=\"T_926f9894_5c44_11ea_a87d_bc8385f39641row4_col7\" class=\"data row4 col7\" >0.853</td>\n",
       "                        <td id=\"T_926f9894_5c44_11ea_a87d_bc8385f39641row4_col8\" class=\"data row4 col8\" >0.244</td>\n",
       "                        <td id=\"T_926f9894_5c44_11ea_a87d_bc8385f39641row4_col9\" class=\"data row4 col9\" >0.317</td>\n",
       "                        <td id=\"T_926f9894_5c44_11ea_a87d_bc8385f39641row4_col10\" class=\"data row4 col10\" >0.13</td>\n",
       "                        <td id=\"T_926f9894_5c44_11ea_a87d_bc8385f39641row4_col11\" class=\"data row4 col11\" >0.143</td>\n",
       "                        <td id=\"T_926f9894_5c44_11ea_a87d_bc8385f39641row4_col12\" class=\"data row4 col12\" >0.18</td>\n",
       "                        <td id=\"T_926f9894_5c44_11ea_a87d_bc8385f39641row4_col13\" class=\"data row4 col13\" >0.182</td>\n",
       "            </tr>\n",
       "            <tr>\n",
       "                        <th id=\"T_926f9894_5c44_11ea_a87d_bc8385f39641level0_row5\" class=\"row_heading level0 row5\" >BILL_AMT4</th>\n",
       "                        <td id=\"T_926f9894_5c44_11ea_a87d_bc8385f39641row5_col0\" class=\"data row5 col0\" >0.294</td>\n",
       "                        <td id=\"T_926f9894_5c44_11ea_a87d_bc8385f39641row5_col1\" class=\"data row5 col1\" >0.0514</td>\n",
       "                        <td id=\"T_926f9894_5c44_11ea_a87d_bc8385f39641row5_col2\" class=\"data row5 col2\" >0.86</td>\n",
       "                        <td id=\"T_926f9894_5c44_11ea_a87d_bc8385f39641row5_col3\" class=\"data row5 col3\" >0.892</td>\n",
       "                        <td id=\"T_926f9894_5c44_11ea_a87d_bc8385f39641row5_col4\" class=\"data row5 col4\" >0.924</td>\n",
       "                        <td id=\"T_926f9894_5c44_11ea_a87d_bc8385f39641row5_col5\" class=\"data row5 col5\" >1</td>\n",
       "                        <td id=\"T_926f9894_5c44_11ea_a87d_bc8385f39641row5_col6\" class=\"data row5 col6\" >0.94</td>\n",
       "                        <td id=\"T_926f9894_5c44_11ea_a87d_bc8385f39641row5_col7\" class=\"data row5 col7\" >0.901</td>\n",
       "                        <td id=\"T_926f9894_5c44_11ea_a87d_bc8385f39641row5_col8\" class=\"data row5 col8\" >0.233</td>\n",
       "                        <td id=\"T_926f9894_5c44_11ea_a87d_bc8385f39641row5_col9\" class=\"data row5 col9\" >0.208</td>\n",
       "                        <td id=\"T_926f9894_5c44_11ea_a87d_bc8385f39641row5_col10\" class=\"data row5 col10\" >0.3</td>\n",
       "                        <td id=\"T_926f9894_5c44_11ea_a87d_bc8385f39641row5_col11\" class=\"data row5 col11\" >0.13</td>\n",
       "                        <td id=\"T_926f9894_5c44_11ea_a87d_bc8385f39641row5_col12\" class=\"data row5 col12\" >0.16</td>\n",
       "                        <td id=\"T_926f9894_5c44_11ea_a87d_bc8385f39641row5_col13\" class=\"data row5 col13\" >0.178</td>\n",
       "            </tr>\n",
       "            <tr>\n",
       "                        <th id=\"T_926f9894_5c44_11ea_a87d_bc8385f39641level0_row6\" class=\"row_heading level0 row6\" >BILL_AMT5</th>\n",
       "                        <td id=\"T_926f9894_5c44_11ea_a87d_bc8385f39641row6_col0\" class=\"data row6 col0\" >0.296</td>\n",
       "                        <td id=\"T_926f9894_5c44_11ea_a87d_bc8385f39641row6_col1\" class=\"data row6 col1\" >0.0493</td>\n",
       "                        <td id=\"T_926f9894_5c44_11ea_a87d_bc8385f39641row6_col2\" class=\"data row6 col2\" >0.83</td>\n",
       "                        <td id=\"T_926f9894_5c44_11ea_a87d_bc8385f39641row6_col3\" class=\"data row6 col3\" >0.86</td>\n",
       "                        <td id=\"T_926f9894_5c44_11ea_a87d_bc8385f39641row6_col4\" class=\"data row6 col4\" >0.884</td>\n",
       "                        <td id=\"T_926f9894_5c44_11ea_a87d_bc8385f39641row6_col5\" class=\"data row6 col5\" >0.94</td>\n",
       "                        <td id=\"T_926f9894_5c44_11ea_a87d_bc8385f39641row6_col6\" class=\"data row6 col6\" >1</td>\n",
       "                        <td id=\"T_926f9894_5c44_11ea_a87d_bc8385f39641row6_col7\" class=\"data row6 col7\" >0.946</td>\n",
       "                        <td id=\"T_926f9894_5c44_11ea_a87d_bc8385f39641row6_col8\" class=\"data row6 col8\" >0.217</td>\n",
       "                        <td id=\"T_926f9894_5c44_11ea_a87d_bc8385f39641row6_col9\" class=\"data row6 col9\" >0.181</td>\n",
       "                        <td id=\"T_926f9894_5c44_11ea_a87d_bc8385f39641row6_col10\" class=\"data row6 col10\" >0.252</td>\n",
       "                        <td id=\"T_926f9894_5c44_11ea_a87d_bc8385f39641row6_col11\" class=\"data row6 col11\" >0.293</td>\n",
       "                        <td id=\"T_926f9894_5c44_11ea_a87d_bc8385f39641row6_col12\" class=\"data row6 col12\" >0.142</td>\n",
       "                        <td id=\"T_926f9894_5c44_11ea_a87d_bc8385f39641row6_col13\" class=\"data row6 col13\" >0.164</td>\n",
       "            </tr>\n",
       "            <tr>\n",
       "                        <th id=\"T_926f9894_5c44_11ea_a87d_bc8385f39641level0_row7\" class=\"row_heading level0 row7\" >BILL_AMT6</th>\n",
       "                        <td id=\"T_926f9894_5c44_11ea_a87d_bc8385f39641row7_col0\" class=\"data row7 col0\" >0.29</td>\n",
       "                        <td id=\"T_926f9894_5c44_11ea_a87d_bc8385f39641row7_col1\" class=\"data row7 col1\" >0.0476</td>\n",
       "                        <td id=\"T_926f9894_5c44_11ea_a87d_bc8385f39641row7_col2\" class=\"data row7 col2\" >0.803</td>\n",
       "                        <td id=\"T_926f9894_5c44_11ea_a87d_bc8385f39641row7_col3\" class=\"data row7 col3\" >0.832</td>\n",
       "                        <td id=\"T_926f9894_5c44_11ea_a87d_bc8385f39641row7_col4\" class=\"data row7 col4\" >0.853</td>\n",
       "                        <td id=\"T_926f9894_5c44_11ea_a87d_bc8385f39641row7_col5\" class=\"data row7 col5\" >0.901</td>\n",
       "                        <td id=\"T_926f9894_5c44_11ea_a87d_bc8385f39641row7_col6\" class=\"data row7 col6\" >0.946</td>\n",
       "                        <td id=\"T_926f9894_5c44_11ea_a87d_bc8385f39641row7_col7\" class=\"data row7 col7\" >1</td>\n",
       "                        <td id=\"T_926f9894_5c44_11ea_a87d_bc8385f39641row7_col8\" class=\"data row7 col8\" >0.2</td>\n",
       "                        <td id=\"T_926f9894_5c44_11ea_a87d_bc8385f39641row7_col9\" class=\"data row7 col9\" >0.173</td>\n",
       "                        <td id=\"T_926f9894_5c44_11ea_a87d_bc8385f39641row7_col10\" class=\"data row7 col10\" >0.234</td>\n",
       "                        <td id=\"T_926f9894_5c44_11ea_a87d_bc8385f39641row7_col11\" class=\"data row7 col11\" >0.25</td>\n",
       "                        <td id=\"T_926f9894_5c44_11ea_a87d_bc8385f39641row7_col12\" class=\"data row7 col12\" >0.308</td>\n",
       "                        <td id=\"T_926f9894_5c44_11ea_a87d_bc8385f39641row7_col13\" class=\"data row7 col13\" >0.115</td>\n",
       "            </tr>\n",
       "            <tr>\n",
       "                        <th id=\"T_926f9894_5c44_11ea_a87d_bc8385f39641level0_row8\" class=\"row_heading level0 row8\" >PAY_AMT1</th>\n",
       "                        <td id=\"T_926f9894_5c44_11ea_a87d_bc8385f39641row8_col0\" class=\"data row8 col0\" >0.195</td>\n",
       "                        <td id=\"T_926f9894_5c44_11ea_a87d_bc8385f39641row8_col1\" class=\"data row8 col1\" >0.0261</td>\n",
       "                        <td id=\"T_926f9894_5c44_11ea_a87d_bc8385f39641row8_col2\" class=\"data row8 col2\" >0.14</td>\n",
       "                        <td id=\"T_926f9894_5c44_11ea_a87d_bc8385f39641row8_col3\" class=\"data row8 col3\" >0.28</td>\n",
       "                        <td id=\"T_926f9894_5c44_11ea_a87d_bc8385f39641row8_col4\" class=\"data row8 col4\" >0.244</td>\n",
       "                        <td id=\"T_926f9894_5c44_11ea_a87d_bc8385f39641row8_col5\" class=\"data row8 col5\" >0.233</td>\n",
       "                        <td id=\"T_926f9894_5c44_11ea_a87d_bc8385f39641row8_col6\" class=\"data row8 col6\" >0.217</td>\n",
       "                        <td id=\"T_926f9894_5c44_11ea_a87d_bc8385f39641row8_col7\" class=\"data row8 col7\" >0.2</td>\n",
       "                        <td id=\"T_926f9894_5c44_11ea_a87d_bc8385f39641row8_col8\" class=\"data row8 col8\" >1</td>\n",
       "                        <td id=\"T_926f9894_5c44_11ea_a87d_bc8385f39641row8_col9\" class=\"data row8 col9\" >0.286</td>\n",
       "                        <td id=\"T_926f9894_5c44_11ea_a87d_bc8385f39641row8_col10\" class=\"data row8 col10\" >0.252</td>\n",
       "                        <td id=\"T_926f9894_5c44_11ea_a87d_bc8385f39641row8_col11\" class=\"data row8 col11\" >0.2</td>\n",
       "                        <td id=\"T_926f9894_5c44_11ea_a87d_bc8385f39641row8_col12\" class=\"data row8 col12\" >0.148</td>\n",
       "                        <td id=\"T_926f9894_5c44_11ea_a87d_bc8385f39641row8_col13\" class=\"data row8 col13\" >0.186</td>\n",
       "            </tr>\n",
       "            <tr>\n",
       "                        <th id=\"T_926f9894_5c44_11ea_a87d_bc8385f39641level0_row9\" class=\"row_heading level0 row9\" >PAY_AMT2</th>\n",
       "                        <td id=\"T_926f9894_5c44_11ea_a87d_bc8385f39641row9_col0\" class=\"data row9 col0\" >0.178</td>\n",
       "                        <td id=\"T_926f9894_5c44_11ea_a87d_bc8385f39641row9_col1\" class=\"data row9 col1\" >0.0218</td>\n",
       "                        <td id=\"T_926f9894_5c44_11ea_a87d_bc8385f39641row9_col2\" class=\"data row9 col2\" >0.0994</td>\n",
       "                        <td id=\"T_926f9894_5c44_11ea_a87d_bc8385f39641row9_col3\" class=\"data row9 col3\" >0.101</td>\n",
       "                        <td id=\"T_926f9894_5c44_11ea_a87d_bc8385f39641row9_col4\" class=\"data row9 col4\" >0.317</td>\n",
       "                        <td id=\"T_926f9894_5c44_11ea_a87d_bc8385f39641row9_col5\" class=\"data row9 col5\" >0.208</td>\n",
       "                        <td id=\"T_926f9894_5c44_11ea_a87d_bc8385f39641row9_col6\" class=\"data row9 col6\" >0.181</td>\n",
       "                        <td id=\"T_926f9894_5c44_11ea_a87d_bc8385f39641row9_col7\" class=\"data row9 col7\" >0.173</td>\n",
       "                        <td id=\"T_926f9894_5c44_11ea_a87d_bc8385f39641row9_col8\" class=\"data row9 col8\" >0.286</td>\n",
       "                        <td id=\"T_926f9894_5c44_11ea_a87d_bc8385f39641row9_col9\" class=\"data row9 col9\" >1</td>\n",
       "                        <td id=\"T_926f9894_5c44_11ea_a87d_bc8385f39641row9_col10\" class=\"data row9 col10\" >0.245</td>\n",
       "                        <td id=\"T_926f9894_5c44_11ea_a87d_bc8385f39641row9_col11\" class=\"data row9 col11\" >0.18</td>\n",
       "                        <td id=\"T_926f9894_5c44_11ea_a87d_bc8385f39641row9_col12\" class=\"data row9 col12\" >0.181</td>\n",
       "                        <td id=\"T_926f9894_5c44_11ea_a87d_bc8385f39641row9_col13\" class=\"data row9 col13\" >0.158</td>\n",
       "            </tr>\n",
       "            <tr>\n",
       "                        <th id=\"T_926f9894_5c44_11ea_a87d_bc8385f39641level0_row10\" class=\"row_heading level0 row10\" >PAY_AMT3</th>\n",
       "                        <td id=\"T_926f9894_5c44_11ea_a87d_bc8385f39641row10_col0\" class=\"data row10 col0\" >0.21</td>\n",
       "                        <td id=\"T_926f9894_5c44_11ea_a87d_bc8385f39641row10_col1\" class=\"data row10 col1\" >0.0292</td>\n",
       "                        <td id=\"T_926f9894_5c44_11ea_a87d_bc8385f39641row10_col2\" class=\"data row10 col2\" >0.157</td>\n",
       "                        <td id=\"T_926f9894_5c44_11ea_a87d_bc8385f39641row10_col3\" class=\"data row10 col3\" >0.151</td>\n",
       "                        <td id=\"T_926f9894_5c44_11ea_a87d_bc8385f39641row10_col4\" class=\"data row10 col4\" >0.13</td>\n",
       "                        <td id=\"T_926f9894_5c44_11ea_a87d_bc8385f39641row10_col5\" class=\"data row10 col5\" >0.3</td>\n",
       "                        <td id=\"T_926f9894_5c44_11ea_a87d_bc8385f39641row10_col6\" class=\"data row10 col6\" >0.252</td>\n",
       "                        <td id=\"T_926f9894_5c44_11ea_a87d_bc8385f39641row10_col7\" class=\"data row10 col7\" >0.234</td>\n",
       "                        <td id=\"T_926f9894_5c44_11ea_a87d_bc8385f39641row10_col8\" class=\"data row10 col8\" >0.252</td>\n",
       "                        <td id=\"T_926f9894_5c44_11ea_a87d_bc8385f39641row10_col9\" class=\"data row10 col9\" >0.245</td>\n",
       "                        <td id=\"T_926f9894_5c44_11ea_a87d_bc8385f39641row10_col10\" class=\"data row10 col10\" >1</td>\n",
       "                        <td id=\"T_926f9894_5c44_11ea_a87d_bc8385f39641row10_col11\" class=\"data row10 col11\" >0.216</td>\n",
       "                        <td id=\"T_926f9894_5c44_11ea_a87d_bc8385f39641row10_col12\" class=\"data row10 col12\" >0.159</td>\n",
       "                        <td id=\"T_926f9894_5c44_11ea_a87d_bc8385f39641row10_col13\" class=\"data row10 col13\" >0.163</td>\n",
       "            </tr>\n",
       "            <tr>\n",
       "                        <th id=\"T_926f9894_5c44_11ea_a87d_bc8385f39641level0_row11\" class=\"row_heading level0 row11\" >PAY_AMT4</th>\n",
       "                        <td id=\"T_926f9894_5c44_11ea_a87d_bc8385f39641row11_col0\" class=\"data row11 col0\" >0.203</td>\n",
       "                        <td id=\"T_926f9894_5c44_11ea_a87d_bc8385f39641row11_col1\" class=\"data row11 col1\" >0.0214</td>\n",
       "                        <td id=\"T_926f9894_5c44_11ea_a87d_bc8385f39641row11_col2\" class=\"data row11 col2\" >0.158</td>\n",
       "                        <td id=\"T_926f9894_5c44_11ea_a87d_bc8385f39641row11_col3\" class=\"data row11 col3\" >0.147</td>\n",
       "                        <td id=\"T_926f9894_5c44_11ea_a87d_bc8385f39641row11_col4\" class=\"data row11 col4\" >0.143</td>\n",
       "                        <td id=\"T_926f9894_5c44_11ea_a87d_bc8385f39641row11_col5\" class=\"data row11 col5\" >0.13</td>\n",
       "                        <td id=\"T_926f9894_5c44_11ea_a87d_bc8385f39641row11_col6\" class=\"data row11 col6\" >0.293</td>\n",
       "                        <td id=\"T_926f9894_5c44_11ea_a87d_bc8385f39641row11_col7\" class=\"data row11 col7\" >0.25</td>\n",
       "                        <td id=\"T_926f9894_5c44_11ea_a87d_bc8385f39641row11_col8\" class=\"data row11 col8\" >0.2</td>\n",
       "                        <td id=\"T_926f9894_5c44_11ea_a87d_bc8385f39641row11_col9\" class=\"data row11 col9\" >0.18</td>\n",
       "                        <td id=\"T_926f9894_5c44_11ea_a87d_bc8385f39641row11_col10\" class=\"data row11 col10\" >0.216</td>\n",
       "                        <td id=\"T_926f9894_5c44_11ea_a87d_bc8385f39641row11_col11\" class=\"data row11 col11\" >1</td>\n",
       "                        <td id=\"T_926f9894_5c44_11ea_a87d_bc8385f39641row11_col12\" class=\"data row11 col12\" >0.152</td>\n",
       "                        <td id=\"T_926f9894_5c44_11ea_a87d_bc8385f39641row11_col13\" class=\"data row11 col13\" >0.158</td>\n",
       "            </tr>\n",
       "            <tr>\n",
       "                        <th id=\"T_926f9894_5c44_11ea_a87d_bc8385f39641level0_row12\" class=\"row_heading level0 row12\" >PAY_AMT5</th>\n",
       "                        <td id=\"T_926f9894_5c44_11ea_a87d_bc8385f39641row12_col0\" class=\"data row12 col0\" >0.217</td>\n",
       "                        <td id=\"T_926f9894_5c44_11ea_a87d_bc8385f39641row12_col1\" class=\"data row12 col1\" >0.0228</td>\n",
       "                        <td id=\"T_926f9894_5c44_11ea_a87d_bc8385f39641row12_col2\" class=\"data row12 col2\" >0.167</td>\n",
       "                        <td id=\"T_926f9894_5c44_11ea_a87d_bc8385f39641row12_col3\" class=\"data row12 col3\" >0.158</td>\n",
       "                        <td id=\"T_926f9894_5c44_11ea_a87d_bc8385f39641row12_col4\" class=\"data row12 col4\" >0.18</td>\n",
       "                        <td id=\"T_926f9894_5c44_11ea_a87d_bc8385f39641row12_col5\" class=\"data row12 col5\" >0.16</td>\n",
       "                        <td id=\"T_926f9894_5c44_11ea_a87d_bc8385f39641row12_col6\" class=\"data row12 col6\" >0.142</td>\n",
       "                        <td id=\"T_926f9894_5c44_11ea_a87d_bc8385f39641row12_col7\" class=\"data row12 col7\" >0.308</td>\n",
       "                        <td id=\"T_926f9894_5c44_11ea_a87d_bc8385f39641row12_col8\" class=\"data row12 col8\" >0.148</td>\n",
       "                        <td id=\"T_926f9894_5c44_11ea_a87d_bc8385f39641row12_col9\" class=\"data row12 col9\" >0.181</td>\n",
       "                        <td id=\"T_926f9894_5c44_11ea_a87d_bc8385f39641row12_col10\" class=\"data row12 col10\" >0.159</td>\n",
       "                        <td id=\"T_926f9894_5c44_11ea_a87d_bc8385f39641row12_col11\" class=\"data row12 col11\" >0.152</td>\n",
       "                        <td id=\"T_926f9894_5c44_11ea_a87d_bc8385f39641row12_col12\" class=\"data row12 col12\" >1</td>\n",
       "                        <td id=\"T_926f9894_5c44_11ea_a87d_bc8385f39641row12_col13\" class=\"data row12 col13\" >0.155</td>\n",
       "            </tr>\n",
       "            <tr>\n",
       "                        <th id=\"T_926f9894_5c44_11ea_a87d_bc8385f39641level0_row13\" class=\"row_heading level0 row13\" >PAY_AMT6</th>\n",
       "                        <td id=\"T_926f9894_5c44_11ea_a87d_bc8385f39641row13_col0\" class=\"data row13 col0\" >0.22</td>\n",
       "                        <td id=\"T_926f9894_5c44_11ea_a87d_bc8385f39641row13_col1\" class=\"data row13 col1\" >0.0195</td>\n",
       "                        <td id=\"T_926f9894_5c44_11ea_a87d_bc8385f39641row13_col2\" class=\"data row13 col2\" >0.179</td>\n",
       "                        <td id=\"T_926f9894_5c44_11ea_a87d_bc8385f39641row13_col3\" class=\"data row13 col3\" >0.174</td>\n",
       "                        <td id=\"T_926f9894_5c44_11ea_a87d_bc8385f39641row13_col4\" class=\"data row13 col4\" >0.182</td>\n",
       "                        <td id=\"T_926f9894_5c44_11ea_a87d_bc8385f39641row13_col5\" class=\"data row13 col5\" >0.178</td>\n",
       "                        <td id=\"T_926f9894_5c44_11ea_a87d_bc8385f39641row13_col6\" class=\"data row13 col6\" >0.164</td>\n",
       "                        <td id=\"T_926f9894_5c44_11ea_a87d_bc8385f39641row13_col7\" class=\"data row13 col7\" >0.115</td>\n",
       "                        <td id=\"T_926f9894_5c44_11ea_a87d_bc8385f39641row13_col8\" class=\"data row13 col8\" >0.186</td>\n",
       "                        <td id=\"T_926f9894_5c44_11ea_a87d_bc8385f39641row13_col9\" class=\"data row13 col9\" >0.158</td>\n",
       "                        <td id=\"T_926f9894_5c44_11ea_a87d_bc8385f39641row13_col10\" class=\"data row13 col10\" >0.163</td>\n",
       "                        <td id=\"T_926f9894_5c44_11ea_a87d_bc8385f39641row13_col11\" class=\"data row13 col11\" >0.158</td>\n",
       "                        <td id=\"T_926f9894_5c44_11ea_a87d_bc8385f39641row13_col12\" class=\"data row13 col12\" >0.155</td>\n",
       "                        <td id=\"T_926f9894_5c44_11ea_a87d_bc8385f39641row13_col13\" class=\"data row13 col13\" >1</td>\n",
       "            </tr>\n",
       "    </tbody></table>"
      ],
      "text/plain": [
       "<pandas.io.formats.style.Styler at 0x259b60d7a48>"
      ]
     },
     "execution_count": 33,
     "metadata": {},
     "output_type": "execute_result"
    }
   ],
   "source": [
    "#Plot the correlation matrix in a heatmap style\n",
    "corrMat.style.background_gradient(cmap='jet').set_precision(3)"
   ]
  },
  {
   "cell_type": "code",
   "execution_count": 34,
   "metadata": {},
   "outputs": [
    {
     "name": "stdout",
     "output_type": "stream",
     "text": [
      "              LIMIT_BAL            AGE     BILL_AMT1     BILL_AMT2  \\\n",
      "LIMIT_BAL  1.683446e+10  173076.722569  2.727020e+09  2.570130e+09   \n",
      "AGE        1.730767e+05      84.969755  3.817293e+04  3.561366e+04   \n",
      "BILL_AMT1  2.727020e+09   38172.933546  5.422240e+09  4.986670e+09   \n",
      "BILL_AMT2  2.570130e+09   35613.657962  4.986670e+09  5.065705e+09   \n",
      "BILL_AMT3  2.548533e+09   34334.251320  4.556511e+09  4.582086e+09   \n",
      "BILL_AMT4  2.453926e+09   30453.108180  4.075286e+09  4.086508e+09   \n",
      "BILL_AMT5  2.331481e+09   27654.067800  3.714795e+09  3.720401e+09   \n",
      "BILL_AMT6  2.243837e+09   26137.648547  3.519876e+09  3.524868e+09   \n",
      "PAY_AMT1   4.195711e+08    3992.041735  1.710894e+08  3.305146e+08   \n",
      "PAY_AMT2   5.333504e+08    4626.861549  1.685692e+08  1.653859e+08   \n",
      "PAY_AMT3   4.801180e+08    4746.824393  2.034048e+08  1.888731e+08   \n",
      "PAY_AMT4   4.131202e+08    3087.324192  1.826164e+08  1.643518e+08   \n",
      "PAY_AMT5   4.305657e+08    3218.052172  1.879091e+08  1.717652e+08   \n",
      "PAY_AMT6   5.065153e+08    3191.903901  2.347681e+08  2.204845e+08   \n",
      "\n",
      "              BILL_AMT3     BILL_AMT4     BILL_AMT5     BILL_AMT6  \\\n",
      "LIMIT_BAL  2.548533e+09  2.453926e+09  2.331481e+09  2.243837e+09   \n",
      "AGE        3.433425e+04  3.045311e+04  2.765407e+04  2.613765e+04   \n",
      "BILL_AMT1  4.556511e+09  4.075286e+09  3.714795e+09  3.519876e+09   \n",
      "BILL_AMT2  4.582086e+09  4.086508e+09  3.720401e+09  3.524868e+09   \n",
      "BILL_AMT3  4.809338e+09  4.122238e+09  3.726780e+09  3.524247e+09   \n",
      "BILL_AMT4  4.122238e+09  4.138716e+09  3.677105e+09  3.451762e+09   \n",
      "BILL_AMT5  3.726780e+09  3.677105e+09  3.696294e+09  3.425914e+09   \n",
      "BILL_AMT6  3.524247e+09  3.451762e+09  3.425914e+09  3.546692e+09   \n",
      "PAY_AMT1   2.806565e+08  2.482888e+08  2.185501e+08  1.972478e+08   \n",
      "PAY_AMT2   5.064226e+08  3.076686e+08  2.538936e+08  2.369244e+08   \n",
      "PAY_AMT3   1.587478e+08  3.398374e+08  2.700805e+08  2.451233e+08   \n",
      "PAY_AMT4   1.558003e+08  1.312133e+08  2.791830e+08  2.334670e+08   \n",
      "PAY_AMT5   1.904126e+08  1.576892e+08  1.315051e+08  2.799982e+08   \n",
      "PAY_AMT6   2.247817e+08  2.031590e+08  1.774537e+08  1.222761e+08   \n",
      "\n",
      "               PAY_AMT1      PAY_AMT2      PAY_AMT3      PAY_AMT4  \\\n",
      "LIMIT_BAL  4.195711e+08  5.333504e+08  4.801180e+08  4.131202e+08   \n",
      "AGE        3.992042e+03  4.626862e+03  4.746824e+03  3.087324e+03   \n",
      "BILL_AMT1  1.710894e+08  1.685692e+08  2.034048e+08  1.826164e+08   \n",
      "BILL_AMT2  3.305146e+08  1.653859e+08  1.888731e+08  1.643518e+08   \n",
      "BILL_AMT3  2.806565e+08  5.064226e+08  1.587478e+08  1.558003e+08   \n",
      "BILL_AMT4  2.482888e+08  3.076686e+08  3.398374e+08  1.312133e+08   \n",
      "BILL_AMT5  2.185501e+08  2.538936e+08  2.700805e+08  2.791830e+08   \n",
      "BILL_AMT6  1.972478e+08  2.369244e+08  2.451233e+08  2.334670e+08   \n",
      "PAY_AMT1   2.743423e+08  1.089849e+08  7.354626e+07  5.178189e+07   \n",
      "PAY_AMT2   1.089849e+08  5.308817e+08  9.929841e+07  6.501168e+07   \n",
      "PAY_AMT3   7.354626e+07  9.929841e+07  3.100051e+08  5.966970e+07   \n",
      "PAY_AMT4   5.178189e+07  6.501168e+07  5.966970e+07  2.454286e+08   \n",
      "PAY_AMT5   3.756893e+07  6.368414e+07  4.282921e+07  3.634098e+07   \n",
      "PAY_AMT6   5.469033e+07  6.456816e+07  5.093879e+07  4.395747e+07   \n",
      "\n",
      "               PAY_AMT5      PAY_AMT6  \n",
      "LIMIT_BAL  4.305657e+08  5.065153e+08  \n",
      "AGE        3.218052e+03  3.191904e+03  \n",
      "BILL_AMT1  1.879091e+08  2.347681e+08  \n",
      "BILL_AMT2  1.717652e+08  2.204845e+08  \n",
      "BILL_AMT3  1.904126e+08  2.247817e+08  \n",
      "BILL_AMT4  1.576892e+08  2.031590e+08  \n",
      "BILL_AMT5  1.315051e+08  1.774537e+08  \n",
      "BILL_AMT6  2.799982e+08  1.222761e+08  \n",
      "PAY_AMT1   3.756893e+07  5.469033e+07  \n",
      "PAY_AMT2   6.368414e+07  6.456816e+07  \n",
      "PAY_AMT3   4.282921e+07  5.093879e+07  \n",
      "PAY_AMT4   3.634098e+07  4.395747e+07  \n",
      "PAY_AMT5   2.334266e+08  4.207110e+07  \n",
      "PAY_AMT6   4.207110e+07  3.160383e+08  \n"
     ]
    }
   ],
   "source": [
    "#Create a covariance matrix\n",
    "covMat = credit.cov()\n",
    "print(covMat)"
   ]
  },
  {
   "cell_type": "code",
   "execution_count": 35,
   "metadata": {},
   "outputs": [
    {
     "data": {
      "text/html": [
       "<style  type=\"text/css\" >\n",
       "    #T_929a784a_5c44_11ea_879c_bc8385f39641row0_col0 {\n",
       "            background-color:  #fcfdbf;\n",
       "            color:  #000000;\n",
       "        }    #T_929a784a_5c44_11ea_879c_bc8385f39641row0_col1 {\n",
       "            background-color:  #fcfdbf;\n",
       "            color:  #000000;\n",
       "        }    #T_929a784a_5c44_11ea_879c_bc8385f39641row0_col2 {\n",
       "            background-color:  #b73779;\n",
       "            color:  #f1f1f1;\n",
       "        }    #T_929a784a_5c44_11ea_879c_bc8385f39641row0_col3 {\n",
       "            background-color:  #b83779;\n",
       "            color:  #f1f1f1;\n",
       "        }    #T_929a784a_5c44_11ea_879c_bc8385f39641row0_col4 {\n",
       "            background-color:  #c23b75;\n",
       "            color:  #f1f1f1;\n",
       "        }    #T_929a784a_5c44_11ea_879c_bc8385f39641row0_col5 {\n",
       "            background-color:  #db476a;\n",
       "            color:  #000000;\n",
       "        }    #T_929a784a_5c44_11ea_879c_bc8385f39641row0_col6 {\n",
       "            background-color:  #e75263;\n",
       "            color:  #000000;\n",
       "        }    #T_929a784a_5c44_11ea_879c_bc8385f39641row0_col7 {\n",
       "            background-color:  #e85362;\n",
       "            color:  #000000;\n",
       "        }    #T_929a784a_5c44_11ea_879c_bc8385f39641row0_col8 {\n",
       "            background-color:  #fcfdbf;\n",
       "            color:  #000000;\n",
       "        }    #T_929a784a_5c44_11ea_879c_bc8385f39641row0_col9 {\n",
       "            background-color:  #fcfdbf;\n",
       "            color:  #000000;\n",
       "        }    #T_929a784a_5c44_11ea_879c_bc8385f39641row0_col10 {\n",
       "            background-color:  #fcfdbf;\n",
       "            color:  #000000;\n",
       "        }    #T_929a784a_5c44_11ea_879c_bc8385f39641row0_col11 {\n",
       "            background-color:  #fcfdbf;\n",
       "            color:  #000000;\n",
       "        }    #T_929a784a_5c44_11ea_879c_bc8385f39641row0_col12 {\n",
       "            background-color:  #fcfdbf;\n",
       "            color:  #000000;\n",
       "        }    #T_929a784a_5c44_11ea_879c_bc8385f39641row0_col13 {\n",
       "            background-color:  #fcfdbf;\n",
       "            color:  #000000;\n",
       "        }    #T_929a784a_5c44_11ea_879c_bc8385f39641row1_col0 {\n",
       "            background-color:  #000004;\n",
       "            color:  #f1f1f1;\n",
       "        }    #T_929a784a_5c44_11ea_879c_bc8385f39641row1_col1 {\n",
       "            background-color:  #000004;\n",
       "            color:  #f1f1f1;\n",
       "        }    #T_929a784a_5c44_11ea_879c_bc8385f39641row1_col2 {\n",
       "            background-color:  #000004;\n",
       "            color:  #f1f1f1;\n",
       "        }    #T_929a784a_5c44_11ea_879c_bc8385f39641row1_col3 {\n",
       "            background-color:  #000004;\n",
       "            color:  #f1f1f1;\n",
       "        }    #T_929a784a_5c44_11ea_879c_bc8385f39641row1_col4 {\n",
       "            background-color:  #000004;\n",
       "            color:  #f1f1f1;\n",
       "        }    #T_929a784a_5c44_11ea_879c_bc8385f39641row1_col5 {\n",
       "            background-color:  #000004;\n",
       "            color:  #f1f1f1;\n",
       "        }    #T_929a784a_5c44_11ea_879c_bc8385f39641row1_col6 {\n",
       "            background-color:  #000004;\n",
       "            color:  #f1f1f1;\n",
       "        }    #T_929a784a_5c44_11ea_879c_bc8385f39641row1_col7 {\n",
       "            background-color:  #000004;\n",
       "            color:  #f1f1f1;\n",
       "        }    #T_929a784a_5c44_11ea_879c_bc8385f39641row1_col8 {\n",
       "            background-color:  #000004;\n",
       "            color:  #f1f1f1;\n",
       "        }    #T_929a784a_5c44_11ea_879c_bc8385f39641row1_col9 {\n",
       "            background-color:  #000004;\n",
       "            color:  #f1f1f1;\n",
       "        }    #T_929a784a_5c44_11ea_879c_bc8385f39641row1_col10 {\n",
       "            background-color:  #000004;\n",
       "            color:  #f1f1f1;\n",
       "        }    #T_929a784a_5c44_11ea_879c_bc8385f39641row1_col11 {\n",
       "            background-color:  #000004;\n",
       "            color:  #f1f1f1;\n",
       "        }    #T_929a784a_5c44_11ea_879c_bc8385f39641row1_col12 {\n",
       "            background-color:  #000004;\n",
       "            color:  #f1f1f1;\n",
       "        }    #T_929a784a_5c44_11ea_879c_bc8385f39641row1_col13 {\n",
       "            background-color:  #000004;\n",
       "            color:  #f1f1f1;\n",
       "        }    #T_929a784a_5c44_11ea_879c_bc8385f39641row2_col0 {\n",
       "            background-color:  #2a115c;\n",
       "            color:  #f1f1f1;\n",
       "        }    #T_929a784a_5c44_11ea_879c_bc8385f39641row2_col1 {\n",
       "            background-color:  #440f76;\n",
       "            color:  #f1f1f1;\n",
       "        }    #T_929a784a_5c44_11ea_879c_bc8385f39641row2_col2 {\n",
       "            background-color:  #fcfdbf;\n",
       "            color:  #000000;\n",
       "        }    #T_929a784a_5c44_11ea_879c_bc8385f39641row2_col3 {\n",
       "            background-color:  #fcf7b9;\n",
       "            color:  #000000;\n",
       "        }    #T_929a784a_5c44_11ea_879c_bc8385f39641row2_col4 {\n",
       "            background-color:  #fde5a7;\n",
       "            color:  #000000;\n",
       "        }    #T_929a784a_5c44_11ea_879c_bc8385f39641row2_col5 {\n",
       "            background-color:  #fcf7b9;\n",
       "            color:  #000000;\n",
       "        }    #T_929a784a_5c44_11ea_879c_bc8385f39641row2_col6 {\n",
       "            background-color:  #fcfdbf;\n",
       "            color:  #000000;\n",
       "        }    #T_929a784a_5c44_11ea_879c_bc8385f39641row2_col7 {\n",
       "            background-color:  #fcfbbd;\n",
       "            color:  #000000;\n",
       "        }    #T_929a784a_5c44_11ea_879c_bc8385f39641row2_col8 {\n",
       "            background-color:  #902a81;\n",
       "            color:  #f1f1f1;\n",
       "        }    #T_929a784a_5c44_11ea_879c_bc8385f39641row2_col9 {\n",
       "            background-color:  #6a1c81;\n",
       "            color:  #f1f1f1;\n",
       "        }    #T_929a784a_5c44_11ea_879c_bc8385f39641row2_col10 {\n",
       "            background-color:  #962c80;\n",
       "            color:  #f1f1f1;\n",
       "        }    #T_929a784a_5c44_11ea_879c_bc8385f39641row2_col11 {\n",
       "            background-color:  #9e2f7f;\n",
       "            color:  #f1f1f1;\n",
       "        }    #T_929a784a_5c44_11ea_879c_bc8385f39641row2_col12 {\n",
       "            background-color:  #9b2e7f;\n",
       "            color:  #f1f1f1;\n",
       "        }    #T_929a784a_5c44_11ea_879c_bc8385f39641row2_col13 {\n",
       "            background-color:  #a6317d;\n",
       "            color:  #f1f1f1;\n",
       "        }    #T_929a784a_5c44_11ea_879c_bc8385f39641row3_col0 {\n",
       "            background-color:  #271258;\n",
       "            color:  #f1f1f1;\n",
       "        }    #T_929a784a_5c44_11ea_879c_bc8385f39641row3_col1 {\n",
       "            background-color:  #3d0f71;\n",
       "            color:  #f1f1f1;\n",
       "        }    #T_929a784a_5c44_11ea_879c_bc8385f39641row3_col2 {\n",
       "            background-color:  #fed89a;\n",
       "            color:  #000000;\n",
       "        }    #T_929a784a_5c44_11ea_879c_bc8385f39641row3_col3 {\n",
       "            background-color:  #fcfdbf;\n",
       "            color:  #000000;\n",
       "        }    #T_929a784a_5c44_11ea_879c_bc8385f39641row3_col4 {\n",
       "            background-color:  #fde7a9;\n",
       "            color:  #000000;\n",
       "        }    #T_929a784a_5c44_11ea_879c_bc8385f39641row3_col5 {\n",
       "            background-color:  #fcf7b9;\n",
       "            color:  #000000;\n",
       "        }    #T_929a784a_5c44_11ea_879c_bc8385f39641row3_col6 {\n",
       "            background-color:  #fcfdbf;\n",
       "            color:  #000000;\n",
       "        }    #T_929a784a_5c44_11ea_879c_bc8385f39641row3_col7 {\n",
       "            background-color:  #fcfbbd;\n",
       "            color:  #000000;\n",
       "        }    #T_929a784a_5c44_11ea_879c_bc8385f39641row3_col8 {\n",
       "            background-color:  #fd9a6a;\n",
       "            color:  #000000;\n",
       "        }    #T_929a784a_5c44_11ea_879c_bc8385f39641row3_col9 {\n",
       "            background-color:  #681c81;\n",
       "            color:  #f1f1f1;\n",
       "        }    #T_929a784a_5c44_11ea_879c_bc8385f39641row3_col10 {\n",
       "            background-color:  #892881;\n",
       "            color:  #f1f1f1;\n",
       "        }    #T_929a784a_5c44_11ea_879c_bc8385f39641row3_col11 {\n",
       "            background-color:  #8b2981;\n",
       "            color:  #f1f1f1;\n",
       "        }    #T_929a784a_5c44_11ea_879c_bc8385f39641row3_col12 {\n",
       "            background-color:  #8c2981;\n",
       "            color:  #f1f1f1;\n",
       "        }    #T_929a784a_5c44_11ea_879c_bc8385f39641row3_col13 {\n",
       "            background-color:  #9b2e7f;\n",
       "            color:  #f1f1f1;\n",
       "        }    #T_929a784a_5c44_11ea_879c_bc8385f39641row4_col0 {\n",
       "            background-color:  #251255;\n",
       "            color:  #f1f1f1;\n",
       "        }    #T_929a784a_5c44_11ea_879c_bc8385f39641row4_col1 {\n",
       "            background-color:  #390f6e;\n",
       "            color:  #f1f1f1;\n",
       "        }    #T_929a784a_5c44_11ea_879c_bc8385f39641row4_col2 {\n",
       "            background-color:  #feb47b;\n",
       "            color:  #000000;\n",
       "        }    #T_929a784a_5c44_11ea_879c_bc8385f39641row4_col3 {\n",
       "            background-color:  #fed194;\n",
       "            color:  #000000;\n",
       "        }    #T_929a784a_5c44_11ea_879c_bc8385f39641row4_col4 {\n",
       "            background-color:  #fcfdbf;\n",
       "            color:  #000000;\n",
       "        }    #T_929a784a_5c44_11ea_879c_bc8385f39641row4_col5 {\n",
       "            background-color:  #fcfbbd;\n",
       "            color:  #000000;\n",
       "        }    #T_929a784a_5c44_11ea_879c_bc8385f39641row4_col6 {\n",
       "            background-color:  #fcfdbf;\n",
       "            color:  #000000;\n",
       "        }    #T_929a784a_5c44_11ea_879c_bc8385f39641row4_col7 {\n",
       "            background-color:  #fcfbbd;\n",
       "            color:  #000000;\n",
       "        }    #T_929a784a_5c44_11ea_879c_bc8385f39641row4_col8 {\n",
       "            background-color:  #f2625d;\n",
       "            color:  #000000;\n",
       "        }    #T_929a784a_5c44_11ea_879c_bc8385f39641row4_col9 {\n",
       "            background-color:  #fde7a9;\n",
       "            color:  #000000;\n",
       "        }    #T_929a784a_5c44_11ea_879c_bc8385f39641row4_col10 {\n",
       "            background-color:  #701f81;\n",
       "            color:  #f1f1f1;\n",
       "        }    #T_929a784a_5c44_11ea_879c_bc8385f39641row4_col11 {\n",
       "            background-color:  #832681;\n",
       "            color:  #f1f1f1;\n",
       "        }    #T_929a784a_5c44_11ea_879c_bc8385f39641row4_col12 {\n",
       "            background-color:  #9e2f7f;\n",
       "            color:  #f1f1f1;\n",
       "        }    #T_929a784a_5c44_11ea_879c_bc8385f39641row4_col13 {\n",
       "            background-color:  #9e2f7f;\n",
       "            color:  #f1f1f1;\n",
       "        }    #T_929a784a_5c44_11ea_879c_bc8385f39641row5_col0 {\n",
       "            background-color:  #241253;\n",
       "            color:  #f1f1f1;\n",
       "        }    #T_929a784a_5c44_11ea_879c_bc8385f39641row5_col1 {\n",
       "            background-color:  #2f1163;\n",
       "            color:  #f1f1f1;\n",
       "        }    #T_929a784a_5c44_11ea_879c_bc8385f39641row5_col2 {\n",
       "            background-color:  #fc8961;\n",
       "            color:  #000000;\n",
       "        }    #T_929a784a_5c44_11ea_879c_bc8385f39641row5_col3 {\n",
       "            background-color:  #fea36f;\n",
       "            color:  #000000;\n",
       "        }    #T_929a784a_5c44_11ea_879c_bc8385f39641row5_col4 {\n",
       "            background-color:  #febb81;\n",
       "            color:  #000000;\n",
       "        }    #T_929a784a_5c44_11ea_879c_bc8385f39641row5_col5 {\n",
       "            background-color:  #fcfdbf;\n",
       "            color:  #000000;\n",
       "        }    #T_929a784a_5c44_11ea_879c_bc8385f39641row5_col6 {\n",
       "            background-color:  #fcf7b9;\n",
       "            color:  #000000;\n",
       "        }    #T_929a784a_5c44_11ea_879c_bc8385f39641row5_col7 {\n",
       "            background-color:  #fcf2b4;\n",
       "            color:  #000000;\n",
       "        }    #T_929a784a_5c44_11ea_879c_bc8385f39641row5_col8 {\n",
       "            background-color:  #db476a;\n",
       "            color:  #000000;\n",
       "        }    #T_929a784a_5c44_11ea_879c_bc8385f39641row5_col9 {\n",
       "            background-color:  #d5446d;\n",
       "            color:  #f1f1f1;\n",
       "        }    #T_929a784a_5c44_11ea_879c_bc8385f39641row5_col10 {\n",
       "            background-color:  #f8745c;\n",
       "            color:  #000000;\n",
       "        }    #T_929a784a_5c44_11ea_879c_bc8385f39641row5_col11 {\n",
       "            background-color:  #6b1d81;\n",
       "            color:  #f1f1f1;\n",
       "        }    #T_929a784a_5c44_11ea_879c_bc8385f39641row5_col12 {\n",
       "            background-color:  #7e2482;\n",
       "            color:  #f1f1f1;\n",
       "        }    #T_929a784a_5c44_11ea_879c_bc8385f39641row5_col13 {\n",
       "            background-color:  #8c2981;\n",
       "            color:  #f1f1f1;\n",
       "        }    #T_929a784a_5c44_11ea_879c_bc8385f39641row6_col0 {\n",
       "            background-color:  #21114e;\n",
       "            color:  #f1f1f1;\n",
       "        }    #T_929a784a_5c44_11ea_879c_bc8385f39641row6_col1 {\n",
       "            background-color:  #29115a;\n",
       "            color:  #f1f1f1;\n",
       "        }    #T_929a784a_5c44_11ea_879c_bc8385f39641row6_col2 {\n",
       "            background-color:  #f4695c;\n",
       "            color:  #000000;\n",
       "        }    #T_929a784a_5c44_11ea_879c_bc8385f39641row6_col3 {\n",
       "            background-color:  #fa815f;\n",
       "            color:  #000000;\n",
       "        }    #T_929a784a_5c44_11ea_879c_bc8385f39641row6_col4 {\n",
       "            background-color:  #fd9467;\n",
       "            color:  #000000;\n",
       "        }    #T_929a784a_5c44_11ea_879c_bc8385f39641row6_col5 {\n",
       "            background-color:  #feca8d;\n",
       "            color:  #000000;\n",
       "        }    #T_929a784a_5c44_11ea_879c_bc8385f39641row6_col6 {\n",
       "            background-color:  #fcf9bb;\n",
       "            color:  #000000;\n",
       "        }    #T_929a784a_5c44_11ea_879c_bc8385f39641row6_col7 {\n",
       "            background-color:  #fceeb0;\n",
       "            color:  #000000;\n",
       "        }    #T_929a784a_5c44_11ea_879c_bc8385f39641row6_col8 {\n",
       "            background-color:  #bf3a77;\n",
       "            color:  #f1f1f1;\n",
       "        }    #T_929a784a_5c44_11ea_879c_bc8385f39641row6_col9 {\n",
       "            background-color:  #ab337c;\n",
       "            color:  #f1f1f1;\n",
       "        }    #T_929a784a_5c44_11ea_879c_bc8385f39641row6_col10 {\n",
       "            background-color:  #d0416f;\n",
       "            color:  #f1f1f1;\n",
       "        }    #T_929a784a_5c44_11ea_879c_bc8385f39641row6_col11 {\n",
       "            background-color:  #f3655c;\n",
       "            color:  #000000;\n",
       "        }    #T_929a784a_5c44_11ea_879c_bc8385f39641row6_col12 {\n",
       "            background-color:  #671b80;\n",
       "            color:  #f1f1f1;\n",
       "        }    #T_929a784a_5c44_11ea_879c_bc8385f39641row6_col13 {\n",
       "            background-color:  #782281;\n",
       "            color:  #f1f1f1;\n",
       "        }    #T_929a784a_5c44_11ea_879c_bc8385f39641row7_col0 {\n",
       "            background-color:  #20114b;\n",
       "            color:  #f1f1f1;\n",
       "        }    #T_929a784a_5c44_11ea_879c_bc8385f39641row7_col1 {\n",
       "            background-color:  #251255;\n",
       "            color:  #f1f1f1;\n",
       "        }    #T_929a784a_5c44_11ea_879c_bc8385f39641row7_col2 {\n",
       "            background-color:  #ed5a5f;\n",
       "            color:  #000000;\n",
       "        }    #T_929a784a_5c44_11ea_879c_bc8385f39641row7_col3 {\n",
       "            background-color:  #f66e5c;\n",
       "            color:  #000000;\n",
       "        }    #T_929a784a_5c44_11ea_879c_bc8385f39641row7_col4 {\n",
       "            background-color:  #fa7f5e;\n",
       "            color:  #000000;\n",
       "        }    #T_929a784a_5c44_11ea_879c_bc8385f39641row7_col5 {\n",
       "            background-color:  #feb078;\n",
       "            color:  #000000;\n",
       "        }    #T_929a784a_5c44_11ea_879c_bc8385f39641row7_col6 {\n",
       "            background-color:  #fed89a;\n",
       "            color:  #000000;\n",
       "        }    #T_929a784a_5c44_11ea_879c_bc8385f39641row7_col7 {\n",
       "            background-color:  #fcfdbf;\n",
       "            color:  #000000;\n",
       "        }    #T_929a784a_5c44_11ea_879c_bc8385f39641row7_col8 {\n",
       "            background-color:  #aa337d;\n",
       "            color:  #f1f1f1;\n",
       "        }    #T_929a784a_5c44_11ea_879c_bc8385f39641row7_col9 {\n",
       "            background-color:  #9e2f7f;\n",
       "            color:  #f1f1f1;\n",
       "        }    #T_929a784a_5c44_11ea_879c_bc8385f39641row7_col10 {\n",
       "            background-color:  #ba3878;\n",
       "            color:  #f1f1f1;\n",
       "        }    #T_929a784a_5c44_11ea_879c_bc8385f39641row7_col11 {\n",
       "            background-color:  #d0416f;\n",
       "            color:  #f1f1f1;\n",
       "        }    #T_929a784a_5c44_11ea_879c_bc8385f39641row7_col12 {\n",
       "            background-color:  #ed5a5f;\n",
       "            color:  #000000;\n",
       "        }    #T_929a784a_5c44_11ea_879c_bc8385f39641row7_col13 {\n",
       "            background-color:  #4c117a;\n",
       "            color:  #f1f1f1;\n",
       "        }    #T_929a784a_5c44_11ea_879c_bc8385f39641row8_col0 {\n",
       "            background-color:  #02020d;\n",
       "            color:  #f1f1f1;\n",
       "        }    #T_929a784a_5c44_11ea_879c_bc8385f39641row8_col1 {\n",
       "            background-color:  #02020b;\n",
       "            color:  #f1f1f1;\n",
       "        }    #T_929a784a_5c44_11ea_879c_bc8385f39641row8_col2 {\n",
       "            background-color:  #030312;\n",
       "            color:  #f1f1f1;\n",
       "        }    #T_929a784a_5c44_11ea_879c_bc8385f39641row8_col3 {\n",
       "            background-color:  #0a0822;\n",
       "            color:  #f1f1f1;\n",
       "        }    #T_929a784a_5c44_11ea_879c_bc8385f39641row8_col4 {\n",
       "            background-color:  #08071e;\n",
       "            color:  #f1f1f1;\n",
       "        }    #T_929a784a_5c44_11ea_879c_bc8385f39641row8_col5 {\n",
       "            background-color:  #090720;\n",
       "            color:  #f1f1f1;\n",
       "        }    #T_929a784a_5c44_11ea_879c_bc8385f39641row8_col6 {\n",
       "            background-color:  #090720;\n",
       "            color:  #f1f1f1;\n",
       "        }    #T_929a784a_5c44_11ea_879c_bc8385f39641row8_col7 {\n",
       "            background-color:  #08071e;\n",
       "            color:  #f1f1f1;\n",
       "        }    #T_929a784a_5c44_11ea_879c_bc8385f39641row8_col8 {\n",
       "            background-color:  #ee5b5e;\n",
       "            color:  #000000;\n",
       "        }    #T_929a784a_5c44_11ea_879c_bc8385f39641row8_col9 {\n",
       "            background-color:  #3d0f71;\n",
       "            color:  #f1f1f1;\n",
       "        }    #T_929a784a_5c44_11ea_879c_bc8385f39641row8_col10 {\n",
       "            background-color:  #271258;\n",
       "            color:  #f1f1f1;\n",
       "        }    #T_929a784a_5c44_11ea_879c_bc8385f39641row8_col11 {\n",
       "            background-color:  #1d1147;\n",
       "            color:  #f1f1f1;\n",
       "        }    #T_929a784a_5c44_11ea_879c_bc8385f39641row8_col12 {\n",
       "            background-color:  #110c2f;\n",
       "            color:  #f1f1f1;\n",
       "        }    #T_929a784a_5c44_11ea_879c_bc8385f39641row8_col13 {\n",
       "            background-color:  #160f3b;\n",
       "            color:  #f1f1f1;\n",
       "        }    #T_929a784a_5c44_11ea_879c_bc8385f39641row9_col0 {\n",
       "            background-color:  #030312;\n",
       "            color:  #f1f1f1;\n",
       "        }    #T_929a784a_5c44_11ea_879c_bc8385f39641row9_col1 {\n",
       "            background-color:  #02020d;\n",
       "            color:  #f1f1f1;\n",
       "        }    #T_929a784a_5c44_11ea_879c_bc8385f39641row9_col2 {\n",
       "            background-color:  #03030f;\n",
       "            color:  #f1f1f1;\n",
       "        }    #T_929a784a_5c44_11ea_879c_bc8385f39641row9_col3 {\n",
       "            background-color:  #030312;\n",
       "            color:  #f1f1f1;\n",
       "        }    #T_929a784a_5c44_11ea_879c_bc8385f39641row9_col4 {\n",
       "            background-color:  #150e38;\n",
       "            color:  #f1f1f1;\n",
       "        }    #T_929a784a_5c44_11ea_879c_bc8385f39641row9_col5 {\n",
       "            background-color:  #0d0a29;\n",
       "            color:  #f1f1f1;\n",
       "        }    #T_929a784a_5c44_11ea_879c_bc8385f39641row9_col6 {\n",
       "            background-color:  #0b0924;\n",
       "            color:  #f1f1f1;\n",
       "        }    #T_929a784a_5c44_11ea_879c_bc8385f39641row9_col7 {\n",
       "            background-color:  #0b0924;\n",
       "            color:  #f1f1f1;\n",
       "        }    #T_929a784a_5c44_11ea_879c_bc8385f39641row9_col8 {\n",
       "            background-color:  #54137d;\n",
       "            color:  #f1f1f1;\n",
       "        }    #T_929a784a_5c44_11ea_879c_bc8385f39641row9_col9 {\n",
       "            background-color:  #fcfbbd;\n",
       "            color:  #000000;\n",
       "        }    #T_929a784a_5c44_11ea_879c_bc8385f39641row9_col10 {\n",
       "            background-color:  #3d0f71;\n",
       "            color:  #f1f1f1;\n",
       "        }    #T_929a784a_5c44_11ea_879c_bc8385f39641row9_col11 {\n",
       "            background-color:  #29115a;\n",
       "            color:  #f1f1f1;\n",
       "        }    #T_929a784a_5c44_11ea_879c_bc8385f39641row9_col12 {\n",
       "            background-color:  #241253;\n",
       "            color:  #f1f1f1;\n",
       "        }    #T_929a784a_5c44_11ea_879c_bc8385f39641row9_col13 {\n",
       "            background-color:  #1d1147;\n",
       "            color:  #f1f1f1;\n",
       "        }    #T_929a784a_5c44_11ea_879c_bc8385f39641row10_col0 {\n",
       "            background-color:  #03030f;\n",
       "            color:  #f1f1f1;\n",
       "        }    #T_929a784a_5c44_11ea_879c_bc8385f39641row10_col1 {\n",
       "            background-color:  #02020d;\n",
       "            color:  #f1f1f1;\n",
       "        }    #T_929a784a_5c44_11ea_879c_bc8385f39641row10_col2 {\n",
       "            background-color:  #040414;\n",
       "            color:  #f1f1f1;\n",
       "        }    #T_929a784a_5c44_11ea_879c_bc8385f39641row10_col3 {\n",
       "            background-color:  #040414;\n",
       "            color:  #f1f1f1;\n",
       "        }    #T_929a784a_5c44_11ea_879c_bc8385f39641row10_col4 {\n",
       "            background-color:  #030312;\n",
       "            color:  #f1f1f1;\n",
       "        }    #T_929a784a_5c44_11ea_879c_bc8385f39641row10_col5 {\n",
       "            background-color:  #100b2d;\n",
       "            color:  #f1f1f1;\n",
       "        }    #T_929a784a_5c44_11ea_879c_bc8385f39641row10_col6 {\n",
       "            background-color:  #0c0926;\n",
       "            color:  #f1f1f1;\n",
       "        }    #T_929a784a_5c44_11ea_879c_bc8385f39641row10_col7 {\n",
       "            background-color:  #0b0924;\n",
       "            color:  #f1f1f1;\n",
       "        }    #T_929a784a_5c44_11ea_879c_bc8385f39641row10_col8 {\n",
       "            background-color:  #2f1163;\n",
       "            color:  #f1f1f1;\n",
       "        }    #T_929a784a_5c44_11ea_879c_bc8385f39641row10_col9 {\n",
       "            background-color:  #341069;\n",
       "            color:  #f1f1f1;\n",
       "        }    #T_929a784a_5c44_11ea_879c_bc8385f39641row10_col10 {\n",
       "            background-color:  #ec5860;\n",
       "            color:  #000000;\n",
       "        }    #T_929a784a_5c44_11ea_879c_bc8385f39641row10_col11 {\n",
       "            background-color:  #221150;\n",
       "            color:  #f1f1f1;\n",
       "        }    #T_929a784a_5c44_11ea_879c_bc8385f39641row10_col12 {\n",
       "            background-color:  #140e36;\n",
       "            color:  #f1f1f1;\n",
       "        }    #T_929a784a_5c44_11ea_879c_bc8385f39641row10_col13 {\n",
       "            background-color:  #140e36;\n",
       "            color:  #f1f1f1;\n",
       "        }    #T_929a784a_5c44_11ea_879c_bc8385f39641row11_col0 {\n",
       "            background-color:  #02020d;\n",
       "            color:  #f1f1f1;\n",
       "        }    #T_929a784a_5c44_11ea_879c_bc8385f39641row11_col1 {\n",
       "            background-color:  #020109;\n",
       "            color:  #f1f1f1;\n",
       "        }    #T_929a784a_5c44_11ea_879c_bc8385f39641row11_col2 {\n",
       "            background-color:  #030312;\n",
       "            color:  #f1f1f1;\n",
       "        }    #T_929a784a_5c44_11ea_879c_bc8385f39641row11_col3 {\n",
       "            background-color:  #030312;\n",
       "            color:  #f1f1f1;\n",
       "        }    #T_929a784a_5c44_11ea_879c_bc8385f39641row11_col4 {\n",
       "            background-color:  #030312;\n",
       "            color:  #f1f1f1;\n",
       "        }    #T_929a784a_5c44_11ea_879c_bc8385f39641row11_col5 {\n",
       "            background-color:  #030312;\n",
       "            color:  #f1f1f1;\n",
       "        }    #T_929a784a_5c44_11ea_879c_bc8385f39641row11_col6 {\n",
       "            background-color:  #0d0a29;\n",
       "            color:  #f1f1f1;\n",
       "        }    #T_929a784a_5c44_11ea_879c_bc8385f39641row11_col7 {\n",
       "            background-color:  #0a0822;\n",
       "            color:  #f1f1f1;\n",
       "        }    #T_929a784a_5c44_11ea_879c_bc8385f39641row11_col8 {\n",
       "            background-color:  #1c1044;\n",
       "            color:  #f1f1f1;\n",
       "        }    #T_929a784a_5c44_11ea_879c_bc8385f39641row11_col9 {\n",
       "            background-color:  #1c1044;\n",
       "            color:  #f1f1f1;\n",
       "        }    #T_929a784a_5c44_11ea_879c_bc8385f39641row11_col10 {\n",
       "            background-color:  #1c1044;\n",
       "            color:  #f1f1f1;\n",
       "        }    #T_929a784a_5c44_11ea_879c_bc8385f39641row11_col11 {\n",
       "            background-color:  #dc4869;\n",
       "            color:  #000000;\n",
       "        }    #T_929a784a_5c44_11ea_879c_bc8385f39641row11_col12 {\n",
       "            background-color:  #100b2d;\n",
       "            color:  #f1f1f1;\n",
       "        }    #T_929a784a_5c44_11ea_879c_bc8385f39641row11_col13 {\n",
       "            background-color:  #110c2f;\n",
       "            color:  #f1f1f1;\n",
       "        }    #T_929a784a_5c44_11ea_879c_bc8385f39641row12_col0 {\n",
       "            background-color:  #02020d;\n",
       "            color:  #f1f1f1;\n",
       "        }    #T_929a784a_5c44_11ea_879c_bc8385f39641row12_col1 {\n",
       "            background-color:  #020109;\n",
       "            color:  #f1f1f1;\n",
       "        }    #T_929a784a_5c44_11ea_879c_bc8385f39641row12_col2 {\n",
       "            background-color:  #030312;\n",
       "            color:  #f1f1f1;\n",
       "        }    #T_929a784a_5c44_11ea_879c_bc8385f39641row12_col3 {\n",
       "            background-color:  #030312;\n",
       "            color:  #f1f1f1;\n",
       "        }    #T_929a784a_5c44_11ea_879c_bc8385f39641row12_col4 {\n",
       "            background-color:  #050416;\n",
       "            color:  #f1f1f1;\n",
       "        }    #T_929a784a_5c44_11ea_879c_bc8385f39641row12_col5 {\n",
       "            background-color:  #040414;\n",
       "            color:  #f1f1f1;\n",
       "        }    #T_929a784a_5c44_11ea_879c_bc8385f39641row12_col6 {\n",
       "            background-color:  #040414;\n",
       "            color:  #f1f1f1;\n",
       "        }    #T_929a784a_5c44_11ea_879c_bc8385f39641row12_col7 {\n",
       "            background-color:  #0e0b2b;\n",
       "            color:  #f1f1f1;\n",
       "        }    #T_929a784a_5c44_11ea_879c_bc8385f39641row12_col8 {\n",
       "            background-color:  #110c2f;\n",
       "            color:  #f1f1f1;\n",
       "        }    #T_929a784a_5c44_11ea_879c_bc8385f39641row12_col9 {\n",
       "            background-color:  #1a1042;\n",
       "            color:  #f1f1f1;\n",
       "        }    #T_929a784a_5c44_11ea_879c_bc8385f39641row12_col10 {\n",
       "            background-color:  #110c2f;\n",
       "            color:  #f1f1f1;\n",
       "        }    #T_929a784a_5c44_11ea_879c_bc8385f39641row12_col11 {\n",
       "            background-color:  #110c2f;\n",
       "            color:  #f1f1f1;\n",
       "        }    #T_929a784a_5c44_11ea_879c_bc8385f39641row12_col12 {\n",
       "            background-color:  #c73d73;\n",
       "            color:  #f1f1f1;\n",
       "        }    #T_929a784a_5c44_11ea_879c_bc8385f39641row12_col13 {\n",
       "            background-color:  #100b2d;\n",
       "            color:  #f1f1f1;\n",
       "        }    #T_929a784a_5c44_11ea_879c_bc8385f39641row13_col0 {\n",
       "            background-color:  #03030f;\n",
       "            color:  #f1f1f1;\n",
       "        }    #T_929a784a_5c44_11ea_879c_bc8385f39641row13_col1 {\n",
       "            background-color:  #020109;\n",
       "            color:  #f1f1f1;\n",
       "        }    #T_929a784a_5c44_11ea_879c_bc8385f39641row13_col2 {\n",
       "            background-color:  #060518;\n",
       "            color:  #f1f1f1;\n",
       "        }    #T_929a784a_5c44_11ea_879c_bc8385f39641row13_col3 {\n",
       "            background-color:  #060518;\n",
       "            color:  #f1f1f1;\n",
       "        }    #T_929a784a_5c44_11ea_879c_bc8385f39641row13_col4 {\n",
       "            background-color:  #060518;\n",
       "            color:  #f1f1f1;\n",
       "        }    #T_929a784a_5c44_11ea_879c_bc8385f39641row13_col5 {\n",
       "            background-color:  #06051a;\n",
       "            color:  #f1f1f1;\n",
       "        }    #T_929a784a_5c44_11ea_879c_bc8385f39641row13_col6 {\n",
       "            background-color:  #06051a;\n",
       "            color:  #f1f1f1;\n",
       "        }    #T_929a784a_5c44_11ea_879c_bc8385f39641row13_col7 {\n",
       "            background-color:  #030312;\n",
       "            color:  #f1f1f1;\n",
       "        }    #T_929a784a_5c44_11ea_879c_bc8385f39641row13_col8 {\n",
       "            background-color:  #1e1149;\n",
       "            color:  #f1f1f1;\n",
       "        }    #T_929a784a_5c44_11ea_879c_bc8385f39641row13_col9 {\n",
       "            background-color:  #1a1042;\n",
       "            color:  #f1f1f1;\n",
       "        }    #T_929a784a_5c44_11ea_879c_bc8385f39641row13_col10 {\n",
       "            background-color:  #160f3b;\n",
       "            color:  #f1f1f1;\n",
       "        }    #T_929a784a_5c44_11ea_879c_bc8385f39641row13_col11 {\n",
       "            background-color:  #160f3b;\n",
       "            color:  #f1f1f1;\n",
       "        }    #T_929a784a_5c44_11ea_879c_bc8385f39641row13_col12 {\n",
       "            background-color:  #140e36;\n",
       "            color:  #f1f1f1;\n",
       "        }    #T_929a784a_5c44_11ea_879c_bc8385f39641row13_col13 {\n",
       "            background-color:  #e55064;\n",
       "            color:  #000000;\n",
       "        }</style><table id=\"T_929a784a_5c44_11ea_879c_bc8385f39641\" ><thead>    <tr>        <th class=\"blank level0\" ></th>        <th class=\"col_heading level0 col0\" >LIMIT_BAL</th>        <th class=\"col_heading level0 col1\" >AGE</th>        <th class=\"col_heading level0 col2\" >BILL_AMT1</th>        <th class=\"col_heading level0 col3\" >BILL_AMT2</th>        <th class=\"col_heading level0 col4\" >BILL_AMT3</th>        <th class=\"col_heading level0 col5\" >BILL_AMT4</th>        <th class=\"col_heading level0 col6\" >BILL_AMT5</th>        <th class=\"col_heading level0 col7\" >BILL_AMT6</th>        <th class=\"col_heading level0 col8\" >PAY_AMT1</th>        <th class=\"col_heading level0 col9\" >PAY_AMT2</th>        <th class=\"col_heading level0 col10\" >PAY_AMT3</th>        <th class=\"col_heading level0 col11\" >PAY_AMT4</th>        <th class=\"col_heading level0 col12\" >PAY_AMT5</th>        <th class=\"col_heading level0 col13\" >PAY_AMT6</th>    </tr></thead><tbody>\n",
       "                <tr>\n",
       "                        <th id=\"T_929a784a_5c44_11ea_879c_bc8385f39641level0_row0\" class=\"row_heading level0 row0\" >LIMIT_BAL</th>\n",
       "                        <td id=\"T_929a784a_5c44_11ea_879c_bc8385f39641row0_col0\" class=\"data row0 col0\" >1.68e+10</td>\n",
       "                        <td id=\"T_929a784a_5c44_11ea_879c_bc8385f39641row0_col1\" class=\"data row0 col1\" >1.73e+05</td>\n",
       "                        <td id=\"T_929a784a_5c44_11ea_879c_bc8385f39641row0_col2\" class=\"data row0 col2\" >2.73e+09</td>\n",
       "                        <td id=\"T_929a784a_5c44_11ea_879c_bc8385f39641row0_col3\" class=\"data row0 col3\" >2.57e+09</td>\n",
       "                        <td id=\"T_929a784a_5c44_11ea_879c_bc8385f39641row0_col4\" class=\"data row0 col4\" >2.55e+09</td>\n",
       "                        <td id=\"T_929a784a_5c44_11ea_879c_bc8385f39641row0_col5\" class=\"data row0 col5\" >2.45e+09</td>\n",
       "                        <td id=\"T_929a784a_5c44_11ea_879c_bc8385f39641row0_col6\" class=\"data row0 col6\" >2.33e+09</td>\n",
       "                        <td id=\"T_929a784a_5c44_11ea_879c_bc8385f39641row0_col7\" class=\"data row0 col7\" >2.24e+09</td>\n",
       "                        <td id=\"T_929a784a_5c44_11ea_879c_bc8385f39641row0_col8\" class=\"data row0 col8\" >4.2e+08</td>\n",
       "                        <td id=\"T_929a784a_5c44_11ea_879c_bc8385f39641row0_col9\" class=\"data row0 col9\" >5.33e+08</td>\n",
       "                        <td id=\"T_929a784a_5c44_11ea_879c_bc8385f39641row0_col10\" class=\"data row0 col10\" >4.8e+08</td>\n",
       "                        <td id=\"T_929a784a_5c44_11ea_879c_bc8385f39641row0_col11\" class=\"data row0 col11\" >4.13e+08</td>\n",
       "                        <td id=\"T_929a784a_5c44_11ea_879c_bc8385f39641row0_col12\" class=\"data row0 col12\" >4.31e+08</td>\n",
       "                        <td id=\"T_929a784a_5c44_11ea_879c_bc8385f39641row0_col13\" class=\"data row0 col13\" >5.07e+08</td>\n",
       "            </tr>\n",
       "            <tr>\n",
       "                        <th id=\"T_929a784a_5c44_11ea_879c_bc8385f39641level0_row1\" class=\"row_heading level0 row1\" >AGE</th>\n",
       "                        <td id=\"T_929a784a_5c44_11ea_879c_bc8385f39641row1_col0\" class=\"data row1 col0\" >1.73e+05</td>\n",
       "                        <td id=\"T_929a784a_5c44_11ea_879c_bc8385f39641row1_col1\" class=\"data row1 col1\" >85</td>\n",
       "                        <td id=\"T_929a784a_5c44_11ea_879c_bc8385f39641row1_col2\" class=\"data row1 col2\" >3.82e+04</td>\n",
       "                        <td id=\"T_929a784a_5c44_11ea_879c_bc8385f39641row1_col3\" class=\"data row1 col3\" >3.56e+04</td>\n",
       "                        <td id=\"T_929a784a_5c44_11ea_879c_bc8385f39641row1_col4\" class=\"data row1 col4\" >3.43e+04</td>\n",
       "                        <td id=\"T_929a784a_5c44_11ea_879c_bc8385f39641row1_col5\" class=\"data row1 col5\" >3.05e+04</td>\n",
       "                        <td id=\"T_929a784a_5c44_11ea_879c_bc8385f39641row1_col6\" class=\"data row1 col6\" >2.77e+04</td>\n",
       "                        <td id=\"T_929a784a_5c44_11ea_879c_bc8385f39641row1_col7\" class=\"data row1 col7\" >2.61e+04</td>\n",
       "                        <td id=\"T_929a784a_5c44_11ea_879c_bc8385f39641row1_col8\" class=\"data row1 col8\" >3.99e+03</td>\n",
       "                        <td id=\"T_929a784a_5c44_11ea_879c_bc8385f39641row1_col9\" class=\"data row1 col9\" >4.63e+03</td>\n",
       "                        <td id=\"T_929a784a_5c44_11ea_879c_bc8385f39641row1_col10\" class=\"data row1 col10\" >4.75e+03</td>\n",
       "                        <td id=\"T_929a784a_5c44_11ea_879c_bc8385f39641row1_col11\" class=\"data row1 col11\" >3.09e+03</td>\n",
       "                        <td id=\"T_929a784a_5c44_11ea_879c_bc8385f39641row1_col12\" class=\"data row1 col12\" >3.22e+03</td>\n",
       "                        <td id=\"T_929a784a_5c44_11ea_879c_bc8385f39641row1_col13\" class=\"data row1 col13\" >3.19e+03</td>\n",
       "            </tr>\n",
       "            <tr>\n",
       "                        <th id=\"T_929a784a_5c44_11ea_879c_bc8385f39641level0_row2\" class=\"row_heading level0 row2\" >BILL_AMT1</th>\n",
       "                        <td id=\"T_929a784a_5c44_11ea_879c_bc8385f39641row2_col0\" class=\"data row2 col0\" >2.73e+09</td>\n",
       "                        <td id=\"T_929a784a_5c44_11ea_879c_bc8385f39641row2_col1\" class=\"data row2 col1\" >3.82e+04</td>\n",
       "                        <td id=\"T_929a784a_5c44_11ea_879c_bc8385f39641row2_col2\" class=\"data row2 col2\" >5.42e+09</td>\n",
       "                        <td id=\"T_929a784a_5c44_11ea_879c_bc8385f39641row2_col3\" class=\"data row2 col3\" >4.99e+09</td>\n",
       "                        <td id=\"T_929a784a_5c44_11ea_879c_bc8385f39641row2_col4\" class=\"data row2 col4\" >4.56e+09</td>\n",
       "                        <td id=\"T_929a784a_5c44_11ea_879c_bc8385f39641row2_col5\" class=\"data row2 col5\" >4.08e+09</td>\n",
       "                        <td id=\"T_929a784a_5c44_11ea_879c_bc8385f39641row2_col6\" class=\"data row2 col6\" >3.71e+09</td>\n",
       "                        <td id=\"T_929a784a_5c44_11ea_879c_bc8385f39641row2_col7\" class=\"data row2 col7\" >3.52e+09</td>\n",
       "                        <td id=\"T_929a784a_5c44_11ea_879c_bc8385f39641row2_col8\" class=\"data row2 col8\" >1.71e+08</td>\n",
       "                        <td id=\"T_929a784a_5c44_11ea_879c_bc8385f39641row2_col9\" class=\"data row2 col9\" >1.69e+08</td>\n",
       "                        <td id=\"T_929a784a_5c44_11ea_879c_bc8385f39641row2_col10\" class=\"data row2 col10\" >2.03e+08</td>\n",
       "                        <td id=\"T_929a784a_5c44_11ea_879c_bc8385f39641row2_col11\" class=\"data row2 col11\" >1.83e+08</td>\n",
       "                        <td id=\"T_929a784a_5c44_11ea_879c_bc8385f39641row2_col12\" class=\"data row2 col12\" >1.88e+08</td>\n",
       "                        <td id=\"T_929a784a_5c44_11ea_879c_bc8385f39641row2_col13\" class=\"data row2 col13\" >2.35e+08</td>\n",
       "            </tr>\n",
       "            <tr>\n",
       "                        <th id=\"T_929a784a_5c44_11ea_879c_bc8385f39641level0_row3\" class=\"row_heading level0 row3\" >BILL_AMT2</th>\n",
       "                        <td id=\"T_929a784a_5c44_11ea_879c_bc8385f39641row3_col0\" class=\"data row3 col0\" >2.57e+09</td>\n",
       "                        <td id=\"T_929a784a_5c44_11ea_879c_bc8385f39641row3_col1\" class=\"data row3 col1\" >3.56e+04</td>\n",
       "                        <td id=\"T_929a784a_5c44_11ea_879c_bc8385f39641row3_col2\" class=\"data row3 col2\" >4.99e+09</td>\n",
       "                        <td id=\"T_929a784a_5c44_11ea_879c_bc8385f39641row3_col3\" class=\"data row3 col3\" >5.07e+09</td>\n",
       "                        <td id=\"T_929a784a_5c44_11ea_879c_bc8385f39641row3_col4\" class=\"data row3 col4\" >4.58e+09</td>\n",
       "                        <td id=\"T_929a784a_5c44_11ea_879c_bc8385f39641row3_col5\" class=\"data row3 col5\" >4.09e+09</td>\n",
       "                        <td id=\"T_929a784a_5c44_11ea_879c_bc8385f39641row3_col6\" class=\"data row3 col6\" >3.72e+09</td>\n",
       "                        <td id=\"T_929a784a_5c44_11ea_879c_bc8385f39641row3_col7\" class=\"data row3 col7\" >3.52e+09</td>\n",
       "                        <td id=\"T_929a784a_5c44_11ea_879c_bc8385f39641row3_col8\" class=\"data row3 col8\" >3.31e+08</td>\n",
       "                        <td id=\"T_929a784a_5c44_11ea_879c_bc8385f39641row3_col9\" class=\"data row3 col9\" >1.65e+08</td>\n",
       "                        <td id=\"T_929a784a_5c44_11ea_879c_bc8385f39641row3_col10\" class=\"data row3 col10\" >1.89e+08</td>\n",
       "                        <td id=\"T_929a784a_5c44_11ea_879c_bc8385f39641row3_col11\" class=\"data row3 col11\" >1.64e+08</td>\n",
       "                        <td id=\"T_929a784a_5c44_11ea_879c_bc8385f39641row3_col12\" class=\"data row3 col12\" >1.72e+08</td>\n",
       "                        <td id=\"T_929a784a_5c44_11ea_879c_bc8385f39641row3_col13\" class=\"data row3 col13\" >2.2e+08</td>\n",
       "            </tr>\n",
       "            <tr>\n",
       "                        <th id=\"T_929a784a_5c44_11ea_879c_bc8385f39641level0_row4\" class=\"row_heading level0 row4\" >BILL_AMT3</th>\n",
       "                        <td id=\"T_929a784a_5c44_11ea_879c_bc8385f39641row4_col0\" class=\"data row4 col0\" >2.55e+09</td>\n",
       "                        <td id=\"T_929a784a_5c44_11ea_879c_bc8385f39641row4_col1\" class=\"data row4 col1\" >3.43e+04</td>\n",
       "                        <td id=\"T_929a784a_5c44_11ea_879c_bc8385f39641row4_col2\" class=\"data row4 col2\" >4.56e+09</td>\n",
       "                        <td id=\"T_929a784a_5c44_11ea_879c_bc8385f39641row4_col3\" class=\"data row4 col3\" >4.58e+09</td>\n",
       "                        <td id=\"T_929a784a_5c44_11ea_879c_bc8385f39641row4_col4\" class=\"data row4 col4\" >4.81e+09</td>\n",
       "                        <td id=\"T_929a784a_5c44_11ea_879c_bc8385f39641row4_col5\" class=\"data row4 col5\" >4.12e+09</td>\n",
       "                        <td id=\"T_929a784a_5c44_11ea_879c_bc8385f39641row4_col6\" class=\"data row4 col6\" >3.73e+09</td>\n",
       "                        <td id=\"T_929a784a_5c44_11ea_879c_bc8385f39641row4_col7\" class=\"data row4 col7\" >3.52e+09</td>\n",
       "                        <td id=\"T_929a784a_5c44_11ea_879c_bc8385f39641row4_col8\" class=\"data row4 col8\" >2.81e+08</td>\n",
       "                        <td id=\"T_929a784a_5c44_11ea_879c_bc8385f39641row4_col9\" class=\"data row4 col9\" >5.06e+08</td>\n",
       "                        <td id=\"T_929a784a_5c44_11ea_879c_bc8385f39641row4_col10\" class=\"data row4 col10\" >1.59e+08</td>\n",
       "                        <td id=\"T_929a784a_5c44_11ea_879c_bc8385f39641row4_col11\" class=\"data row4 col11\" >1.56e+08</td>\n",
       "                        <td id=\"T_929a784a_5c44_11ea_879c_bc8385f39641row4_col12\" class=\"data row4 col12\" >1.9e+08</td>\n",
       "                        <td id=\"T_929a784a_5c44_11ea_879c_bc8385f39641row4_col13\" class=\"data row4 col13\" >2.25e+08</td>\n",
       "            </tr>\n",
       "            <tr>\n",
       "                        <th id=\"T_929a784a_5c44_11ea_879c_bc8385f39641level0_row5\" class=\"row_heading level0 row5\" >BILL_AMT4</th>\n",
       "                        <td id=\"T_929a784a_5c44_11ea_879c_bc8385f39641row5_col0\" class=\"data row5 col0\" >2.45e+09</td>\n",
       "                        <td id=\"T_929a784a_5c44_11ea_879c_bc8385f39641row5_col1\" class=\"data row5 col1\" >3.05e+04</td>\n",
       "                        <td id=\"T_929a784a_5c44_11ea_879c_bc8385f39641row5_col2\" class=\"data row5 col2\" >4.08e+09</td>\n",
       "                        <td id=\"T_929a784a_5c44_11ea_879c_bc8385f39641row5_col3\" class=\"data row5 col3\" >4.09e+09</td>\n",
       "                        <td id=\"T_929a784a_5c44_11ea_879c_bc8385f39641row5_col4\" class=\"data row5 col4\" >4.12e+09</td>\n",
       "                        <td id=\"T_929a784a_5c44_11ea_879c_bc8385f39641row5_col5\" class=\"data row5 col5\" >4.14e+09</td>\n",
       "                        <td id=\"T_929a784a_5c44_11ea_879c_bc8385f39641row5_col6\" class=\"data row5 col6\" >3.68e+09</td>\n",
       "                        <td id=\"T_929a784a_5c44_11ea_879c_bc8385f39641row5_col7\" class=\"data row5 col7\" >3.45e+09</td>\n",
       "                        <td id=\"T_929a784a_5c44_11ea_879c_bc8385f39641row5_col8\" class=\"data row5 col8\" >2.48e+08</td>\n",
       "                        <td id=\"T_929a784a_5c44_11ea_879c_bc8385f39641row5_col9\" class=\"data row5 col9\" >3.08e+08</td>\n",
       "                        <td id=\"T_929a784a_5c44_11ea_879c_bc8385f39641row5_col10\" class=\"data row5 col10\" >3.4e+08</td>\n",
       "                        <td id=\"T_929a784a_5c44_11ea_879c_bc8385f39641row5_col11\" class=\"data row5 col11\" >1.31e+08</td>\n",
       "                        <td id=\"T_929a784a_5c44_11ea_879c_bc8385f39641row5_col12\" class=\"data row5 col12\" >1.58e+08</td>\n",
       "                        <td id=\"T_929a784a_5c44_11ea_879c_bc8385f39641row5_col13\" class=\"data row5 col13\" >2.03e+08</td>\n",
       "            </tr>\n",
       "            <tr>\n",
       "                        <th id=\"T_929a784a_5c44_11ea_879c_bc8385f39641level0_row6\" class=\"row_heading level0 row6\" >BILL_AMT5</th>\n",
       "                        <td id=\"T_929a784a_5c44_11ea_879c_bc8385f39641row6_col0\" class=\"data row6 col0\" >2.33e+09</td>\n",
       "                        <td id=\"T_929a784a_5c44_11ea_879c_bc8385f39641row6_col1\" class=\"data row6 col1\" >2.77e+04</td>\n",
       "                        <td id=\"T_929a784a_5c44_11ea_879c_bc8385f39641row6_col2\" class=\"data row6 col2\" >3.71e+09</td>\n",
       "                        <td id=\"T_929a784a_5c44_11ea_879c_bc8385f39641row6_col3\" class=\"data row6 col3\" >3.72e+09</td>\n",
       "                        <td id=\"T_929a784a_5c44_11ea_879c_bc8385f39641row6_col4\" class=\"data row6 col4\" >3.73e+09</td>\n",
       "                        <td id=\"T_929a784a_5c44_11ea_879c_bc8385f39641row6_col5\" class=\"data row6 col5\" >3.68e+09</td>\n",
       "                        <td id=\"T_929a784a_5c44_11ea_879c_bc8385f39641row6_col6\" class=\"data row6 col6\" >3.7e+09</td>\n",
       "                        <td id=\"T_929a784a_5c44_11ea_879c_bc8385f39641row6_col7\" class=\"data row6 col7\" >3.43e+09</td>\n",
       "                        <td id=\"T_929a784a_5c44_11ea_879c_bc8385f39641row6_col8\" class=\"data row6 col8\" >2.19e+08</td>\n",
       "                        <td id=\"T_929a784a_5c44_11ea_879c_bc8385f39641row6_col9\" class=\"data row6 col9\" >2.54e+08</td>\n",
       "                        <td id=\"T_929a784a_5c44_11ea_879c_bc8385f39641row6_col10\" class=\"data row6 col10\" >2.7e+08</td>\n",
       "                        <td id=\"T_929a784a_5c44_11ea_879c_bc8385f39641row6_col11\" class=\"data row6 col11\" >2.79e+08</td>\n",
       "                        <td id=\"T_929a784a_5c44_11ea_879c_bc8385f39641row6_col12\" class=\"data row6 col12\" >1.32e+08</td>\n",
       "                        <td id=\"T_929a784a_5c44_11ea_879c_bc8385f39641row6_col13\" class=\"data row6 col13\" >1.77e+08</td>\n",
       "            </tr>\n",
       "            <tr>\n",
       "                        <th id=\"T_929a784a_5c44_11ea_879c_bc8385f39641level0_row7\" class=\"row_heading level0 row7\" >BILL_AMT6</th>\n",
       "                        <td id=\"T_929a784a_5c44_11ea_879c_bc8385f39641row7_col0\" class=\"data row7 col0\" >2.24e+09</td>\n",
       "                        <td id=\"T_929a784a_5c44_11ea_879c_bc8385f39641row7_col1\" class=\"data row7 col1\" >2.61e+04</td>\n",
       "                        <td id=\"T_929a784a_5c44_11ea_879c_bc8385f39641row7_col2\" class=\"data row7 col2\" >3.52e+09</td>\n",
       "                        <td id=\"T_929a784a_5c44_11ea_879c_bc8385f39641row7_col3\" class=\"data row7 col3\" >3.52e+09</td>\n",
       "                        <td id=\"T_929a784a_5c44_11ea_879c_bc8385f39641row7_col4\" class=\"data row7 col4\" >3.52e+09</td>\n",
       "                        <td id=\"T_929a784a_5c44_11ea_879c_bc8385f39641row7_col5\" class=\"data row7 col5\" >3.45e+09</td>\n",
       "                        <td id=\"T_929a784a_5c44_11ea_879c_bc8385f39641row7_col6\" class=\"data row7 col6\" >3.43e+09</td>\n",
       "                        <td id=\"T_929a784a_5c44_11ea_879c_bc8385f39641row7_col7\" class=\"data row7 col7\" >3.55e+09</td>\n",
       "                        <td id=\"T_929a784a_5c44_11ea_879c_bc8385f39641row7_col8\" class=\"data row7 col8\" >1.97e+08</td>\n",
       "                        <td id=\"T_929a784a_5c44_11ea_879c_bc8385f39641row7_col9\" class=\"data row7 col9\" >2.37e+08</td>\n",
       "                        <td id=\"T_929a784a_5c44_11ea_879c_bc8385f39641row7_col10\" class=\"data row7 col10\" >2.45e+08</td>\n",
       "                        <td id=\"T_929a784a_5c44_11ea_879c_bc8385f39641row7_col11\" class=\"data row7 col11\" >2.33e+08</td>\n",
       "                        <td id=\"T_929a784a_5c44_11ea_879c_bc8385f39641row7_col12\" class=\"data row7 col12\" >2.8e+08</td>\n",
       "                        <td id=\"T_929a784a_5c44_11ea_879c_bc8385f39641row7_col13\" class=\"data row7 col13\" >1.22e+08</td>\n",
       "            </tr>\n",
       "            <tr>\n",
       "                        <th id=\"T_929a784a_5c44_11ea_879c_bc8385f39641level0_row8\" class=\"row_heading level0 row8\" >PAY_AMT1</th>\n",
       "                        <td id=\"T_929a784a_5c44_11ea_879c_bc8385f39641row8_col0\" class=\"data row8 col0\" >4.2e+08</td>\n",
       "                        <td id=\"T_929a784a_5c44_11ea_879c_bc8385f39641row8_col1\" class=\"data row8 col1\" >3.99e+03</td>\n",
       "                        <td id=\"T_929a784a_5c44_11ea_879c_bc8385f39641row8_col2\" class=\"data row8 col2\" >1.71e+08</td>\n",
       "                        <td id=\"T_929a784a_5c44_11ea_879c_bc8385f39641row8_col3\" class=\"data row8 col3\" >3.31e+08</td>\n",
       "                        <td id=\"T_929a784a_5c44_11ea_879c_bc8385f39641row8_col4\" class=\"data row8 col4\" >2.81e+08</td>\n",
       "                        <td id=\"T_929a784a_5c44_11ea_879c_bc8385f39641row8_col5\" class=\"data row8 col5\" >2.48e+08</td>\n",
       "                        <td id=\"T_929a784a_5c44_11ea_879c_bc8385f39641row8_col6\" class=\"data row8 col6\" >2.19e+08</td>\n",
       "                        <td id=\"T_929a784a_5c44_11ea_879c_bc8385f39641row8_col7\" class=\"data row8 col7\" >1.97e+08</td>\n",
       "                        <td id=\"T_929a784a_5c44_11ea_879c_bc8385f39641row8_col8\" class=\"data row8 col8\" >2.74e+08</td>\n",
       "                        <td id=\"T_929a784a_5c44_11ea_879c_bc8385f39641row8_col9\" class=\"data row8 col9\" >1.09e+08</td>\n",
       "                        <td id=\"T_929a784a_5c44_11ea_879c_bc8385f39641row8_col10\" class=\"data row8 col10\" >7.35e+07</td>\n",
       "                        <td id=\"T_929a784a_5c44_11ea_879c_bc8385f39641row8_col11\" class=\"data row8 col11\" >5.18e+07</td>\n",
       "                        <td id=\"T_929a784a_5c44_11ea_879c_bc8385f39641row8_col12\" class=\"data row8 col12\" >3.76e+07</td>\n",
       "                        <td id=\"T_929a784a_5c44_11ea_879c_bc8385f39641row8_col13\" class=\"data row8 col13\" >5.47e+07</td>\n",
       "            </tr>\n",
       "            <tr>\n",
       "                        <th id=\"T_929a784a_5c44_11ea_879c_bc8385f39641level0_row9\" class=\"row_heading level0 row9\" >PAY_AMT2</th>\n",
       "                        <td id=\"T_929a784a_5c44_11ea_879c_bc8385f39641row9_col0\" class=\"data row9 col0\" >5.33e+08</td>\n",
       "                        <td id=\"T_929a784a_5c44_11ea_879c_bc8385f39641row9_col1\" class=\"data row9 col1\" >4.63e+03</td>\n",
       "                        <td id=\"T_929a784a_5c44_11ea_879c_bc8385f39641row9_col2\" class=\"data row9 col2\" >1.69e+08</td>\n",
       "                        <td id=\"T_929a784a_5c44_11ea_879c_bc8385f39641row9_col3\" class=\"data row9 col3\" >1.65e+08</td>\n",
       "                        <td id=\"T_929a784a_5c44_11ea_879c_bc8385f39641row9_col4\" class=\"data row9 col4\" >5.06e+08</td>\n",
       "                        <td id=\"T_929a784a_5c44_11ea_879c_bc8385f39641row9_col5\" class=\"data row9 col5\" >3.08e+08</td>\n",
       "                        <td id=\"T_929a784a_5c44_11ea_879c_bc8385f39641row9_col6\" class=\"data row9 col6\" >2.54e+08</td>\n",
       "                        <td id=\"T_929a784a_5c44_11ea_879c_bc8385f39641row9_col7\" class=\"data row9 col7\" >2.37e+08</td>\n",
       "                        <td id=\"T_929a784a_5c44_11ea_879c_bc8385f39641row9_col8\" class=\"data row9 col8\" >1.09e+08</td>\n",
       "                        <td id=\"T_929a784a_5c44_11ea_879c_bc8385f39641row9_col9\" class=\"data row9 col9\" >5.31e+08</td>\n",
       "                        <td id=\"T_929a784a_5c44_11ea_879c_bc8385f39641row9_col10\" class=\"data row9 col10\" >9.93e+07</td>\n",
       "                        <td id=\"T_929a784a_5c44_11ea_879c_bc8385f39641row9_col11\" class=\"data row9 col11\" >6.5e+07</td>\n",
       "                        <td id=\"T_929a784a_5c44_11ea_879c_bc8385f39641row9_col12\" class=\"data row9 col12\" >6.37e+07</td>\n",
       "                        <td id=\"T_929a784a_5c44_11ea_879c_bc8385f39641row9_col13\" class=\"data row9 col13\" >6.46e+07</td>\n",
       "            </tr>\n",
       "            <tr>\n",
       "                        <th id=\"T_929a784a_5c44_11ea_879c_bc8385f39641level0_row10\" class=\"row_heading level0 row10\" >PAY_AMT3</th>\n",
       "                        <td id=\"T_929a784a_5c44_11ea_879c_bc8385f39641row10_col0\" class=\"data row10 col0\" >4.8e+08</td>\n",
       "                        <td id=\"T_929a784a_5c44_11ea_879c_bc8385f39641row10_col1\" class=\"data row10 col1\" >4.75e+03</td>\n",
       "                        <td id=\"T_929a784a_5c44_11ea_879c_bc8385f39641row10_col2\" class=\"data row10 col2\" >2.03e+08</td>\n",
       "                        <td id=\"T_929a784a_5c44_11ea_879c_bc8385f39641row10_col3\" class=\"data row10 col3\" >1.89e+08</td>\n",
       "                        <td id=\"T_929a784a_5c44_11ea_879c_bc8385f39641row10_col4\" class=\"data row10 col4\" >1.59e+08</td>\n",
       "                        <td id=\"T_929a784a_5c44_11ea_879c_bc8385f39641row10_col5\" class=\"data row10 col5\" >3.4e+08</td>\n",
       "                        <td id=\"T_929a784a_5c44_11ea_879c_bc8385f39641row10_col6\" class=\"data row10 col6\" >2.7e+08</td>\n",
       "                        <td id=\"T_929a784a_5c44_11ea_879c_bc8385f39641row10_col7\" class=\"data row10 col7\" >2.45e+08</td>\n",
       "                        <td id=\"T_929a784a_5c44_11ea_879c_bc8385f39641row10_col8\" class=\"data row10 col8\" >7.35e+07</td>\n",
       "                        <td id=\"T_929a784a_5c44_11ea_879c_bc8385f39641row10_col9\" class=\"data row10 col9\" >9.93e+07</td>\n",
       "                        <td id=\"T_929a784a_5c44_11ea_879c_bc8385f39641row10_col10\" class=\"data row10 col10\" >3.1e+08</td>\n",
       "                        <td id=\"T_929a784a_5c44_11ea_879c_bc8385f39641row10_col11\" class=\"data row10 col11\" >5.97e+07</td>\n",
       "                        <td id=\"T_929a784a_5c44_11ea_879c_bc8385f39641row10_col12\" class=\"data row10 col12\" >4.28e+07</td>\n",
       "                        <td id=\"T_929a784a_5c44_11ea_879c_bc8385f39641row10_col13\" class=\"data row10 col13\" >5.09e+07</td>\n",
       "            </tr>\n",
       "            <tr>\n",
       "                        <th id=\"T_929a784a_5c44_11ea_879c_bc8385f39641level0_row11\" class=\"row_heading level0 row11\" >PAY_AMT4</th>\n",
       "                        <td id=\"T_929a784a_5c44_11ea_879c_bc8385f39641row11_col0\" class=\"data row11 col0\" >4.13e+08</td>\n",
       "                        <td id=\"T_929a784a_5c44_11ea_879c_bc8385f39641row11_col1\" class=\"data row11 col1\" >3.09e+03</td>\n",
       "                        <td id=\"T_929a784a_5c44_11ea_879c_bc8385f39641row11_col2\" class=\"data row11 col2\" >1.83e+08</td>\n",
       "                        <td id=\"T_929a784a_5c44_11ea_879c_bc8385f39641row11_col3\" class=\"data row11 col3\" >1.64e+08</td>\n",
       "                        <td id=\"T_929a784a_5c44_11ea_879c_bc8385f39641row11_col4\" class=\"data row11 col4\" >1.56e+08</td>\n",
       "                        <td id=\"T_929a784a_5c44_11ea_879c_bc8385f39641row11_col5\" class=\"data row11 col5\" >1.31e+08</td>\n",
       "                        <td id=\"T_929a784a_5c44_11ea_879c_bc8385f39641row11_col6\" class=\"data row11 col6\" >2.79e+08</td>\n",
       "                        <td id=\"T_929a784a_5c44_11ea_879c_bc8385f39641row11_col7\" class=\"data row11 col7\" >2.33e+08</td>\n",
       "                        <td id=\"T_929a784a_5c44_11ea_879c_bc8385f39641row11_col8\" class=\"data row11 col8\" >5.18e+07</td>\n",
       "                        <td id=\"T_929a784a_5c44_11ea_879c_bc8385f39641row11_col9\" class=\"data row11 col9\" >6.5e+07</td>\n",
       "                        <td id=\"T_929a784a_5c44_11ea_879c_bc8385f39641row11_col10\" class=\"data row11 col10\" >5.97e+07</td>\n",
       "                        <td id=\"T_929a784a_5c44_11ea_879c_bc8385f39641row11_col11\" class=\"data row11 col11\" >2.45e+08</td>\n",
       "                        <td id=\"T_929a784a_5c44_11ea_879c_bc8385f39641row11_col12\" class=\"data row11 col12\" >3.63e+07</td>\n",
       "                        <td id=\"T_929a784a_5c44_11ea_879c_bc8385f39641row11_col13\" class=\"data row11 col13\" >4.4e+07</td>\n",
       "            </tr>\n",
       "            <tr>\n",
       "                        <th id=\"T_929a784a_5c44_11ea_879c_bc8385f39641level0_row12\" class=\"row_heading level0 row12\" >PAY_AMT5</th>\n",
       "                        <td id=\"T_929a784a_5c44_11ea_879c_bc8385f39641row12_col0\" class=\"data row12 col0\" >4.31e+08</td>\n",
       "                        <td id=\"T_929a784a_5c44_11ea_879c_bc8385f39641row12_col1\" class=\"data row12 col1\" >3.22e+03</td>\n",
       "                        <td id=\"T_929a784a_5c44_11ea_879c_bc8385f39641row12_col2\" class=\"data row12 col2\" >1.88e+08</td>\n",
       "                        <td id=\"T_929a784a_5c44_11ea_879c_bc8385f39641row12_col3\" class=\"data row12 col3\" >1.72e+08</td>\n",
       "                        <td id=\"T_929a784a_5c44_11ea_879c_bc8385f39641row12_col4\" class=\"data row12 col4\" >1.9e+08</td>\n",
       "                        <td id=\"T_929a784a_5c44_11ea_879c_bc8385f39641row12_col5\" class=\"data row12 col5\" >1.58e+08</td>\n",
       "                        <td id=\"T_929a784a_5c44_11ea_879c_bc8385f39641row12_col6\" class=\"data row12 col6\" >1.32e+08</td>\n",
       "                        <td id=\"T_929a784a_5c44_11ea_879c_bc8385f39641row12_col7\" class=\"data row12 col7\" >2.8e+08</td>\n",
       "                        <td id=\"T_929a784a_5c44_11ea_879c_bc8385f39641row12_col8\" class=\"data row12 col8\" >3.76e+07</td>\n",
       "                        <td id=\"T_929a784a_5c44_11ea_879c_bc8385f39641row12_col9\" class=\"data row12 col9\" >6.37e+07</td>\n",
       "                        <td id=\"T_929a784a_5c44_11ea_879c_bc8385f39641row12_col10\" class=\"data row12 col10\" >4.28e+07</td>\n",
       "                        <td id=\"T_929a784a_5c44_11ea_879c_bc8385f39641row12_col11\" class=\"data row12 col11\" >3.63e+07</td>\n",
       "                        <td id=\"T_929a784a_5c44_11ea_879c_bc8385f39641row12_col12\" class=\"data row12 col12\" >2.33e+08</td>\n",
       "                        <td id=\"T_929a784a_5c44_11ea_879c_bc8385f39641row12_col13\" class=\"data row12 col13\" >4.21e+07</td>\n",
       "            </tr>\n",
       "            <tr>\n",
       "                        <th id=\"T_929a784a_5c44_11ea_879c_bc8385f39641level0_row13\" class=\"row_heading level0 row13\" >PAY_AMT6</th>\n",
       "                        <td id=\"T_929a784a_5c44_11ea_879c_bc8385f39641row13_col0\" class=\"data row13 col0\" >5.07e+08</td>\n",
       "                        <td id=\"T_929a784a_5c44_11ea_879c_bc8385f39641row13_col1\" class=\"data row13 col1\" >3.19e+03</td>\n",
       "                        <td id=\"T_929a784a_5c44_11ea_879c_bc8385f39641row13_col2\" class=\"data row13 col2\" >2.35e+08</td>\n",
       "                        <td id=\"T_929a784a_5c44_11ea_879c_bc8385f39641row13_col3\" class=\"data row13 col3\" >2.2e+08</td>\n",
       "                        <td id=\"T_929a784a_5c44_11ea_879c_bc8385f39641row13_col4\" class=\"data row13 col4\" >2.25e+08</td>\n",
       "                        <td id=\"T_929a784a_5c44_11ea_879c_bc8385f39641row13_col5\" class=\"data row13 col5\" >2.03e+08</td>\n",
       "                        <td id=\"T_929a784a_5c44_11ea_879c_bc8385f39641row13_col6\" class=\"data row13 col6\" >1.77e+08</td>\n",
       "                        <td id=\"T_929a784a_5c44_11ea_879c_bc8385f39641row13_col7\" class=\"data row13 col7\" >1.22e+08</td>\n",
       "                        <td id=\"T_929a784a_5c44_11ea_879c_bc8385f39641row13_col8\" class=\"data row13 col8\" >5.47e+07</td>\n",
       "                        <td id=\"T_929a784a_5c44_11ea_879c_bc8385f39641row13_col9\" class=\"data row13 col9\" >6.46e+07</td>\n",
       "                        <td id=\"T_929a784a_5c44_11ea_879c_bc8385f39641row13_col10\" class=\"data row13 col10\" >5.09e+07</td>\n",
       "                        <td id=\"T_929a784a_5c44_11ea_879c_bc8385f39641row13_col11\" class=\"data row13 col11\" >4.4e+07</td>\n",
       "                        <td id=\"T_929a784a_5c44_11ea_879c_bc8385f39641row13_col12\" class=\"data row13 col12\" >4.21e+07</td>\n",
       "                        <td id=\"T_929a784a_5c44_11ea_879c_bc8385f39641row13_col13\" class=\"data row13 col13\" >3.16e+08</td>\n",
       "            </tr>\n",
       "    </tbody></table>"
      ],
      "text/plain": [
       "<pandas.io.formats.style.Styler at 0x259b6291248>"
      ]
     },
     "execution_count": 35,
     "metadata": {},
     "output_type": "execute_result"
    }
   ],
   "source": [
    "#Plot the covariance matrix in a heatmap style\n",
    "covMat.style.background_gradient(cmap='magma').set_precision(3)"
   ]
  },
  {
   "cell_type": "code",
   "execution_count": 36,
   "metadata": {},
   "outputs": [
    {
     "data": {
      "text/plain": [
       "SEX\n",
       "Male      11888\n",
       "Female    18112\n",
       "Name: SEX, dtype: int64"
      ]
     },
     "execution_count": 36,
     "metadata": {},
     "output_type": "execute_result"
    }
   ],
   "source": [
    "#Count how many males (1) and females(2) are in the dataset\n",
    "credit.groupby('SEX')['SEX'].count()"
   ]
  },
  {
   "cell_type": "code",
   "execution_count": 37,
   "metadata": {},
   "outputs": [
    {
     "data": {
      "text/plain": [
       "<seaborn.axisgrid.FacetGrid at 0x259b62e7248>"
      ]
     },
     "execution_count": 37,
     "metadata": {},
     "output_type": "execute_result"
    },
    {
     "data": {
      "image/png": "[encoded data removed]",
      "text/plain": [
       "<Figure size 306x360 with 1 Axes>"
      ]
     },
     "metadata": {
      "needs_background": "light"
     },
     "output_type": "display_data"
    }
   ],
   "source": [
    "# Use seaborn to plot the number of males and females\n",
    "sns.catplot('SEX', data=credit, kind='count', aspect=0.85, legend = True)"
   ]
  },
  {
   "cell_type": "code",
   "execution_count": 38,
   "metadata": {
    "scrolled": true
   },
   "outputs": [
    {
     "data": {
      "text/plain": [
       "EDUCATION\n",
       "0       14\n",
       "1    10585\n",
       "2    14030\n",
       "3     4917\n",
       "4      123\n",
       "5      280\n",
       "6       51\n",
       "Name: EDUCATION, dtype: int64"
      ]
     },
     "execution_count": 38,
     "metadata": {},
     "output_type": "execute_result"
    }
   ],
   "source": [
    "# View the EDUCATION distribution\n",
    "credit.groupby('EDUCATION')['EDUCATION'].count()"
   ]
  },
  {
   "cell_type": "code",
   "execution_count": 39,
   "metadata": {
    "scrolled": false
   },
   "outputs": [
    {
     "data": {
      "text/plain": [
       "<seaborn.axisgrid.FacetGrid at 0x259b6301788>"
      ]
     },
     "execution_count": 39,
     "metadata": {},
     "output_type": "execute_result"
    },
    {
     "data": {
      "image/png": "[encoded data removed]",
      "text/plain": [
       "<Figure size 540x360 with 1 Axes>"
      ]
     },
     "metadata": {
      "needs_background": "light"
     },
     "output_type": "display_data"
    }
   ],
   "source": [
    "# Plot the number of different levels of education\n",
    "sns.catplot('EDUCATION', data=credit, kind='count', aspect=1.5)"
   ]
  },
  {
   "cell_type": "code",
   "execution_count": 40,
   "metadata": {},
   "outputs": [
    {
     "data": {
      "text/plain": [
       "SEX     EDUCATION\n",
       "Male    0               8\n",
       "        1            4354\n",
       "        2            5374\n",
       "        3            1990\n",
       "        4              42\n",
       "        5              95\n",
       "        6              25\n",
       "Female  0               6\n",
       "        1            6231\n",
       "        2            8656\n",
       "        3            2927\n",
       "        4              81\n",
       "        5             185\n",
       "        6              26\n",
       "Name: SEX, dtype: int64"
      ]
     },
     "execution_count": 40,
     "metadata": {},
     "output_type": "execute_result"
    }
   ],
   "source": [
    "# Count the number of male and female in each of the education class\n",
    "credit.groupby(['SEX', 'EDUCATION'])['SEX'].count()"
   ]
  },
  {
   "cell_type": "code",
   "execution_count": 41,
   "metadata": {
    "scrolled": false
   },
   "outputs": [
    {
     "data": {
      "text/plain": [
       "<seaborn.axisgrid.FacetGrid at 0x259b638ee48>"
      ]
     },
     "execution_count": 41,
     "metadata": {},
     "output_type": "execute_result"
    },
    {
     "data": {
      "image/png": "[encoded data removed]",
      "text/plain": [
       "<Figure size 702.625x360 with 1 Axes>"
      ]
     },
     "metadata": {
      "needs_background": "light"
     },
     "output_type": "display_data"
    }
   ],
   "source": [
    "# Use seaborn to group by SEX and EDUCATION\n",
    "sns.catplot('EDUCATION', data=credit, hue='SEX', kind='count', aspect=1.75)"
   ]
  },
  {
   "cell_type": "code",
   "execution_count": 42,
   "metadata": {},
   "outputs": [],
   "source": [
    "default = credit[credit['default']=='Y']\n",
    "not_default = credit[credit['default']=='N']"
   ]
  },
  {
   "cell_type": "code",
   "execution_count": 43,
   "metadata": {
    "scrolled": false
   },
   "outputs": [
    {
     "data": {
      "text/plain": [
       "<seaborn.axisgrid.FacetGrid at 0x259b641ab08>"
      ]
     },
     "execution_count": 43,
     "metadata": {},
     "output_type": "execute_result"
    },
    {
     "data": {
      "image/png": "[encoded data removed]",
      "text/plain": [
       "<Figure size 360x360 with 1 Axes>"
      ]
     },
     "metadata": {
      "needs_background": "light"
     },
     "output_type": "display_data"
    }
   ],
   "source": [
    "# Category plot of those who defaulted vs. who didn't\n",
    "sns.catplot('default', data=credit, kind='count')"
   ]
  },
  {
   "cell_type": "code",
   "execution_count": 44,
   "metadata": {
    "scrolled": true
   },
   "outputs": [
    {
     "data": {
      "text/plain": [
       "0"
      ]
     },
     "execution_count": 44,
     "metadata": {},
     "output_type": "execute_result"
    }
   ],
   "source": [
    "# Total number of customers who didn't default\n",
    "len(not_default)"
   ]
  },
  {
   "cell_type": "code",
   "execution_count": 45,
   "metadata": {
    "scrolled": true
   },
   "outputs": [
    {
     "data": {
      "text/html": [
       "<div>\n",
       "<style scoped>\n",
       "    .dataframe tbody tr th:only-of-type {\n",
       "        vertical-align: middle;\n",
       "    }\n",
       "\n",
       "    .dataframe tbody tr th {\n",
       "        vertical-align: top;\n",
       "    }\n",
       "\n",
       "    .dataframe thead th {\n",
       "        text-align: right;\n",
       "    }\n",
       "</style>\n",
       "<table border=\"1\" class=\"dataframe\">\n",
       "  <thead>\n",
       "    <tr style=\"text-align: right;\">\n",
       "      <th></th>\n",
       "    </tr>\n",
       "  </thead>\n",
       "  <tbody>\n",
       "  </tbody>\n",
       "</table>\n",
       "</div>"
      ],
      "text/plain": [
       "Empty DataFrame\n",
       "Columns: []\n",
       "Index: []"
      ]
     },
     "execution_count": 45,
     "metadata": {},
     "output_type": "execute_result"
    }
   ],
   "source": [
    "# Number of customers who did not default in each education class grouped by sex.\n",
    "not_default.pivot_table('default', 'SEX', 'EDUCATION', aggfunc=len)"
   ]
  },
  {
   "cell_type": "code",
   "execution_count": 46,
   "metadata": {
    "scrolled": false
   },
   "outputs": [
    {
     "data": {
      "text/html": [
       "<div>\n",
       "<style scoped>\n",
       "    .dataframe tbody tr th:only-of-type {\n",
       "        vertical-align: middle;\n",
       "    }\n",
       "\n",
       "    .dataframe tbody tr th {\n",
       "        vertical-align: top;\n",
       "    }\n",
       "\n",
       "    .dataframe thead th {\n",
       "        text-align: right;\n",
       "    }\n",
       "</style>\n",
       "<table border=\"1\" class=\"dataframe\">\n",
       "  <thead>\n",
       "    <tr style=\"text-align: right;\">\n",
       "      <th></th>\n",
       "      <th></th>\n",
       "      <th>SEX</th>\n",
       "      <th>Male</th>\n",
       "      <th>Female</th>\n",
       "    </tr>\n",
       "    <tr>\n",
       "      <th>default</th>\n",
       "      <th>EDUCATION</th>\n",
       "      <th>MARRIAGE</th>\n",
       "      <th></th>\n",
       "      <th></th>\n",
       "    </tr>\n",
       "  </thead>\n",
       "  <tbody>\n",
       "    <tr>\n",
       "      <td rowspan=\"28\" valign=\"top\">No</td>\n",
       "      <td rowspan=\"4\" valign=\"top\">0</td>\n",
       "      <td>Other</td>\n",
       "      <td>0</td>\n",
       "      <td>0</td>\n",
       "    </tr>\n",
       "    <tr>\n",
       "      <td>Married</td>\n",
       "      <td>2</td>\n",
       "      <td>2</td>\n",
       "    </tr>\n",
       "    <tr>\n",
       "      <td>Single</td>\n",
       "      <td>6</td>\n",
       "      <td>4</td>\n",
       "    </tr>\n",
       "    <tr>\n",
       "      <td>Divorced</td>\n",
       "      <td>0</td>\n",
       "      <td>0</td>\n",
       "    </tr>\n",
       "    <tr>\n",
       "      <td rowspan=\"4\" valign=\"top\">1</td>\n",
       "      <td>Other</td>\n",
       "      <td>1</td>\n",
       "      <td>3</td>\n",
       "    </tr>\n",
       "    <tr>\n",
       "      <td>Married</td>\n",
       "      <td>1300</td>\n",
       "      <td>1653</td>\n",
       "    </tr>\n",
       "    <tr>\n",
       "      <td>Single</td>\n",
       "      <td>2127</td>\n",
       "      <td>3428</td>\n",
       "    </tr>\n",
       "    <tr>\n",
       "      <td>Divorced</td>\n",
       "      <td>20</td>\n",
       "      <td>17</td>\n",
       "    </tr>\n",
       "    <tr>\n",
       "      <td rowspan=\"4\" valign=\"top\">2</td>\n",
       "      <td>Other</td>\n",
       "      <td>1</td>\n",
       "      <td>4</td>\n",
       "    </tr>\n",
       "    <tr>\n",
       "      <td>Married</td>\n",
       "      <td>1727</td>\n",
       "      <td>3449</td>\n",
       "    </tr>\n",
       "    <tr>\n",
       "      <td>Single</td>\n",
       "      <td>2194</td>\n",
       "      <td>3207</td>\n",
       "    </tr>\n",
       "    <tr>\n",
       "      <td>Divorced</td>\n",
       "      <td>44</td>\n",
       "      <td>74</td>\n",
       "    </tr>\n",
       "    <tr>\n",
       "      <td rowspan=\"4\" valign=\"top\">3</td>\n",
       "      <td>Other</td>\n",
       "      <td>10</td>\n",
       "      <td>30</td>\n",
       "    </tr>\n",
       "    <tr>\n",
       "      <td>Married</td>\n",
       "      <td>745</td>\n",
       "      <td>1362</td>\n",
       "    </tr>\n",
       "    <tr>\n",
       "      <td>Single</td>\n",
       "      <td>665</td>\n",
       "      <td>792</td>\n",
       "    </tr>\n",
       "    <tr>\n",
       "      <td>Divorced</td>\n",
       "      <td>25</td>\n",
       "      <td>51</td>\n",
       "    </tr>\n",
       "    <tr>\n",
       "      <td rowspan=\"4\" valign=\"top\">4</td>\n",
       "      <td>Other</td>\n",
       "      <td>0</td>\n",
       "      <td>0</td>\n",
       "    </tr>\n",
       "    <tr>\n",
       "      <td>Married</td>\n",
       "      <td>16</td>\n",
       "      <td>33</td>\n",
       "    </tr>\n",
       "    <tr>\n",
       "      <td>Single</td>\n",
       "      <td>21</td>\n",
       "      <td>43</td>\n",
       "    </tr>\n",
       "    <tr>\n",
       "      <td>Divorced</td>\n",
       "      <td>1</td>\n",
       "      <td>2</td>\n",
       "    </tr>\n",
       "    <tr>\n",
       "      <td rowspan=\"4\" valign=\"top\">5</td>\n",
       "      <td>Other</td>\n",
       "      <td>0</td>\n",
       "      <td>0</td>\n",
       "    </tr>\n",
       "    <tr>\n",
       "      <td>Married</td>\n",
       "      <td>44</td>\n",
       "      <td>97</td>\n",
       "    </tr>\n",
       "    <tr>\n",
       "      <td>Single</td>\n",
       "      <td>44</td>\n",
       "      <td>74</td>\n",
       "    </tr>\n",
       "    <tr>\n",
       "      <td>Divorced</td>\n",
       "      <td>1</td>\n",
       "      <td>2</td>\n",
       "    </tr>\n",
       "    <tr>\n",
       "      <td rowspan=\"4\" valign=\"top\">6</td>\n",
       "      <td>Other</td>\n",
       "      <td>0</td>\n",
       "      <td>0</td>\n",
       "    </tr>\n",
       "    <tr>\n",
       "      <td>Married</td>\n",
       "      <td>10</td>\n",
       "      <td>13</td>\n",
       "    </tr>\n",
       "    <tr>\n",
       "      <td>Single</td>\n",
       "      <td>11</td>\n",
       "      <td>7</td>\n",
       "    </tr>\n",
       "    <tr>\n",
       "      <td>Divorced</td>\n",
       "      <td>0</td>\n",
       "      <td>2</td>\n",
       "    </tr>\n",
       "    <tr>\n",
       "      <td rowspan=\"24\" valign=\"top\">Yes</td>\n",
       "      <td rowspan=\"4\" valign=\"top\">1</td>\n",
       "      <td>Other</td>\n",
       "      <td>0</td>\n",
       "      <td>0</td>\n",
       "    </tr>\n",
       "    <tr>\n",
       "      <td>Married</td>\n",
       "      <td>390</td>\n",
       "      <td>379</td>\n",
       "    </tr>\n",
       "    <tr>\n",
       "      <td>Single</td>\n",
       "      <td>506</td>\n",
       "      <td>748</td>\n",
       "    </tr>\n",
       "    <tr>\n",
       "      <td>Divorced</td>\n",
       "      <td>10</td>\n",
       "      <td>3</td>\n",
       "    </tr>\n",
       "    <tr>\n",
       "      <td rowspan=\"4\" valign=\"top\">2</td>\n",
       "      <td>Other</td>\n",
       "      <td>0</td>\n",
       "      <td>1</td>\n",
       "    </tr>\n",
       "    <tr>\n",
       "      <td>Married</td>\n",
       "      <td>643</td>\n",
       "      <td>1023</td>\n",
       "    </tr>\n",
       "    <tr>\n",
       "      <td>Single</td>\n",
       "      <td>746</td>\n",
       "      <td>873</td>\n",
       "    </tr>\n",
       "    <tr>\n",
       "      <td>Divorced</td>\n",
       "      <td>19</td>\n",
       "      <td>25</td>\n",
       "    </tr>\n",
       "    <tr>\n",
       "      <td rowspan=\"4\" valign=\"top\">3</td>\n",
       "      <td>Other</td>\n",
       "      <td>2</td>\n",
       "      <td>2</td>\n",
       "    </tr>\n",
       "    <tr>\n",
       "      <td>Married</td>\n",
       "      <td>303</td>\n",
       "      <td>451</td>\n",
       "    </tr>\n",
       "    <tr>\n",
       "      <td>Single</td>\n",
       "      <td>229</td>\n",
       "      <td>223</td>\n",
       "    </tr>\n",
       "    <tr>\n",
       "      <td>Divorced</td>\n",
       "      <td>11</td>\n",
       "      <td>16</td>\n",
       "    </tr>\n",
       "    <tr>\n",
       "      <td rowspan=\"4\" valign=\"top\">4</td>\n",
       "      <td>Other</td>\n",
       "      <td>0</td>\n",
       "      <td>0</td>\n",
       "    </tr>\n",
       "    <tr>\n",
       "      <td>Married</td>\n",
       "      <td>2</td>\n",
       "      <td>1</td>\n",
       "    </tr>\n",
       "    <tr>\n",
       "      <td>Single</td>\n",
       "      <td>2</td>\n",
       "      <td>2</td>\n",
       "    </tr>\n",
       "    <tr>\n",
       "      <td>Divorced</td>\n",
       "      <td>0</td>\n",
       "      <td>0</td>\n",
       "    </tr>\n",
       "    <tr>\n",
       "      <td rowspan=\"4\" valign=\"top\">5</td>\n",
       "      <td>Other</td>\n",
       "      <td>0</td>\n",
       "      <td>0</td>\n",
       "    </tr>\n",
       "    <tr>\n",
       "      <td>Married</td>\n",
       "      <td>4</td>\n",
       "      <td>5</td>\n",
       "    </tr>\n",
       "    <tr>\n",
       "      <td>Single</td>\n",
       "      <td>2</td>\n",
       "      <td>7</td>\n",
       "    </tr>\n",
       "    <tr>\n",
       "      <td>Divorced</td>\n",
       "      <td>0</td>\n",
       "      <td>0</td>\n",
       "    </tr>\n",
       "    <tr>\n",
       "      <td rowspan=\"4\" valign=\"top\">6</td>\n",
       "      <td>Other</td>\n",
       "      <td>0</td>\n",
       "      <td>0</td>\n",
       "    </tr>\n",
       "    <tr>\n",
       "      <td>Married</td>\n",
       "      <td>4</td>\n",
       "      <td>1</td>\n",
       "    </tr>\n",
       "    <tr>\n",
       "      <td>Single</td>\n",
       "      <td>0</td>\n",
       "      <td>3</td>\n",
       "    </tr>\n",
       "    <tr>\n",
       "      <td>Divorced</td>\n",
       "      <td>0</td>\n",
       "      <td>0</td>\n",
       "    </tr>\n",
       "  </tbody>\n",
       "</table>\n",
       "</div>"
      ],
      "text/plain": [
       "SEX                         Male  Female\n",
       "default EDUCATION MARRIAGE              \n",
       "No      0         Other        0       0\n",
       "                  Married      2       2\n",
       "                  Single       6       4\n",
       "                  Divorced     0       0\n",
       "        1         Other        1       3\n",
       "                  Married   1300    1653\n",
       "                  Single    2127    3428\n",
       "                  Divorced    20      17\n",
       "        2         Other        1       4\n",
       "                  Married   1727    3449\n",
       "                  Single    2194    3207\n",
       "                  Divorced    44      74\n",
       "        3         Other       10      30\n",
       "                  Married    745    1362\n",
       "                  Single     665     792\n",
       "                  Divorced    25      51\n",
       "        4         Other        0       0\n",
       "                  Married     16      33\n",
       "                  Single      21      43\n",
       "                  Divorced     1       2\n",
       "        5         Other        0       0\n",
       "                  Married     44      97\n",
       "                  Single      44      74\n",
       "                  Divorced     1       2\n",
       "        6         Other        0       0\n",
       "                  Married     10      13\n",
       "                  Single      11       7\n",
       "                  Divorced     0       2\n",
       "Yes     1         Other        0       0\n",
       "                  Married    390     379\n",
       "                  Single     506     748\n",
       "                  Divorced    10       3\n",
       "        2         Other        0       1\n",
       "                  Married    643    1023\n",
       "                  Single     746     873\n",
       "                  Divorced    19      25\n",
       "        3         Other        2       2\n",
       "                  Married    303     451\n",
       "                  Single     229     223\n",
       "                  Divorced    11      16\n",
       "        4         Other        0       0\n",
       "                  Married      2       1\n",
       "                  Single       2       2\n",
       "                  Divorced     0       0\n",
       "        5         Other        0       0\n",
       "                  Married      4       5\n",
       "                  Single       2       7\n",
       "                  Divorced     0       0\n",
       "        6         Other        0       0\n",
       "                  Married      4       1\n",
       "                  Single       0       3\n",
       "                  Divorced     0       0"
      ]
     },
     "execution_count": 46,
     "metadata": {},
     "output_type": "execute_result"
    }
   ],
   "source": [
    "# customers who defaulted and who didn't default grouped by Education and marriage class and sex\n",
    "table = pd.crosstab(index=[credit.default,credit.EDUCATION], columns=[credit.SEX,credit.MARRIAGE])\n",
    "table.stack()"
   ]
  },
  {
   "cell_type": "code",
   "execution_count": 47,
   "metadata": {
    "scrolled": true
   },
   "outputs": [
    {
     "data": {
      "text/plain": [
       "count    30000.000000\n",
       "mean        35.485500\n",
       "std          9.217904\n",
       "min         21.000000\n",
       "25%         28.000000\n",
       "50%         34.000000\n",
       "75%         41.000000\n",
       "max         79.000000\n",
       "Name: AGE, dtype: float64"
      ]
     },
     "execution_count": 47,
     "metadata": {},
     "output_type": "execute_result"
    }
   ],
   "source": [
    "#Check the AGE stats\n",
    "credit.AGE.describe()"
   ]
  },
  {
   "cell_type": "code",
   "execution_count": 48,
   "metadata": {},
   "outputs": [
    {
     "data": {
      "text/plain": [
       "<seaborn.axisgrid.FacetGrid at 0x259b7a1d5c8>"
      ]
     },
     "execution_count": 48,
     "metadata": {},
     "output_type": "execute_result"
    },
    {
     "data": {
      "image/png": "[encoded data removed]",
      "text/plain": [
       "<Figure size 1152.62x360 with 2 Axes>"
      ]
     },
     "metadata": {
      "needs_background": "light"
     },
     "output_type": "display_data"
    }
   ],
   "source": [
    "# Split the customers into either default or not\n",
    "sns.catplot('EDUCATION', data=credit, kind='count', hue='SEX', col='default',aspect=1.5, height=5)"
   ]
  },
  {
   "cell_type": "code",
   "execution_count": 49,
   "metadata": {},
   "outputs": [
    {
     "data": {
      "text/plain": [
       "<seaborn.axisgrid.FacetGrid at 0x259b7f129c8>"
      ]
     },
     "execution_count": 49,
     "metadata": {},
     "output_type": "execute_result"
    },
    {
     "data": {
      "image/png": "[encoded data removed]",
      "text/plain": [
       "<Figure size 972.625x360 with 2 Axes>"
      ]
     },
     "metadata": {
      "needs_background": "light"
     },
     "output_type": "display_data"
    }
   ],
   "source": [
    "# Split the customers into either default or not by marital status\n",
    "sns.catplot('MARRIAGE', data=credit, kind='count', hue='SEX', col='default',aspect=1.25, height=5)"
   ]
  },
  {
   "cell_type": "code",
   "execution_count": 50,
   "metadata": {
    "scrolled": false
   },
   "outputs": [
    {
     "data": {
      "text/plain": [
       "<seaborn.axisgrid.FacetGrid at 0x259b7f12cc8>"
      ]
     },
     "execution_count": 50,
     "metadata": {},
     "output_type": "execute_result"
    },
    {
     "data": {
      "image/png": "[encoded data removed]",
      "text/plain": [
       "<Figure size 980.625x360 with 2 Axes>"
      ]
     },
     "metadata": {
      "needs_background": "light"
     },
     "output_type": "display_data"
    }
   ],
   "source": [
    "# Split the customers into either default or not by marital status and education\n",
    "sns.catplot('EDUCATION', data=credit, kind='count', hue='MARRIAGE', col='default',aspect=1.25, height=5)"
   ]
  },
  {
   "cell_type": "code",
   "execution_count": 51,
   "metadata": {},
   "outputs": [
    {
     "data": {
      "text/plain": [
       "(21, 79)"
      ]
     },
     "execution_count": 51,
     "metadata": {},
     "output_type": "execute_result"
    }
   ],
   "source": [
    "#Check the age range\n",
    "oldest = credit['AGE'].max()\n",
    "youngest = credit['AGE'].min()\n",
    "youngest, oldest"
   ]
  },
  {
   "cell_type": "code",
   "execution_count": 52,
   "metadata": {},
   "outputs": [
    {
     "data": {
      "text/plain": [
       "<seaborn.axisgrid.FacetGrid at 0x259b7e65d88>"
      ]
     },
     "execution_count": 52,
     "metadata": {},
     "output_type": "execute_result"
    },
    {
     "data": {
      "image/png": "[encoded data removed]",
      "text/plain": [
       "<Figure size 936.625x216 with 1 Axes>"
      ]
     },
     "metadata": {
      "needs_background": "light"
     },
     "output_type": "display_data"
    }
   ],
   "source": [
    "# kde plot, Distribution of Customers' Ages, grouped by gender\n",
    "fig = sns.FacetGrid(credit, hue='SEX', aspect=4)\n",
    "fig.map(sns.kdeplot, 'AGE', shade=True)\n",
    "oldest = credit['AGE'].max()\n",
    "fig.set(xlim=(15,oldest))\n",
    "fig.set(title='Distribution of Age Grouped by Gender')\n",
    "fig.add_legend()"
   ]
  },
  {
   "cell_type": "code",
   "execution_count": 53,
   "metadata": {},
   "outputs": [
    {
     "data": {
      "text/plain": [
       "<seaborn.axisgrid.FacetGrid at 0x259b7eea8c8>"
      ]
     },
     "execution_count": 53,
     "metadata": {},
     "output_type": "execute_result"
    },
    {
     "data": {
      "image/png": "[encoded data removed]",
      "text/plain": [
       "<Figure size 944.625x216 with 1 Axes>"
      ]
     },
     "metadata": {
      "needs_background": "light"
     },
     "output_type": "display_data"
    }
   ],
   "source": [
    "# kde plot, Distribution of Customers' Ages, grouped by marital status\n",
    "fig = sns.FacetGrid(credit, hue='MARRIAGE', aspect=4)\n",
    "fig.map(sns.kdeplot, 'AGE', shade=True)\n",
    "oldest = credit['AGE'].max()\n",
    "fig.set(xlim=(10,oldest))\n",
    "fig.add_legend()"
   ]
  },
  {
   "cell_type": "code",
   "execution_count": 54,
   "metadata": {},
   "outputs": [
    {
     "data": {
      "text/plain": [
       "<seaborn.axisgrid.FacetGrid at 0x259b7fcfd48>"
      ]
     },
     "execution_count": 54,
     "metadata": {},
     "output_type": "execute_result"
    },
    {
     "data": {
      "image/png": "[encoded data removed]",
      "text/plain": [
       "<Figure size 931.25x216 with 1 Axes>"
      ]
     },
     "metadata": {
      "needs_background": "light"
     },
     "output_type": "display_data"
    }
   ],
   "source": [
    "# kde plot, Distribution of Customers' Ages, grouped by education level\n",
    "fig = sns.FacetGrid(credit, hue='EDUCATION', aspect=4)\n",
    "fig.map(sns.kdeplot, 'AGE', shade=True)\n",
    "oldest = credit['AGE'].max()\n",
    "fig.set(xlim=(0,oldest))\n",
    "fig.add_legend()"
   ]
  },
  {
   "cell_type": "code",
   "execution_count": 55,
   "metadata": {},
   "outputs": [
    {
     "data": {
      "text/plain": [
       "<seaborn.axisgrid.FacetGrid at 0x259b7fe2588>"
      ]
     },
     "execution_count": 55,
     "metadata": {},
     "output_type": "execute_result"
    },
    {
     "data": {
      "image/png": "[encoded data removed]",
      "text/plain": [
       "<Figure size 720x360 with 1 Axes>"
      ]
     },
     "metadata": {
      "needs_background": "light"
     },
     "output_type": "display_data"
    }
   ],
   "source": [
    "# Column chart for the repayment status in September, 2005\n",
    "sns.catplot('PAY_1', data=credit, kind='count',aspect=2,palette='tab10')"
   ]
  },
  {
   "cell_type": "code",
   "execution_count": 56,
   "metadata": {},
   "outputs": [
    {
     "data": {
      "text/plain": [
       "<seaborn.axisgrid.FacetGrid at 0x259b9da8748>"
      ]
     },
     "execution_count": 56,
     "metadata": {},
     "output_type": "execute_result"
    },
    {
     "data": {
      "image/png": "[encoded data removed]",
      "text/plain": [
       "<Figure size 800.625x360 with 1 Axes>"
      ]
     },
     "metadata": {
      "needs_background": "light"
     },
     "output_type": "display_data"
    }
   ],
   "source": [
    "# Split the customers by education level and marital status\n",
    "sns.catplot('EDUCATION', data=credit, kind='count', hue='MARRIAGE',aspect=2)"
   ]
  },
  {
   "cell_type": "code",
   "execution_count": 57,
   "metadata": {
    "scrolled": false
   },
   "outputs": [
    {
     "data": {
      "text/plain": [
       "<seaborn.axisgrid.FacetGrid at 0x259b9debdc8>"
      ]
     },
     "execution_count": 57,
     "metadata": {},
     "output_type": "execute_result"
    },
    {
     "data": {
      "image/png": "[encoded data removed]",
      "text/plain": [
       "<Figure size 787.25x360 with 2 Axes>"
      ]
     },
     "metadata": {
      "needs_background": "light"
     },
     "output_type": "display_data"
    }
   ],
   "source": [
    "sns.catplot('default', data=credit, hue='EDUCATION', kind='count', palette='magma', \n",
    "              col='SEX')"
   ]
  },
  {
   "cell_type": "code",
   "execution_count": 58,
   "metadata": {},
   "outputs": [
    {
     "data": {
      "text/plain": [
       "<seaborn.axisgrid.FacetGrid at 0x259b9f6afc8>"
      ]
     },
     "execution_count": 58,
     "metadata": {},
     "output_type": "execute_result"
    },
    {
     "data": {
      "image/png": "[encoded data removed]",
      "text/plain": [
       "<Figure size 360x360 with 1 Axes>"
      ]
     },
     "metadata": {
      "needs_background": "light"
     },
     "output_type": "display_data"
    }
   ],
   "source": [
    "# Linear plot of age vs. default\n",
    "credit['Default'] = credit.default.map({'No':0, 'Yes':1})\n",
    "sns.lmplot('AGE', 'Default', data=credit)"
   ]
  },
  {
   "cell_type": "code",
   "execution_count": 59,
   "metadata": {},
   "outputs": [
    {
     "data": {
      "text/plain": [
       "<seaborn.axisgrid.FacetGrid at 0x259ba178d48>"
      ]
     },
     "execution_count": 59,
     "metadata": {},
     "output_type": "execute_result"
    },
    {
     "data": {
      "image/png": "[encoded data removed]",
      "text/plain": [
       "<Figure size 432.625x360 with 1 Axes>"
      ]
     },
     "metadata": {
      "needs_background": "light"
     },
     "output_type": "display_data"
    }
   ],
   "source": [
    "# default vs. Age grouped by Sex\n",
    "sns.lmplot('AGE', 'Default', data=credit, hue='SEX')"
   ]
  },
  {
   "cell_type": "code",
   "execution_count": 60,
   "metadata": {},
   "outputs": [
    {
     "data": {
      "text/plain": [
       "<seaborn.axisgrid.FacetGrid at 0x259ba258a08>"
      ]
     },
     "execution_count": 60,
     "metadata": {},
     "output_type": "execute_result"
    },
    {
     "data": {
      "image/png": "[encoded data removed]",
      "text/plain": [
       "<Figure size 427.25x360 with 1 Axes>"
      ]
     },
     "metadata": {
      "needs_background": "light"
     },
     "output_type": "display_data"
    }
   ],
   "source": [
    "# default vs. Age grouped by Education\n",
    "sns.lmplot('AGE', 'Default', hue='EDUCATION', data=credit, palette='winter')"
   ]
  },
  {
   "cell_type": "code",
   "execution_count": 61,
   "metadata": {},
   "outputs": [
    {
     "data": {
      "text/plain": [
       "<seaborn.axisgrid.FacetGrid at 0x259ba455ec8>"
      ]
     },
     "execution_count": 61,
     "metadata": {},
     "output_type": "execute_result"
    },
    {
     "data": {
      "image/png": "[encoded data removed]",
      "text/plain": [
       "<Figure size 427.25x360 with 1 Axes>"
      ]
     },
     "metadata": {
      "needs_background": "light"
     },
     "output_type": "display_data"
    }
   ],
   "source": [
    "# Create a generation bin\n",
    "generations = [10,20,40,60,80]\n",
    "sns.lmplot('AGE','Default',hue='EDUCATION',data=credit,x_bins=generations)"
   ]
  },
  {
   "cell_type": "code",
   "execution_count": 62,
   "metadata": {},
   "outputs": [
    {
     "data": {
      "text/plain": [
       "<seaborn.axisgrid.FacetGrid at 0x259ba444ec8>"
      ]
     },
     "execution_count": 62,
     "metadata": {},
     "output_type": "execute_result"
    },
    {
     "data": {
      "image/png": "[encoded data removed]",
      "text/plain": [
       "<Figure size 360x360 with 1 Axes>"
      ]
     },
     "metadata": {
      "needs_background": "light"
     },
     "output_type": "display_data"
    }
   ],
   "source": [
    "sns.catplot('PAY_1', 'Default', data=credit, kind='point')"
   ]
  },
  {
   "cell_type": "code",
   "execution_count": 63,
   "metadata": {},
   "outputs": [
    {
     "data": {
      "text/plain": [
       "<seaborn.axisgrid.FacetGrid at 0x259ba5e01c8>"
      ]
     },
     "execution_count": 63,
     "metadata": {},
     "output_type": "execute_result"
    },
    {
     "data": {
      "image/png": "[encoded data removed]",
      "text/plain": [
       "<Figure size 432.625x360 with 1 Axes>"
      ]
     },
     "metadata": {
      "needs_background": "light"
     },
     "output_type": "display_data"
    }
   ],
   "source": [
    "# Lets split it by education level\n",
    "sns.catplot('EDUCATION', 'Default', data=credit, palette='twilight_r', hue='SEX', kind='point')"
   ]
  },
  {
   "cell_type": "code",
   "execution_count": 64,
   "metadata": {},
   "outputs": [
    {
     "data": {
      "text/plain": [
       "<seaborn.axisgrid.FacetGrid at 0x259ba625c08>"
      ]
     },
     "execution_count": 64,
     "metadata": {},
     "output_type": "execute_result"
    },
    {
     "data": {
      "image/png": "[encoded data removed]",
      "text/plain": [
       "<Figure size 1512.62x360 with 4 Axes>"
      ]
     },
     "metadata": {
      "needs_background": "light"
     },
     "output_type": "display_data"
    }
   ],
   "source": [
    "# Lets split it by education level and marital status\n",
    "sns.catplot('EDUCATION', 'Default', data=credit, palette='twilight_r', hue='SEX', col='MARRIAGE', kind='point')"
   ]
  },
  {
   "cell_type": "code",
   "execution_count": 65,
   "metadata": {},
   "outputs": [
    {
     "data": {
      "image/png": "[encoded data removed]",
      "text/plain": [
       "<Figure size 432x288 with 4 Axes>"
      ]
     },
     "metadata": {
      "needs_background": "light"
     },
     "output_type": "display_data"
    }
   ],
   "source": [
    "#Create subplots for the repayment status\n",
    "plt.subplot(2,2,1)\n",
    "x = credit['PAY_1']\n",
    "y = credit['PAY_2']\n",
    "plt.scatter(x,y)\n",
    "plt.ylabel('PAY_2')\n",
    "plt.subplot(2,2,2)\n",
    "x = credit['PAY_1']\n",
    "y = credit['PAY_3']\n",
    "plt.scatter(x,y)\n",
    "plt.xlabel('PAY_1')\n",
    "plt.ylabel('PAY_3')\n",
    "plt.subplot(2,2,3)\n",
    "x = credit['PAY_1']\n",
    "y = credit['PAY_4']\n",
    "plt.scatter(x,y)\n",
    "plt.xlabel('PAY_1')\n",
    "plt.ylabel('PAY_4')\n",
    "plt.subplot(2,2,4)\n",
    "x = credit['PAY_1']\n",
    "y = credit['PAY_5']\n",
    "plt.scatter(x,y)\n",
    "plt.xlabel('PAY_1')\n",
    "plt.ylabel('PAY_5')\n",
    "plt.tight_layout()\n",
    "plt.show()"
   ]
  },
  {
   "cell_type": "code",
   "execution_count": 66,
   "metadata": {},
   "outputs": [
    {
     "data": {
      "image/png": "[encoded data removed]",
      "text/plain": [
       "<Figure size 432x288 with 4 Axes>"
      ]
     },
     "metadata": {
      "needs_background": "light"
     },
     "output_type": "display_data"
    }
   ],
   "source": [
    "#Create subplots for the bill amounts\n",
    "plt.subplot(2,2,1)\n",
    "x = credit['BILL_AMT1']\n",
    "y = credit['BILL_AMT2']\n",
    "plt.scatter(x,y)\n",
    "plt.xlabel('BILL_AMT1')\n",
    "plt.ylabel('BILL_AMT2')\n",
    "plt.subplot(2,2,2)\n",
    "x = credit['BILL_AMT1']\n",
    "y = credit['BILL_AMT3']\n",
    "plt.scatter(x,y)\n",
    "plt.xlabel('BILL_AMT1')\n",
    "plt.ylabel('BILL_AMT3')\n",
    "plt.subplot(2,2,3)\n",
    "x = credit['BILL_AMT1']\n",
    "y = credit['BILL_AMT4']\n",
    "plt.scatter(x,y)\n",
    "plt.xlabel('BILL_AMT1')\n",
    "plt.ylabel('BILL_AMT4')\n",
    "plt.subplot(2,2,4)\n",
    "x = credit['BILL_AMT1']\n",
    "y = credit['BILL_AMT5']\n",
    "plt.scatter(x,y)\n",
    "plt.xlabel('BILL_AMT1')\n",
    "plt.ylabel('BILL_AMT5')\n",
    "plt.tight_layout()\n",
    "plt.show()"
   ]
  },
  {
   "cell_type": "code",
   "execution_count": 67,
   "metadata": {},
   "outputs": [
    {
     "data": {
      "image/png": "[encoded data removed]",
      "text/plain": [
       "<Figure size 432x288 with 3 Axes>"
      ]
     },
     "metadata": {
      "needs_background": "light"
     },
     "output_type": "display_data"
    }
   ],
   "source": [
    "#Create subplots for Sep-2005 repayment status, the billed amount and the paid amount\n",
    "plt.subplot(3,1,1)\n",
    "plt.hist(credit['PAY_1'], bins = 5)\n",
    "plt.ylabel('Freq')\n",
    "plt.title('Sep. 2005, Repayment Status')\n",
    "plt.subplot(3,1,2)\n",
    "plt.hist(credit['BILL_AMT1'], bins = 5)\n",
    "plt.ylabel('Freq')\n",
    "plt.title('Sep. 2005, Bill (Dollars)')\n",
    "plt.subplot(3,1,3)\n",
    "plt.hist(credit['PAY_AMT1'], bins = 5)\n",
    "plt.ylabel('Freq')\n",
    "plt.title('Sep. 2005, Paid (Dollars)')\n",
    "plt.tight_layout()\n",
    "plt.show()"
   ]
  },
  {
   "cell_type": "code",
   "execution_count": 68,
   "metadata": {},
   "outputs": [
    {
     "data": {
      "image/png": "[encoded data removed]",
      "text/plain": [
       "<Figure size 432x288 with 3 Axes>"
      ]
     },
     "metadata": {
      "needs_background": "light"
     },
     "output_type": "display_data"
    }
   ],
   "source": [
    "#Create subplots for Aug-2005 repayment status, the billed amount and the paid amount\n",
    "plt.subplot(3,1,1)\n",
    "plt.hist(credit['PAY_2'], bins = 5)\n",
    "plt.ylabel('Freq')\n",
    "plt.title('Aug. 2005, Repayment Status')\n",
    "plt.subplot(3,1,2)\n",
    "plt.hist(credit['BILL_AMT2'], bins = 5)\n",
    "plt.ylabel('Freq')\n",
    "plt.title('Aug. 2005, Bill (Dollars)')\n",
    "plt.subplot(3,1,3)\n",
    "plt.hist(credit['PAY_AMT2'], bins = 5)\n",
    "plt.ylabel('Freq')\n",
    "plt.title('Aug.2005, Paid (Dollars)')\n",
    "plt.tight_layout()\n",
    "plt.show()"
   ]
  },
  {
   "cell_type": "code",
   "execution_count": 69,
   "metadata": {},
   "outputs": [
    {
     "data": {
      "image/png": "[encoded data removed]",
      "text/plain": [
       "<Figure size 432x288 with 3 Axes>"
      ]
     },
     "metadata": {
      "needs_background": "light"
     },
     "output_type": "display_data"
    }
   ],
   "source": [
    "#Create subplots for Jul-2005 repayment status, the billed amount and the paid amount\n",
    "plt.subplot(3,1,1)\n",
    "plt.hist(credit['PAY_3'], bins = 5)\n",
    "plt.ylabel('Freq')\n",
    "plt.title('Jul. 2005, Repayment Status')\n",
    "plt.subplot(3,1,2)\n",
    "plt.hist(credit['BILL_AMT3'], bins = 5)\n",
    "plt.ylabel('Freq')\n",
    "plt.title('Jul. 2005, Bill (Dollars)')\n",
    "plt.subplot(3,1,3)\n",
    "plt.hist(credit['PAY_AMT3'], bins = 5)\n",
    "plt.ylabel('Freq')\n",
    "plt.title('Jul.2005, Paid (Dollars)')\n",
    "plt.tight_layout()\n",
    "plt.show()"
   ]
  },
  {
   "cell_type": "code",
   "execution_count": 70,
   "metadata": {},
   "outputs": [
    {
     "data": {
      "image/png": "[encoded data removed]",
      "text/plain": [
       "<Figure size 432x288 with 3 Axes>"
      ]
     },
     "metadata": {
      "needs_background": "light"
     },
     "output_type": "display_data"
    }
   ],
   "source": [
    "#Create subplots for Jun-2005 repayment status, the billed amount and the paid amount\n",
    "plt.subplot(3,1,1)\n",
    "plt.hist(credit['PAY_4'], bins = 5)\n",
    "plt.ylabel('Freq')\n",
    "plt.title('Jun. 2005, Repayment Status')\n",
    "plt.subplot(3,1,2)\n",
    "plt.hist(credit['BILL_AMT4'], bins = 5)\n",
    "plt.ylabel('Freq')\n",
    "plt.title('Jun. 2005, Bill (Dollars)')\n",
    "plt.subplot(3,1,3)\n",
    "plt.hist(credit['PAY_AMT4'], bins = 5)\n",
    "plt.ylabel('Freq')\n",
    "plt.title('Jun.2005, Paid (Dollars)')\n",
    "plt.tight_layout()\n",
    "plt.show()"
   ]
  },
  {
   "cell_type": "code",
   "execution_count": 71,
   "metadata": {},
   "outputs": [
    {
     "data": {
      "image/png": "[encoded data removed]",
      "text/plain": [
       "<Figure size 432x288 with 3 Axes>"
      ]
     },
     "metadata": {
      "needs_background": "light"
     },
     "output_type": "display_data"
    }
   ],
   "source": [
    "#Create subplots for May-2005 repayment status, the billed amount and the paid amount\n",
    "plt.subplot(3,1,1)\n",
    "plt.hist(credit['PAY_5'], bins = 5)\n",
    "plt.ylabel('Freq')\n",
    "plt.title('Jul. 2005, Repayment Status')\n",
    "plt.subplot(3,1,2)\n",
    "plt.hist(credit['BILL_AMT5'], bins = 5)\n",
    "plt.ylabel('Freq')\n",
    "plt.title('Jul. 2005, Bill (Dollars)')\n",
    "plt.subplot(3,1,3)\n",
    "plt.hist(credit['PAY_AMT5'], bins = 5)\n",
    "plt.ylabel('Freq')\n",
    "plt.title('Jul.2005, Paid (Dollars)')\n",
    "plt.tight_layout()\n",
    "plt.show()"
   ]
  },
  {
   "cell_type": "code",
   "execution_count": 72,
   "metadata": {},
   "outputs": [
    {
     "data": {
      "image/png": "[encoded data removed]",
      "text/plain": [
       "<Figure size 432x288 with 3 Axes>"
      ]
     },
     "metadata": {
      "needs_background": "light"
     },
     "output_type": "display_data"
    }
   ],
   "source": [
    "#Create subplots for Apr-2005 repayment status, the billed amount and the paid amount\n",
    "plt.subplot(3,1,1)\n",
    "plt.hist(credit['PAY_6'], bins = 5)\n",
    "plt.ylabel('frequency')\n",
    "plt.title('Apr. 2005, Repayment Status')\n",
    "plt.subplot(3,1,2)\n",
    "plt.hist(credit['BILL_AMT6'], bins = 5)\n",
    "plt.ylabel('frequency')\n",
    "plt.title('Apr. 2005, Bill (Dollars)')\n",
    "plt.subplot(3,1,3)\n",
    "plt.hist(credit['PAY_AMT6'], bins = 5)\n",
    "plt.ylabel('frequency')\n",
    "plt.title('Apr. 2005, Paid (Dollars)')\n",
    "plt.tight_layout()\n",
    "plt.show()"
   ]
  },
  {
   "cell_type": "code",
   "execution_count": 73,
   "metadata": {},
   "outputs": [
    {
     "data": {
      "image/png": "[encoded data removed]",
      "text/plain": [
       "<Figure size 432x288 with 4 Axes>"
      ]
     },
     "metadata": {
      "needs_background": "light"
     },
     "output_type": "display_data"
    }
   ],
   "source": [
    "#Create subplots for Sep-2005 repayment status, in boxplots\n",
    "plt.subplot(2,2,1)\n",
    "plt.boxplot(credit['PAY_1'],0,'gD')\n",
    "plt.ylabel('Repayment Status')\n",
    "plt.subplot(2,2,2)\n",
    "plt.boxplot(credit['PAY_2'],0,'gD')\n",
    "plt.subplot(2,2,3)\n",
    "plt.boxplot(credit['PAY_3'],0,'gD')\n",
    "plt.ylabel('Repayment Status')\n",
    "plt.subplot(2,2,4)\n",
    "plt.boxplot(credit['PAY_4'],0,'gD')\n",
    "plt.tight_layout()\n",
    "plt.show()"
   ]
  },
  {
   "cell_type": "code",
   "execution_count": 74,
   "metadata": {},
   "outputs": [
    {
     "data": {
      "image/png": "[encoded data removed]",
      "text/plain": [
       "<Figure size 432x288 with 4 Axes>"
      ]
     },
     "metadata": {
      "needs_background": "light"
     },
     "output_type": "display_data"
    }
   ],
   "source": [
    "#Create subplots for credits given, in boxplots\n",
    "plt.subplot(2,2,1)\n",
    "A = credit['BILL_AMT1']\n",
    "plt.boxplot(A,0,'gD')\n",
    "plt.ylabel('Credit (dollars)')\n",
    "plt.subplot(2,2,2)\n",
    "B = credit['BILL_AMT2']\n",
    "plt.boxplot(B,0,'gD')\n",
    "plt.ylabel('Credit (dollars)')\n",
    "plt.subplot(2,2,3)\n",
    "C = credit['BILL_AMT3']\n",
    "plt.boxplot(C,0,'gD')\n",
    "plt.ylabel('Credit (dollars)')\n",
    "plt.subplot(2,2,4)\n",
    "D = credit['BILL_AMT4']\n",
    "plt.boxplot(D,0,'gD')\n",
    "plt.ylabel('Credit (dollars)')\n",
    "plt.tight_layout()\n",
    "plt.show()"
   ]
  },
  {
   "cell_type": "code",
   "execution_count": 75,
   "metadata": {},
   "outputs": [
    {
     "data": {
      "image/png": "[encoded data removed]",
      "text/plain": [
       "<Figure size 432x288 with 4 Axes>"
      ]
     },
     "metadata": {
      "needs_background": "light"
     },
     "output_type": "display_data"
    }
   ],
   "source": [
    "#Create subplots for the credits given, in boxplots\n",
    "plt.subplot(2,2,1)\n",
    "E = credit['PAY_AMT1']\n",
    "plt.boxplot(E,0,'gD')\n",
    "plt.ylabel('Credit (dollars)')\n",
    "plt.subplot(2,2,2)\n",
    "F = credit['PAY_AMT2']\n",
    "plt.boxplot(F,0,'gD')\n",
    "plt.ylabel('Credit (dollars)')\n",
    "plt.subplot(2,2,3)\n",
    "G = credit['PAY_AMT3']\n",
    "plt.boxplot(G,0,'gD')\n",
    "plt.ylabel('Credit (dollars)')\n",
    "plt.subplot(2,2,4)\n",
    "H = credit['PAY_AMT4']\n",
    "plt.boxplot(H,0,'gD')\n",
    "plt.ylabel('Credit (dollars)')\n",
    "plt.tight_layout()\n",
    "plt.show()"
   ]
  }
 ],
 "metadata": {
  "kernelspec": {
   "display_name": "Python 3",
   "language": "python",
   "name": "python3"
  },
  "language_info": {
   "codemirror_mode": {
    "name": "ipython",
    "version": 3
   },
   "file_extension": ".py",
   "mimetype": "text/x-python",
   "name": "python",
   "nbconvert_exporter": "python",
   "pygments_lexer": "ipython3",
   "version": "3.7.4"
  }
 },
 "nbformat": 4,
 "nbformat_minor": 2
}
